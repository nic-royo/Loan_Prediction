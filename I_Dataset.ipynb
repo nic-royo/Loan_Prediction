{
  "nbformat": 4,
  "nbformat_minor": 0,
  "metadata": {
    "colab": {
      "name": "I_Dataset.ipynb",
      "provenance": [],
      "collapsed_sections": []
    },
    "kernelspec": {
      "name": "python3",
      "display_name": "Python 3"
    },
    "language_info": {
      "name": "python"
    }
  },
  "cells": [
    {
      "cell_type": "code",
      "metadata": {
        "id": "az0lpGc9oAYx"
      },
      "source": [
        "%matplotlib inline"
      ],
      "execution_count": 68,
      "outputs": []
    },
    {
      "cell_type": "markdown",
      "metadata": {
        "id": "qSu161T4WpP1"
      },
      "source": [
        "I will import first the libraries I believe I will be using, I will start with these and add more as I progress"
      ]
    },
    {
      "cell_type": "code",
      "metadata": {
        "id": "IUxswUKNsP6i"
      },
      "source": [
        "import pandas as pd\n",
        "import matplotlib as mpl\n",
        "import matplotlib.pyplot as plt\n",
        "import numpy as np\n",
        "from scipy import stats\n",
        "import seaborn as sns"
      ],
      "execution_count": 69,
      "outputs": []
    },
    {
      "cell_type": "markdown",
      "metadata": {
        "id": "duKmFlW5Vnrd"
      },
      "source": [
        "# Import the data\n",
        "There are three files I have for usage. \n",
        "\n",
        "*   The first, used here, is the training data file which has users with several features describing them, and a risk flag (which is either 1 (person defaulted) or 0 (person did not default)) which says whether the individual has defaulted in the past.\n",
        "\n",
        "*   The second is the test data dataset, which includes new id's and their features but no risk default, with this data set I will predict possible defaulting individuals.\n",
        "\n"
      ]
    },
    {
      "cell_type": "markdown",
      "metadata": {
        "id": "bfHtK7NQW5rM"
      },
      "source": [
        "#Questions\n",
        "\n",
        "\n",
        "*   How important can it be to define types here\n",
        "\n",
        "*   Are Married/Single, House and Car Ownership categorical types\n",
        "\n",
        "*   Is profession a string, there are multiple\n",
        "\n",
        "*   Is risk flag an integer, values are 0 or 1, but can this be more efficient if used as a boolean\n",
        "\n",
        "*   Is it smarter to write more info about integer types?\n",
        "\n",
        "*   None of these seem to be ordered categorical, make sure that is correct \n",
        "\n",
        "* As my supervisor, can I actually ask for help in clarification or is that my responsibility, to do research and find out the answer. "
      ]
    },
    {
      "cell_type": "code",
      "metadata": {
        "colab": {
          "base_uri": "https://localhost:8080/",
          "height": 468
        },
        "id": "YFamHUjOR3av",
        "outputId": "85530f71-ec4f-4fd5-f670-a151040c6514"
      },
      "source": [
        "#ASK QUESTIONS FOR THIS ONE:\n",
        "df = pd.read_csv(\"Training Data.csv\", index_col = 0, \n",
        "                 dtype={'Income': int, 'Age': int,\n",
        "                        'Experience': int, 'Married/Single': 'category',\n",
        "                        'House_Ownership': 'category', 'Car_Ownership': 'category',\n",
        "                        'Profession': 'string', 'CITY': 'string',\n",
        "                        'STATE': 'string', 'CURRENT_JOB_YRS': int,\n",
        "                        'CURRENT_JOB_YRS': int, 'CURRENT_HOUSE_YRS': int,\n",
        "                        'Risk_Flag': int\t\n",
        "                        },\n",
        "                 na_values = ['n/a', ' ', '', '-']\n",
        "                 )\n",
        "print('the set has {} rows and {} columns'.format(df.shape[0], df.shape[1]))\n",
        "\n",
        "df"
      ],
      "execution_count": 70,
      "outputs": [
        {
          "output_type": "stream",
          "name": "stdout",
          "text": [
            "the set has 252000 rows and 12 columns\n"
          ]
        },
        {
          "output_type": "execute_result",
          "data": {
            "text/html": [
              "<div>\n",
              "<style scoped>\n",
              "    .dataframe tbody tr th:only-of-type {\n",
              "        vertical-align: middle;\n",
              "    }\n",
              "\n",
              "    .dataframe tbody tr th {\n",
              "        vertical-align: top;\n",
              "    }\n",
              "\n",
              "    .dataframe thead th {\n",
              "        text-align: right;\n",
              "    }\n",
              "</style>\n",
              "<table border=\"1\" class=\"dataframe\">\n",
              "  <thead>\n",
              "    <tr style=\"text-align: right;\">\n",
              "      <th></th>\n",
              "      <th>Income</th>\n",
              "      <th>Age</th>\n",
              "      <th>Experience</th>\n",
              "      <th>Married/Single</th>\n",
              "      <th>House_Ownership</th>\n",
              "      <th>Car_Ownership</th>\n",
              "      <th>Profession</th>\n",
              "      <th>CITY</th>\n",
              "      <th>STATE</th>\n",
              "      <th>CURRENT_JOB_YRS</th>\n",
              "      <th>CURRENT_HOUSE_YRS</th>\n",
              "      <th>Risk_Flag</th>\n",
              "    </tr>\n",
              "    <tr>\n",
              "      <th>Id</th>\n",
              "      <th></th>\n",
              "      <th></th>\n",
              "      <th></th>\n",
              "      <th></th>\n",
              "      <th></th>\n",
              "      <th></th>\n",
              "      <th></th>\n",
              "      <th></th>\n",
              "      <th></th>\n",
              "      <th></th>\n",
              "      <th></th>\n",
              "      <th></th>\n",
              "    </tr>\n",
              "  </thead>\n",
              "  <tbody>\n",
              "    <tr>\n",
              "      <th>1</th>\n",
              "      <td>1303834</td>\n",
              "      <td>23</td>\n",
              "      <td>3</td>\n",
              "      <td>single</td>\n",
              "      <td>rented</td>\n",
              "      <td>no</td>\n",
              "      <td>Mechanical_engineer</td>\n",
              "      <td>Rewa</td>\n",
              "      <td>Madhya_Pradesh</td>\n",
              "      <td>3</td>\n",
              "      <td>13</td>\n",
              "      <td>0</td>\n",
              "    </tr>\n",
              "    <tr>\n",
              "      <th>2</th>\n",
              "      <td>7574516</td>\n",
              "      <td>40</td>\n",
              "      <td>10</td>\n",
              "      <td>single</td>\n",
              "      <td>rented</td>\n",
              "      <td>no</td>\n",
              "      <td>Software_Developer</td>\n",
              "      <td>Parbhani</td>\n",
              "      <td>Maharashtra</td>\n",
              "      <td>9</td>\n",
              "      <td>13</td>\n",
              "      <td>0</td>\n",
              "    </tr>\n",
              "    <tr>\n",
              "      <th>3</th>\n",
              "      <td>3991815</td>\n",
              "      <td>66</td>\n",
              "      <td>4</td>\n",
              "      <td>married</td>\n",
              "      <td>rented</td>\n",
              "      <td>no</td>\n",
              "      <td>Technical_writer</td>\n",
              "      <td>Alappuzha</td>\n",
              "      <td>Kerala</td>\n",
              "      <td>4</td>\n",
              "      <td>10</td>\n",
              "      <td>0</td>\n",
              "    </tr>\n",
              "    <tr>\n",
              "      <th>4</th>\n",
              "      <td>6256451</td>\n",
              "      <td>41</td>\n",
              "      <td>2</td>\n",
              "      <td>single</td>\n",
              "      <td>rented</td>\n",
              "      <td>yes</td>\n",
              "      <td>Software_Developer</td>\n",
              "      <td>Bhubaneswar</td>\n",
              "      <td>Odisha</td>\n",
              "      <td>2</td>\n",
              "      <td>12</td>\n",
              "      <td>1</td>\n",
              "    </tr>\n",
              "    <tr>\n",
              "      <th>5</th>\n",
              "      <td>5768871</td>\n",
              "      <td>47</td>\n",
              "      <td>11</td>\n",
              "      <td>single</td>\n",
              "      <td>rented</td>\n",
              "      <td>no</td>\n",
              "      <td>Civil_servant</td>\n",
              "      <td>Tiruchirappalli[10]</td>\n",
              "      <td>Tamil_Nadu</td>\n",
              "      <td>3</td>\n",
              "      <td>14</td>\n",
              "      <td>1</td>\n",
              "    </tr>\n",
              "    <tr>\n",
              "      <th>...</th>\n",
              "      <td>...</td>\n",
              "      <td>...</td>\n",
              "      <td>...</td>\n",
              "      <td>...</td>\n",
              "      <td>...</td>\n",
              "      <td>...</td>\n",
              "      <td>...</td>\n",
              "      <td>...</td>\n",
              "      <td>...</td>\n",
              "      <td>...</td>\n",
              "      <td>...</td>\n",
              "      <td>...</td>\n",
              "    </tr>\n",
              "    <tr>\n",
              "      <th>251996</th>\n",
              "      <td>8154883</td>\n",
              "      <td>43</td>\n",
              "      <td>13</td>\n",
              "      <td>single</td>\n",
              "      <td>rented</td>\n",
              "      <td>no</td>\n",
              "      <td>Surgeon</td>\n",
              "      <td>Kolkata</td>\n",
              "      <td>West_Bengal</td>\n",
              "      <td>6</td>\n",
              "      <td>11</td>\n",
              "      <td>0</td>\n",
              "    </tr>\n",
              "    <tr>\n",
              "      <th>251997</th>\n",
              "      <td>2843572</td>\n",
              "      <td>26</td>\n",
              "      <td>10</td>\n",
              "      <td>single</td>\n",
              "      <td>rented</td>\n",
              "      <td>no</td>\n",
              "      <td>Army_officer</td>\n",
              "      <td>Rewa</td>\n",
              "      <td>Madhya_Pradesh</td>\n",
              "      <td>6</td>\n",
              "      <td>11</td>\n",
              "      <td>0</td>\n",
              "    </tr>\n",
              "    <tr>\n",
              "      <th>251998</th>\n",
              "      <td>4522448</td>\n",
              "      <td>46</td>\n",
              "      <td>7</td>\n",
              "      <td>single</td>\n",
              "      <td>rented</td>\n",
              "      <td>no</td>\n",
              "      <td>Design_Engineer</td>\n",
              "      <td>Kalyan-Dombivli</td>\n",
              "      <td>Maharashtra</td>\n",
              "      <td>7</td>\n",
              "      <td>12</td>\n",
              "      <td>0</td>\n",
              "    </tr>\n",
              "    <tr>\n",
              "      <th>251999</th>\n",
              "      <td>6507128</td>\n",
              "      <td>45</td>\n",
              "      <td>0</td>\n",
              "      <td>single</td>\n",
              "      <td>rented</td>\n",
              "      <td>no</td>\n",
              "      <td>Graphic_Designer</td>\n",
              "      <td>Pondicherry</td>\n",
              "      <td>Puducherry</td>\n",
              "      <td>0</td>\n",
              "      <td>10</td>\n",
              "      <td>0</td>\n",
              "    </tr>\n",
              "    <tr>\n",
              "      <th>252000</th>\n",
              "      <td>9070230</td>\n",
              "      <td>70</td>\n",
              "      <td>17</td>\n",
              "      <td>single</td>\n",
              "      <td>rented</td>\n",
              "      <td>no</td>\n",
              "      <td>Statistician</td>\n",
              "      <td>Avadi</td>\n",
              "      <td>Tamil_Nadu</td>\n",
              "      <td>7</td>\n",
              "      <td>11</td>\n",
              "      <td>0</td>\n",
              "    </tr>\n",
              "  </tbody>\n",
              "</table>\n",
              "<p>252000 rows × 12 columns</p>\n",
              "</div>"
            ],
            "text/plain": [
              "         Income  Age  Experience  ... CURRENT_JOB_YRS CURRENT_HOUSE_YRS Risk_Flag\n",
              "Id                                ...                                            \n",
              "1       1303834   23           3  ...               3                13         0\n",
              "2       7574516   40          10  ...               9                13         0\n",
              "3       3991815   66           4  ...               4                10         0\n",
              "4       6256451   41           2  ...               2                12         1\n",
              "5       5768871   47          11  ...               3                14         1\n",
              "...         ...  ...         ...  ...             ...               ...       ...\n",
              "251996  8154883   43          13  ...               6                11         0\n",
              "251997  2843572   26          10  ...               6                11         0\n",
              "251998  4522448   46           7  ...               7                12         0\n",
              "251999  6507128   45           0  ...               0                10         0\n",
              "252000  9070230   70          17  ...               7                11         0\n",
              "\n",
              "[252000 rows x 12 columns]"
            ]
          },
          "metadata": {},
          "execution_count": 70
        }
      ]
    },
    {
      "cell_type": "markdown",
      "metadata": {
        "id": "PmZTcZP3f1aW"
      },
      "source": [
        "I am manually typing the variable data types as six of them are otherwise objects.\n",
        "\n",
        "I am also creating some new missing values to avoid missing any when I search for them below\n",
        "\n"
      ]
    },
    {
      "cell_type": "code",
      "metadata": {
        "id": "OUYsRKuUfwl_"
      },
      "source": [
        "#I can use df.dtypes.value_counts() to show the frequency of each data type,\n",
        "# which could be useful if I didn't label the data types manually.\n",
        "\n",
        "# The result of df.dtypes.value_counts() is 6 int64 and 6 object types"
      ],
      "execution_count": 71,
      "outputs": []
    },
    {
      "cell_type": "markdown",
      "metadata": {
        "id": "v9YOEkujakur"
      },
      "source": [
        "#Describe Numericals\n",
        "\n",
        "Using the describe() method, I can see some important details including:    \n",
        "\n",
        "*  The risk flag mean is 0.12, meaning that **most individuals are defaulters**. Standard deviation is 0.32 however\n",
        "\n",
        "* Income mean is quite high, and the max is so as well, but the min is extremely low (10310 Indian Rupees are 140 USD approximately) \n",
        "\n",
        "* Age is appropriately dispersed\n",
        "\n",
        "* The **categorical and string variables are not displayed** (Marriage, house and car ownership,  proffesion, city and state), I will explore them with other methods  later\n",
        "\n"
      ]
    },
    {
      "cell_type": "code",
      "metadata": {
        "colab": {
          "base_uri": "https://localhost:8080/",
          "height": 297
        },
        "id": "UF8f-Wj9ah8v",
        "outputId": "7a86087b-6b1d-41ca-e7c7-d2fa2ea77c03"
      },
      "source": [
        "df.describe()"
      ],
      "execution_count": 72,
      "outputs": [
        {
          "output_type": "execute_result",
          "data": {
            "text/html": [
              "<div>\n",
              "<style scoped>\n",
              "    .dataframe tbody tr th:only-of-type {\n",
              "        vertical-align: middle;\n",
              "    }\n",
              "\n",
              "    .dataframe tbody tr th {\n",
              "        vertical-align: top;\n",
              "    }\n",
              "\n",
              "    .dataframe thead th {\n",
              "        text-align: right;\n",
              "    }\n",
              "</style>\n",
              "<table border=\"1\" class=\"dataframe\">\n",
              "  <thead>\n",
              "    <tr style=\"text-align: right;\">\n",
              "      <th></th>\n",
              "      <th>Income</th>\n",
              "      <th>Age</th>\n",
              "      <th>Experience</th>\n",
              "      <th>CURRENT_JOB_YRS</th>\n",
              "      <th>CURRENT_HOUSE_YRS</th>\n",
              "      <th>Risk_Flag</th>\n",
              "    </tr>\n",
              "  </thead>\n",
              "  <tbody>\n",
              "    <tr>\n",
              "      <th>count</th>\n",
              "      <td>2.520000e+05</td>\n",
              "      <td>252000.000000</td>\n",
              "      <td>252000.000000</td>\n",
              "      <td>252000.000000</td>\n",
              "      <td>252000.000000</td>\n",
              "      <td>252000.000000</td>\n",
              "    </tr>\n",
              "    <tr>\n",
              "      <th>mean</th>\n",
              "      <td>4.997117e+06</td>\n",
              "      <td>49.954071</td>\n",
              "      <td>10.084437</td>\n",
              "      <td>6.333877</td>\n",
              "      <td>11.997794</td>\n",
              "      <td>0.123000</td>\n",
              "    </tr>\n",
              "    <tr>\n",
              "      <th>std</th>\n",
              "      <td>2.878311e+06</td>\n",
              "      <td>17.063855</td>\n",
              "      <td>6.002590</td>\n",
              "      <td>3.647053</td>\n",
              "      <td>1.399037</td>\n",
              "      <td>0.328438</td>\n",
              "    </tr>\n",
              "    <tr>\n",
              "      <th>min</th>\n",
              "      <td>1.031000e+04</td>\n",
              "      <td>21.000000</td>\n",
              "      <td>0.000000</td>\n",
              "      <td>0.000000</td>\n",
              "      <td>10.000000</td>\n",
              "      <td>0.000000</td>\n",
              "    </tr>\n",
              "    <tr>\n",
              "      <th>25%</th>\n",
              "      <td>2.503015e+06</td>\n",
              "      <td>35.000000</td>\n",
              "      <td>5.000000</td>\n",
              "      <td>3.000000</td>\n",
              "      <td>11.000000</td>\n",
              "      <td>0.000000</td>\n",
              "    </tr>\n",
              "    <tr>\n",
              "      <th>50%</th>\n",
              "      <td>5.000694e+06</td>\n",
              "      <td>50.000000</td>\n",
              "      <td>10.000000</td>\n",
              "      <td>6.000000</td>\n",
              "      <td>12.000000</td>\n",
              "      <td>0.000000</td>\n",
              "    </tr>\n",
              "    <tr>\n",
              "      <th>75%</th>\n",
              "      <td>7.477502e+06</td>\n",
              "      <td>65.000000</td>\n",
              "      <td>15.000000</td>\n",
              "      <td>9.000000</td>\n",
              "      <td>13.000000</td>\n",
              "      <td>0.000000</td>\n",
              "    </tr>\n",
              "    <tr>\n",
              "      <th>max</th>\n",
              "      <td>9.999938e+06</td>\n",
              "      <td>79.000000</td>\n",
              "      <td>20.000000</td>\n",
              "      <td>14.000000</td>\n",
              "      <td>14.000000</td>\n",
              "      <td>1.000000</td>\n",
              "    </tr>\n",
              "  </tbody>\n",
              "</table>\n",
              "</div>"
            ],
            "text/plain": [
              "             Income            Age  ...  CURRENT_HOUSE_YRS      Risk_Flag\n",
              "count  2.520000e+05  252000.000000  ...      252000.000000  252000.000000\n",
              "mean   4.997117e+06      49.954071  ...          11.997794       0.123000\n",
              "std    2.878311e+06      17.063855  ...           1.399037       0.328438\n",
              "min    1.031000e+04      21.000000  ...          10.000000       0.000000\n",
              "25%    2.503015e+06      35.000000  ...          11.000000       0.000000\n",
              "50%    5.000694e+06      50.000000  ...          12.000000       0.000000\n",
              "75%    7.477502e+06      65.000000  ...          13.000000       0.000000\n",
              "max    9.999938e+06      79.000000  ...          14.000000       1.000000\n",
              "\n",
              "[8 rows x 6 columns]"
            ]
          },
          "metadata": {},
          "execution_count": 72
        }
      ]
    },
    {
      "cell_type": "markdown",
      "metadata": {
        "id": "7jcPXrJbk38w"
      },
      "source": [
        "#Describe Categoricals\n",
        "\n",
        "Here I can describe the categorical variables.\n",
        "\n",
        "Some important thigns to remember:     \n",
        "* **top** is the most common value\n",
        "\n",
        "* **freq** is the frequency of the most common value\n",
        "\n",
        "* There are 51 different professions displayed, 317 different cities, 29 states\n",
        "\n",
        "* I can use *df.describe(include='all')* to display all columns including numerical and categorical data types"
      ]
    },
    {
      "cell_type": "code",
      "metadata": {
        "colab": {
          "base_uri": "https://localhost:8080/",
          "height": 173
        },
        "id": "J4qxvaz0k2Ze",
        "outputId": "d2c73124-d5ab-4b8a-9a35-75fab48257d1"
      },
      "source": [
        "categorical_info = df[['Married/Single','House_Ownership', 'Car_Ownership',\n",
        "                        'Profession', 'CITY', 'STATE']].describe()\n",
        "\n",
        "categorical_info"
      ],
      "execution_count": 73,
      "outputs": [
        {
          "output_type": "execute_result",
          "data": {
            "text/html": [
              "<div>\n",
              "<style scoped>\n",
              "    .dataframe tbody tr th:only-of-type {\n",
              "        vertical-align: middle;\n",
              "    }\n",
              "\n",
              "    .dataframe tbody tr th {\n",
              "        vertical-align: top;\n",
              "    }\n",
              "\n",
              "    .dataframe thead th {\n",
              "        text-align: right;\n",
              "    }\n",
              "</style>\n",
              "<table border=\"1\" class=\"dataframe\">\n",
              "  <thead>\n",
              "    <tr style=\"text-align: right;\">\n",
              "      <th></th>\n",
              "      <th>Married/Single</th>\n",
              "      <th>House_Ownership</th>\n",
              "      <th>Car_Ownership</th>\n",
              "      <th>Profession</th>\n",
              "      <th>CITY</th>\n",
              "      <th>STATE</th>\n",
              "    </tr>\n",
              "  </thead>\n",
              "  <tbody>\n",
              "    <tr>\n",
              "      <th>count</th>\n",
              "      <td>252000</td>\n",
              "      <td>252000</td>\n",
              "      <td>252000</td>\n",
              "      <td>252000</td>\n",
              "      <td>252000</td>\n",
              "      <td>252000</td>\n",
              "    </tr>\n",
              "    <tr>\n",
              "      <th>unique</th>\n",
              "      <td>2</td>\n",
              "      <td>3</td>\n",
              "      <td>2</td>\n",
              "      <td>51</td>\n",
              "      <td>317</td>\n",
              "      <td>29</td>\n",
              "    </tr>\n",
              "    <tr>\n",
              "      <th>top</th>\n",
              "      <td>single</td>\n",
              "      <td>rented</td>\n",
              "      <td>no</td>\n",
              "      <td>Physician</td>\n",
              "      <td>Vijayanagaram</td>\n",
              "      <td>Uttar_Pradesh</td>\n",
              "    </tr>\n",
              "    <tr>\n",
              "      <th>freq</th>\n",
              "      <td>226272</td>\n",
              "      <td>231898</td>\n",
              "      <td>176000</td>\n",
              "      <td>5957</td>\n",
              "      <td>1259</td>\n",
              "      <td>28400</td>\n",
              "    </tr>\n",
              "  </tbody>\n",
              "</table>\n",
              "</div>"
            ],
            "text/plain": [
              "       Married/Single House_Ownership  ...           CITY          STATE\n",
              "count          252000          252000  ...         252000         252000\n",
              "unique              2               3  ...            317             29\n",
              "top            single          rented  ...  Vijayanagaram  Uttar_Pradesh\n",
              "freq           226272          231898  ...           1259          28400\n",
              "\n",
              "[4 rows x 6 columns]"
            ]
          },
          "metadata": {},
          "execution_count": 73
        }
      ]
    },
    {
      "cell_type": "markdown",
      "metadata": {
        "id": "SnNMbHfhaZYW"
      },
      "source": [
        "Check which variables are numerical and categorical, they are all numerical\n",
        "\n",
        "**(Check if this is correct)** because shouldnt strings and categoricals be categorical? "
      ]
    },
    {
      "cell_type": "code",
      "metadata": {
        "colab": {
          "base_uri": "https://localhost:8080/"
        },
        "id": "Ty_Bg5iuZN3r",
        "outputId": "5d3603ac-5072-470d-db27-dec35f22482b"
      },
      "source": [
        "numerical_variables = df.columns[df.dtypes != 'object']\n",
        "categorical_variables = df.columns[df.dtypes == 'object']\n",
        "\n",
        "print(numerical_variables)\n",
        "print(categorical_variables)"
      ],
      "execution_count": 74,
      "outputs": [
        {
          "output_type": "stream",
          "name": "stdout",
          "text": [
            "Index(['Income', 'Age', 'Experience', 'Married/Single', 'House_Ownership',\n",
            "       'Car_Ownership', 'Profession', 'CITY', 'STATE', 'CURRENT_JOB_YRS',\n",
            "       'CURRENT_HOUSE_YRS', 'Risk_Flag'],\n",
            "      dtype='object')\n",
            "Index([], dtype='object')\n"
          ]
        }
      ]
    },
    {
      "cell_type": "markdown",
      "metadata": {
        "id": "zg54EM3xdkSJ"
      },
      "source": [
        "#Missing Values\n",
        "Check out missing values, seem to be no NA fields not fields with missing values (isnull), \n",
        "\n",
        "* *Use the sort_values() function to sort columns in descending order, like this df.isna().sum().sort_values()*\n",
        "\n",
        "* *Divide this by len(df) to get the percentage of missing values like this df.isna().sum().sort_values()/len(df)*"
      ]
    },
    {
      "cell_type": "code",
      "metadata": {
        "colab": {
          "base_uri": "https://localhost:8080/"
        },
        "id": "yQpflNt2Y_Xr",
        "outputId": "8ae699cc-cb3a-4e58-d221-0bf4b4f13579"
      },
      "source": [
        "na_values = df.isna().sum()\n",
        "\n",
        "na_values"
      ],
      "execution_count": 75,
      "outputs": [
        {
          "output_type": "execute_result",
          "data": {
            "text/plain": [
              "Income               0\n",
              "Age                  0\n",
              "Experience           0\n",
              "Married/Single       0\n",
              "House_Ownership      0\n",
              "Car_Ownership        0\n",
              "Profession           0\n",
              "CITY                 0\n",
              "STATE                0\n",
              "CURRENT_JOB_YRS      0\n",
              "CURRENT_HOUSE_YRS    0\n",
              "Risk_Flag            0\n",
              "dtype: int64"
            ]
          },
          "metadata": {},
          "execution_count": 75
        }
      ]
    },
    {
      "cell_type": "code",
      "metadata": {
        "colab": {
          "base_uri": "https://localhost:8080/"
        },
        "id": "kOVzZ7ZBghDd",
        "outputId": "d9781657-daf5-4485-aebd-1ec004edc4de"
      },
      "source": [
        "isnull_values = df.isnull().sum()\n",
        "\n",
        "isnull_values"
      ],
      "execution_count": 76,
      "outputs": [
        {
          "output_type": "execute_result",
          "data": {
            "text/plain": [
              "Income               0\n",
              "Age                  0\n",
              "Experience           0\n",
              "Married/Single       0\n",
              "House_Ownership      0\n",
              "Car_Ownership        0\n",
              "Profession           0\n",
              "CITY                 0\n",
              "STATE                0\n",
              "CURRENT_JOB_YRS      0\n",
              "CURRENT_HOUSE_YRS    0\n",
              "Risk_Flag            0\n",
              "dtype: int64"
            ]
          },
          "metadata": {},
          "execution_count": 76
        }
      ]
    },
    {
      "cell_type": "markdown",
      "metadata": {
        "id": "GWJ7v31OjZTG"
      },
      "source": [
        "#Pearson Correlation\n",
        "\n",
        "**Ask Dr. Buchan what methods for correlation are good when**. (use corr() or something else, since Risk_Flag only has two numbers, what chart or method can I use to correlate it) \n",
        "\n",
        "I will start using the **corr()** method with the '**pearson**' method until I find out which methods are better (kendall maybe).\n",
        "\n",
        "* The pearson method measures the strenght of the linear relationship between two variables, it goes from -1 to 1, -1 means negative linera correlation, 0 means there is no correlation, 1 means there is a total positive correlation (*Nettleton, D. (2014). Selection of Variables and Factor Derivation. In Commercial Data Mining Processing, analysis and modeling for Predictive Analytics Projects. essay, Elsevier. *)\n",
        "\n",
        "* If I read categorical variables as explict categories I can use corr() to find the correlation with them and Risk_Flag\n",
        "\n"
      ]
    },
    {
      "cell_type": "code",
      "metadata": {
        "colab": {
          "base_uri": "https://localhost:8080/",
          "height": 422
        },
        "id": "wAlfYaa0hTSw",
        "outputId": "943eefa1-ade6-4b39-e729-7363826aa027"
      },
      "source": [
        "#Can also do one by one with print(df['Income'].corr(df['Risk_Flag'])) for example\n",
        "#I can use the kendall method as welldf.corr(method ='kendall')\n",
        "\n",
        "df['Married/Single']=df['Married/Single'].astype('category').cat.codes\n",
        "df['House_Ownership']=df['House_Ownership'].astype('category').cat.codes\n",
        "df['Car_Ownership']=df['Car_Ownership'].astype('category').cat.codes\n",
        "df['Profession']=df['Profession'].astype('category').cat.codes\n",
        "df['CITY']=df['CITY'].astype('category').cat.codes\n",
        "df['STATE']=df['STATE'].astype('category').cat.codes\n",
        "\n",
        "df['Risk_Flag']=df['Risk_Flag'].astype('category').cat.codes\n",
        "df.corr(method = 'pearson')\n",
        "\n",
        "#Other methods to use are the following:\n",
        "#df.corr()\n",
        "#df.corr(method = 'kendall')\n",
        "\n"
      ],
      "execution_count": 111,
      "outputs": [
        {
          "output_type": "execute_result",
          "data": {
            "text/html": [
              "<div>\n",
              "<style scoped>\n",
              "    .dataframe tbody tr th:only-of-type {\n",
              "        vertical-align: middle;\n",
              "    }\n",
              "\n",
              "    .dataframe tbody tr th {\n",
              "        vertical-align: top;\n",
              "    }\n",
              "\n",
              "    .dataframe thead th {\n",
              "        text-align: right;\n",
              "    }\n",
              "</style>\n",
              "<table border=\"1\" class=\"dataframe\">\n",
              "  <thead>\n",
              "    <tr style=\"text-align: right;\">\n",
              "      <th></th>\n",
              "      <th>Income</th>\n",
              "      <th>Age</th>\n",
              "      <th>Experience</th>\n",
              "      <th>Married/Single</th>\n",
              "      <th>House_Ownership</th>\n",
              "      <th>Car_Ownership</th>\n",
              "      <th>Profession</th>\n",
              "      <th>CITY</th>\n",
              "      <th>STATE</th>\n",
              "      <th>CURRENT_JOB_YRS</th>\n",
              "      <th>CURRENT_HOUSE_YRS</th>\n",
              "      <th>Risk_Flag</th>\n",
              "    </tr>\n",
              "  </thead>\n",
              "  <tbody>\n",
              "    <tr>\n",
              "      <th>Income</th>\n",
              "      <td>1.000000</td>\n",
              "      <td>-0.000652</td>\n",
              "      <td>0.006422</td>\n",
              "      <td>0.002682</td>\n",
              "      <td>0.016433</td>\n",
              "      <td>0.004068</td>\n",
              "      <td>0.000725</td>\n",
              "      <td>-0.001919</td>\n",
              "      <td>-0.004067</td>\n",
              "      <td>0.007045</td>\n",
              "      <td>-0.002397</td>\n",
              "      <td>-0.003091</td>\n",
              "    </tr>\n",
              "    <tr>\n",
              "      <th>Age</th>\n",
              "      <td>-0.000652</td>\n",
              "      <td>1.000000</td>\n",
              "      <td>-0.001118</td>\n",
              "      <td>-0.005323</td>\n",
              "      <td>-0.009820</td>\n",
              "      <td>0.009395</td>\n",
              "      <td>-0.008551</td>\n",
              "      <td>0.002104</td>\n",
              "      <td>-0.004985</td>\n",
              "      <td>0.002154</td>\n",
              "      <td>-0.020134</td>\n",
              "      <td>-0.021809</td>\n",
              "    </tr>\n",
              "    <tr>\n",
              "      <th>Experience</th>\n",
              "      <td>0.006422</td>\n",
              "      <td>-0.001118</td>\n",
              "      <td>1.000000</td>\n",
              "      <td>-0.001752</td>\n",
              "      <td>-0.007912</td>\n",
              "      <td>0.007519</td>\n",
              "      <td>0.000975</td>\n",
              "      <td>-0.025703</td>\n",
              "      <td>-0.001251</td>\n",
              "      <td>0.646098</td>\n",
              "      <td>0.019309</td>\n",
              "      <td>-0.034523</td>\n",
              "    </tr>\n",
              "    <tr>\n",
              "      <th>Married/Single</th>\n",
              "      <td>0.002682</td>\n",
              "      <td>-0.005323</td>\n",
              "      <td>-0.001752</td>\n",
              "      <td>1.000000</td>\n",
              "      <td>-0.022501</td>\n",
              "      <td>0.001206</td>\n",
              "      <td>-0.007534</td>\n",
              "      <td>0.012280</td>\n",
              "      <td>-0.009477</td>\n",
              "      <td>0.004251</td>\n",
              "      <td>-0.007539</td>\n",
              "      <td>0.021092</td>\n",
              "    </tr>\n",
              "    <tr>\n",
              "      <th>House_Ownership</th>\n",
              "      <td>0.016433</td>\n",
              "      <td>-0.009820</td>\n",
              "      <td>-0.007912</td>\n",
              "      <td>-0.022501</td>\n",
              "      <td>1.000000</td>\n",
              "      <td>-0.001233</td>\n",
              "      <td>0.001242</td>\n",
              "      <td>-0.014447</td>\n",
              "      <td>-0.007792</td>\n",
              "      <td>-0.009790</td>\n",
              "      <td>-0.005618</td>\n",
              "      <td>0.023622</td>\n",
              "    </tr>\n",
              "    <tr>\n",
              "      <th>Car_Ownership</th>\n",
              "      <td>0.004068</td>\n",
              "      <td>0.009395</td>\n",
              "      <td>0.007519</td>\n",
              "      <td>0.001206</td>\n",
              "      <td>-0.001233</td>\n",
              "      <td>1.000000</td>\n",
              "      <td>0.011887</td>\n",
              "      <td>0.001648</td>\n",
              "      <td>0.026000</td>\n",
              "      <td>0.011099</td>\n",
              "      <td>0.000251</td>\n",
              "      <td>-0.024036</td>\n",
              "    </tr>\n",
              "    <tr>\n",
              "      <th>Profession</th>\n",
              "      <td>0.000725</td>\n",
              "      <td>-0.008551</td>\n",
              "      <td>0.000975</td>\n",
              "      <td>-0.007534</td>\n",
              "      <td>0.001242</td>\n",
              "      <td>0.011887</td>\n",
              "      <td>1.000000</td>\n",
              "      <td>0.018852</td>\n",
              "      <td>0.001557</td>\n",
              "      <td>-0.004536</td>\n",
              "      <td>0.001954</td>\n",
              "      <td>-0.004900</td>\n",
              "    </tr>\n",
              "    <tr>\n",
              "      <th>CITY</th>\n",
              "      <td>-0.001919</td>\n",
              "      <td>0.002104</td>\n",
              "      <td>-0.025703</td>\n",
              "      <td>0.012280</td>\n",
              "      <td>-0.014447</td>\n",
              "      <td>0.001648</td>\n",
              "      <td>0.018852</td>\n",
              "      <td>1.000000</td>\n",
              "      <td>-0.038040</td>\n",
              "      <td>-0.027353</td>\n",
              "      <td>-0.010654</td>\n",
              "      <td>0.004575</td>\n",
              "    </tr>\n",
              "    <tr>\n",
              "      <th>STATE</th>\n",
              "      <td>-0.004067</td>\n",
              "      <td>-0.004985</td>\n",
              "      <td>-0.001251</td>\n",
              "      <td>-0.009477</td>\n",
              "      <td>-0.007792</td>\n",
              "      <td>0.026000</td>\n",
              "      <td>0.001557</td>\n",
              "      <td>-0.038040</td>\n",
              "      <td>1.000000</td>\n",
              "      <td>0.008745</td>\n",
              "      <td>0.007281</td>\n",
              "      <td>-0.003401</td>\n",
              "    </tr>\n",
              "    <tr>\n",
              "      <th>CURRENT_JOB_YRS</th>\n",
              "      <td>0.007045</td>\n",
              "      <td>0.002154</td>\n",
              "      <td>0.646098</td>\n",
              "      <td>0.004251</td>\n",
              "      <td>-0.009790</td>\n",
              "      <td>0.011099</td>\n",
              "      <td>-0.004536</td>\n",
              "      <td>-0.027353</td>\n",
              "      <td>0.008745</td>\n",
              "      <td>1.000000</td>\n",
              "      <td>0.005372</td>\n",
              "      <td>-0.016942</td>\n",
              "    </tr>\n",
              "    <tr>\n",
              "      <th>CURRENT_HOUSE_YRS</th>\n",
              "      <td>-0.002397</td>\n",
              "      <td>-0.020134</td>\n",
              "      <td>0.019309</td>\n",
              "      <td>-0.007539</td>\n",
              "      <td>-0.005618</td>\n",
              "      <td>0.000251</td>\n",
              "      <td>0.001954</td>\n",
              "      <td>-0.010654</td>\n",
              "      <td>0.007281</td>\n",
              "      <td>0.005372</td>\n",
              "      <td>1.000000</td>\n",
              "      <td>-0.004375</td>\n",
              "    </tr>\n",
              "    <tr>\n",
              "      <th>Risk_Flag</th>\n",
              "      <td>-0.003091</td>\n",
              "      <td>-0.021809</td>\n",
              "      <td>-0.034523</td>\n",
              "      <td>0.021092</td>\n",
              "      <td>0.023622</td>\n",
              "      <td>-0.024036</td>\n",
              "      <td>-0.004900</td>\n",
              "      <td>0.004575</td>\n",
              "      <td>-0.003401</td>\n",
              "      <td>-0.016942</td>\n",
              "      <td>-0.004375</td>\n",
              "      <td>1.000000</td>\n",
              "    </tr>\n",
              "  </tbody>\n",
              "</table>\n",
              "</div>"
            ],
            "text/plain": [
              "                     Income       Age  ...  CURRENT_HOUSE_YRS  Risk_Flag\n",
              "Income             1.000000 -0.000652  ...          -0.002397  -0.003091\n",
              "Age               -0.000652  1.000000  ...          -0.020134  -0.021809\n",
              "Experience         0.006422 -0.001118  ...           0.019309  -0.034523\n",
              "Married/Single     0.002682 -0.005323  ...          -0.007539   0.021092\n",
              "House_Ownership    0.016433 -0.009820  ...          -0.005618   0.023622\n",
              "Car_Ownership      0.004068  0.009395  ...           0.000251  -0.024036\n",
              "Profession         0.000725 -0.008551  ...           0.001954  -0.004900\n",
              "CITY              -0.001919  0.002104  ...          -0.010654   0.004575\n",
              "STATE             -0.004067 -0.004985  ...           0.007281  -0.003401\n",
              "CURRENT_JOB_YRS    0.007045  0.002154  ...           0.005372  -0.016942\n",
              "CURRENT_HOUSE_YRS -0.002397 -0.020134  ...           1.000000  -0.004375\n",
              "Risk_Flag         -0.003091 -0.021809  ...          -0.004375   1.000000\n",
              "\n",
              "[12 rows x 12 columns]"
            ]
          },
          "metadata": {},
          "execution_count": 111
        }
      ]
    },
    {
      "cell_type": "markdown",
      "metadata": {
        "id": "ZNwpNnYHxwTl"
      },
      "source": [
        "I still do not understand these two correlation methods so I will do some research on each. However, I can make some conclusions on looking at both methods:     \n",
        "\n",
        "* I want to analyze the correlation between variables and Risk_Flag, so I can ignore most other correlations\n",
        "\n",
        "* Risk_Flag and the other variables always have a negative correlation, but sometimes the number is extremely low, almost reaching 0\n",
        "\n",
        "* **Does this mean it can be ignored, or even if the number is extremely close to 0 it must still be taken into account**\n",
        "\n",
        "* **Does positive correlation mean there is a correlation with defaulting or not defaulting?**"
      ]
    },
    {
      "cell_type": "markdown",
      "metadata": {
        "id": "RKaMdMx272VT"
      },
      "source": [
        "I can also see it easier using the print method\n",
        "\n",
        "The negative correlated values are:      \n",
        "* Income\n",
        "* Age\n",
        "* Years of Experience\n",
        "* Current Car Ownership\n",
        "* Current Profession\n",
        "* State\n",
        "* Current Job Years\n",
        "* Current House Years\n",
        "\n",
        "The positive correlated values are:      \n",
        "* Current Relationship Statues\n",
        "* Current House Ownership\n",
        "* City\n"
      ]
    },
    {
      "cell_type": "code",
      "metadata": {
        "colab": {
          "base_uri": "https://localhost:8080/"
        },
        "id": "c1kMp6CN55nI",
        "outputId": "fe38c660-2059-43f4-b45e-b0121071412f"
      },
      "source": [
        "print('The correlation between Income and Risk Flag is:', df['Income'].corr(df['Risk_Flag']))\n",
        "print('The correlation between Age and Risk Flag is:', df['Age'].corr(df['Risk_Flag']))\n",
        "print('The correlation between years of experience and Risk Flag is:', df['Experience'].corr(df['Risk_Flag']))\n",
        "print('The correlation between Current Relationship Status and Risk Flag is:', df['Married/Single'].corr(df['Risk_Flag']))\n",
        "print('The correlation between Current House Ownership and Risk Flag is:', df['House_Ownership'].corr(df['Risk_Flag']))\n",
        "print('The correlation between Current Car Ownership and Risk Flag is:', df['Car_Ownership'].corr(df['Risk_Flag']))\n",
        "print('The correlation between Current Profession and Risk Flag is:', df['Profession'].corr(df['Risk_Flag']))\n",
        "print('The correlation between City and Risk Flag is:', df['CITY'].corr(df['Risk_Flag']))\n",
        "print('The correlation between State and Risk Flag is:', df['STATE'].corr(df['Risk_Flag']))\n",
        "print('The correlation between Current Job Years and Risk Flag is:', df['CURRENT_JOB_YRS'].corr(df['Risk_Flag']))\n",
        "print('The correlation between Current House Years and Risk Flag is:', df['CURRENT_HOUSE_YRS'].corr(df['Risk_Flag']))\n"
      ],
      "execution_count": 115,
      "outputs": [
        {
          "output_type": "stream",
          "name": "stdout",
          "text": [
            "The correlation between Income and Risk Flag is: -0.0030911681222720554\n",
            "The correlation between Age and Risk Flag is: -0.021809276050707163\n",
            "The correlation between years of experience and Risk Flag is: -0.0345226128907168\n",
            "The correlation between Current Relationship Status and Risk Flag is: 0.02109164113471852\n",
            "The correlation between Current House Ownership and Risk Flag is: 0.023622409567492945\n",
            "The correlation between Current Car Ownership and Risk Flag is: -0.024035618108751426\n",
            "The correlation between Current Profession and Risk Flag is: -0.004899844722877818\n",
            "The correlation between City and Risk Flag is: 0.004575004615335424\n",
            "The correlation between State and Risk Flag is: -0.0034011359121213624\n",
            "The correlation between Current Job Years and Risk Flag is: -0.016941582052124864\n",
            "The correlation between Current House Years and Risk Flag is: -0.004375163077673377\n"
          ]
        }
      ]
    },
    {
      "cell_type": "markdown",
      "metadata": {
        "id": "efyvPQzo8wm_"
      },
      "source": [
        "#TO DO NEXT\n",
        "\n",
        "* Find how to use groupby to have cleaner charts (see below)\n",
        "\n",
        "* Import new features?\n",
        "\n",
        "* Deal with overrepresentation?\n",
        "\n",
        "* Keep researching, start training this set"
      ]
    },
    {
      "cell_type": "code",
      "metadata": {
        "colab": {
          "base_uri": "https://localhost:8080/",
          "height": 280
        },
        "id": "TvNYacj58hOQ",
        "outputId": "822aebbc-6e40-40bb-b19a-9292c26ff1ab"
      },
      "source": [
        "def plot_num_journeys_box():\n",
        "    ax = df['Income'].value_counts().plot.box()\n",
        "    \n",
        "    ax.set_ylabel('Income ')\n",
        "    ax.set_title('Typical income') \n",
        "    #raise NotImplementedError()\n",
        "    # Return the Axes object for unit testing.\n",
        "    return ax\n",
        "\n",
        "num_journeys_box_ax = plot_num_journeys_box()\n",
        "plt.show()"
      ],
      "execution_count": 118,
      "outputs": [
        {
          "output_type": "display_data",
          "data": {
            "image/png": "[encoded data removed]",
            "text/plain": [
              "<Figure size 432x288 with 1 Axes>"
            ]
          },
          "metadata": {
            "needs_background": "light"
          }
        }
      ]
    }
  ]
}