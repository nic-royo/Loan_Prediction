{
  "nbformat": 4,
  "nbformat_minor": 0,
  "metadata": {
    "colab": {
      "name": "I_Dataset.ipynb",
      "provenance": [],
      "collapsed_sections": []
    },
    "kernelspec": {
      "name": "python3",
      "display_name": "Python 3"
    },
    "language_info": {
      "name": "python"
    }
  },
  "cells": [
    {
      "cell_type": "code",
      "metadata": {
        "id": "az0lpGc9oAYx"
      },
      "source": [
        "%matplotlib inline"
      ],
      "execution_count": null,
      "outputs": []
    },
    {
      "cell_type": "markdown",
      "metadata": {
        "id": "qSu161T4WpP1"
      },
      "source": [
        "# Prototype\n",
        "\n",
        "## Introduction\n",
        "\n",
        "I will import first the libraries I believe I will be using, I will start with these and add more as I progress.\n",
        "\n",
        "I plan to start doing a **Decision Tree Classifier** and a **Random Forest Classifier**. \n",
        "\n",
        "For the prototype I will only focus on one:"
      ]
    },
    {
      "cell_type": "code",
      "metadata": {
        "id": "IUxswUKNsP6i"
      },
      "source": [
        "import pandas as pd\n",
        "import matplotlib as mpl\n",
        "import matplotlib.pyplot as plt\n",
        "import numpy as np\n",
        "from scipy import stats\n",
        "import seaborn as sns\n",
        "import sklearn\n",
        "\n",
        "from sklearn.tree import DecisionTreeClassifier\n",
        "from sklearn.ensemble import RandomForestClassifier\n",
        "\n",
        "#Import to split training and test data\n",
        "from sklearn.model_selection import train_test_split"
      ],
      "execution_count": null,
      "outputs": []
    },
    {
      "cell_type": "markdown",
      "metadata": {
        "id": "duKmFlW5Vnrd"
      },
      "source": [
        "# Import the data\n",
        "There are three files I have for usage. \n",
        "\n",
        "*   The first, used here, is the training data file which has users with several features describing them, and a risk flag (which is either 1 (person defaulted) or 0 (person did not default)) which says whether the individual has defaulted in the past.\n",
        "\n",
        "*   The second is the test data dataset, which includes new id's and their features but no risk default, with this data set I will predict possible defaulting individuals.\n",
        "\n"
      ]
    },
    {
      "cell_type": "code",
      "metadata": {
        "id": "YFamHUjOR3av",
        "colab": {
          "base_uri": "https://localhost:8080/",
          "height": 492
        },
        "outputId": "bffecb42-8f69-4f55-cfa2-ac44b5aeaa55"
      },
      "source": [
        "#ASK QUESTIONS FOR THIS ONE:\n",
        "df = pd.read_csv(\"Training Data.csv\", index_col = 0, \n",
        "                 dtype={'Income': int, 'Age': int,\n",
        "                        'Experience': int, 'Married/Single': 'category',\n",
        "                        'House_Ownership': 'category', 'Car_Ownership': 'category',\n",
        "                        'Profession': 'category', 'CITY': 'category',\n",
        "                        'STATE': 'category', 'CURRENT_JOB_YRS': int,\n",
        "                        'CURRENT_JOB_YRS': int, 'CURRENT_HOUSE_YRS': int,\n",
        "                        'Risk_Flag': int\t\n",
        "                        },\n",
        "                 na_values = ['n/a', ' ', '', '-']\n",
        "                 )\n",
        "print('the set has {} rows and {} columns'.format(df.shape[0], df.shape[1]))\n",
        "\n",
        "df"
      ],
      "execution_count": null,
      "outputs": [
        {
          "output_type": "stream",
          "name": "stdout",
          "text": [
            "the set has 252000 rows and 12 columns\n"
          ]
        },
        {
          "output_type": "execute_result",
          "data": {
            "text/html": [
              "<div>\n",
              "<style scoped>\n",
              "    .dataframe tbody tr th:only-of-type {\n",
              "        vertical-align: middle;\n",
              "    }\n",
              "\n",
              "    .dataframe tbody tr th {\n",
              "        vertical-align: top;\n",
              "    }\n",
              "\n",
              "    .dataframe thead th {\n",
              "        text-align: right;\n",
              "    }\n",
              "</style>\n",
              "<table border=\"1\" class=\"dataframe\">\n",
              "  <thead>\n",
              "    <tr style=\"text-align: right;\">\n",
              "      <th></th>\n",
              "      <th>Income</th>\n",
              "      <th>Age</th>\n",
              "      <th>Experience</th>\n",
              "      <th>Married/Single</th>\n",
              "      <th>House_Ownership</th>\n",
              "      <th>Car_Ownership</th>\n",
              "      <th>Profession</th>\n",
              "      <th>CITY</th>\n",
              "      <th>STATE</th>\n",
              "      <th>CURRENT_JOB_YRS</th>\n",
              "      <th>CURRENT_HOUSE_YRS</th>\n",
              "      <th>Risk_Flag</th>\n",
              "    </tr>\n",
              "    <tr>\n",
              "      <th>Id</th>\n",
              "      <th></th>\n",
              "      <th></th>\n",
              "      <th></th>\n",
              "      <th></th>\n",
              "      <th></th>\n",
              "      <th></th>\n",
              "      <th></th>\n",
              "      <th></th>\n",
              "      <th></th>\n",
              "      <th></th>\n",
              "      <th></th>\n",
              "      <th></th>\n",
              "    </tr>\n",
              "  </thead>\n",
              "  <tbody>\n",
              "    <tr>\n",
              "      <th>1</th>\n",
              "      <td>1303834</td>\n",
              "      <td>23</td>\n",
              "      <td>3</td>\n",
              "      <td>single</td>\n",
              "      <td>rented</td>\n",
              "      <td>no</td>\n",
              "      <td>Mechanical_engineer</td>\n",
              "      <td>Rewa</td>\n",
              "      <td>Madhya_Pradesh</td>\n",
              "      <td>3</td>\n",
              "      <td>13</td>\n",
              "      <td>0</td>\n",
              "    </tr>\n",
              "    <tr>\n",
              "      <th>2</th>\n",
              "      <td>7574516</td>\n",
              "      <td>40</td>\n",
              "      <td>10</td>\n",
              "      <td>single</td>\n",
              "      <td>rented</td>\n",
              "      <td>no</td>\n",
              "      <td>Software_Developer</td>\n",
              "      <td>Parbhani</td>\n",
              "      <td>Maharashtra</td>\n",
              "      <td>9</td>\n",
              "      <td>13</td>\n",
              "      <td>0</td>\n",
              "    </tr>\n",
              "    <tr>\n",
              "      <th>3</th>\n",
              "      <td>3991815</td>\n",
              "      <td>66</td>\n",
              "      <td>4</td>\n",
              "      <td>married</td>\n",
              "      <td>rented</td>\n",
              "      <td>no</td>\n",
              "      <td>Technical_writer</td>\n",
              "      <td>Alappuzha</td>\n",
              "      <td>Kerala</td>\n",
              "      <td>4</td>\n",
              "      <td>10</td>\n",
              "      <td>0</td>\n",
              "    </tr>\n",
              "    <tr>\n",
              "      <th>4</th>\n",
              "      <td>6256451</td>\n",
              "      <td>41</td>\n",
              "      <td>2</td>\n",
              "      <td>single</td>\n",
              "      <td>rented</td>\n",
              "      <td>yes</td>\n",
              "      <td>Software_Developer</td>\n",
              "      <td>Bhubaneswar</td>\n",
              "      <td>Odisha</td>\n",
              "      <td>2</td>\n",
              "      <td>12</td>\n",
              "      <td>1</td>\n",
              "    </tr>\n",
              "    <tr>\n",
              "      <th>5</th>\n",
              "      <td>5768871</td>\n",
              "      <td>47</td>\n",
              "      <td>11</td>\n",
              "      <td>single</td>\n",
              "      <td>rented</td>\n",
              "      <td>no</td>\n",
              "      <td>Civil_servant</td>\n",
              "      <td>Tiruchirappalli[10]</td>\n",
              "      <td>Tamil_Nadu</td>\n",
              "      <td>3</td>\n",
              "      <td>14</td>\n",
              "      <td>1</td>\n",
              "    </tr>\n",
              "    <tr>\n",
              "      <th>...</th>\n",
              "      <td>...</td>\n",
              "      <td>...</td>\n",
              "      <td>...</td>\n",
              "      <td>...</td>\n",
              "      <td>...</td>\n",
              "      <td>...</td>\n",
              "      <td>...</td>\n",
              "      <td>...</td>\n",
              "      <td>...</td>\n",
              "      <td>...</td>\n",
              "      <td>...</td>\n",
              "      <td>...</td>\n",
              "    </tr>\n",
              "    <tr>\n",
              "      <th>251996</th>\n",
              "      <td>8154883</td>\n",
              "      <td>43</td>\n",
              "      <td>13</td>\n",
              "      <td>single</td>\n",
              "      <td>rented</td>\n",
              "      <td>no</td>\n",
              "      <td>Surgeon</td>\n",
              "      <td>Kolkata</td>\n",
              "      <td>West_Bengal</td>\n",
              "      <td>6</td>\n",
              "      <td>11</td>\n",
              "      <td>0</td>\n",
              "    </tr>\n",
              "    <tr>\n",
              "      <th>251997</th>\n",
              "      <td>2843572</td>\n",
              "      <td>26</td>\n",
              "      <td>10</td>\n",
              "      <td>single</td>\n",
              "      <td>rented</td>\n",
              "      <td>no</td>\n",
              "      <td>Army_officer</td>\n",
              "      <td>Rewa</td>\n",
              "      <td>Madhya_Pradesh</td>\n",
              "      <td>6</td>\n",
              "      <td>11</td>\n",
              "      <td>0</td>\n",
              "    </tr>\n",
              "    <tr>\n",
              "      <th>251998</th>\n",
              "      <td>4522448</td>\n",
              "      <td>46</td>\n",
              "      <td>7</td>\n",
              "      <td>single</td>\n",
              "      <td>rented</td>\n",
              "      <td>no</td>\n",
              "      <td>Design_Engineer</td>\n",
              "      <td>Kalyan-Dombivli</td>\n",
              "      <td>Maharashtra</td>\n",
              "      <td>7</td>\n",
              "      <td>12</td>\n",
              "      <td>0</td>\n",
              "    </tr>\n",
              "    <tr>\n",
              "      <th>251999</th>\n",
              "      <td>6507128</td>\n",
              "      <td>45</td>\n",
              "      <td>0</td>\n",
              "      <td>single</td>\n",
              "      <td>rented</td>\n",
              "      <td>no</td>\n",
              "      <td>Graphic_Designer</td>\n",
              "      <td>Pondicherry</td>\n",
              "      <td>Puducherry</td>\n",
              "      <td>0</td>\n",
              "      <td>10</td>\n",
              "      <td>0</td>\n",
              "    </tr>\n",
              "    <tr>\n",
              "      <th>252000</th>\n",
              "      <td>9070230</td>\n",
              "      <td>70</td>\n",
              "      <td>17</td>\n",
              "      <td>single</td>\n",
              "      <td>rented</td>\n",
              "      <td>no</td>\n",
              "      <td>Statistician</td>\n",
              "      <td>Avadi</td>\n",
              "      <td>Tamil_Nadu</td>\n",
              "      <td>7</td>\n",
              "      <td>11</td>\n",
              "      <td>0</td>\n",
              "    </tr>\n",
              "  </tbody>\n",
              "</table>\n",
              "<p>252000 rows × 12 columns</p>\n",
              "</div>"
            ],
            "text/plain": [
              "         Income  Age  Experience  ... CURRENT_JOB_YRS CURRENT_HOUSE_YRS Risk_Flag\n",
              "Id                                ...                                            \n",
              "1       1303834   23           3  ...               3                13         0\n",
              "2       7574516   40          10  ...               9                13         0\n",
              "3       3991815   66           4  ...               4                10         0\n",
              "4       6256451   41           2  ...               2                12         1\n",
              "5       5768871   47          11  ...               3                14         1\n",
              "...         ...  ...         ...  ...             ...               ...       ...\n",
              "251996  8154883   43          13  ...               6                11         0\n",
              "251997  2843572   26          10  ...               6                11         0\n",
              "251998  4522448   46           7  ...               7                12         0\n",
              "251999  6507128   45           0  ...               0                10         0\n",
              "252000  9070230   70          17  ...               7                11         0\n",
              "\n",
              "[252000 rows x 12 columns]"
            ]
          },
          "metadata": {},
          "execution_count": 46
        }
      ]
    },
    {
      "cell_type": "markdown",
      "metadata": {
        "id": "6sdhlt6lbLy2"
      },
      "source": [
        "The Marriage/Single column is bothersome so I will change it"
      ]
    },
    {
      "cell_type": "code",
      "metadata": {
        "id": "wDPcn6x1bD_b"
      },
      "source": [
        "df = df.rename(columns = {'Married/Single':'relationship_status'})"
      ],
      "execution_count": null,
      "outputs": []
    },
    {
      "cell_type": "markdown",
      "metadata": {
        "id": "PmZTcZP3f1aW"
      },
      "source": [
        "I am manually typing the variable data types as six of them are otherwise objects.\n",
        "\n",
        "I am also creating some new missing values to avoid missing any when I search for them below.\n",
        "\n",
        "\n"
      ]
    },
    {
      "cell_type": "markdown",
      "metadata": {
        "id": "v9YOEkujakur"
      },
      "source": [
        "#Describe Numericals\n",
        "\n",
        "Using the describe() method, I can see some important details including:    \n",
        "\n",
        "*  The risk flag mean is 0.12, meaning that **most individuals are defaulters**. Standard deviation is 0.32 however\n",
        "\n",
        "* Income mean is quite high, and the max is so as well, but the min is extremely low (10310 Indian Rupees are 140 USD approximately) \n",
        "\n",
        "* Age is appropriately dispersed\n",
        "\n",
        "* The **categorical and string variables are not displayed** (Marriage, house and car ownership,  proffesion, city and state), I will explore them with other methods  later\n",
        "\n"
      ]
    },
    {
      "cell_type": "code",
      "metadata": {
        "colab": {
          "base_uri": "https://localhost:8080/",
          "height": 300
        },
        "id": "UF8f-Wj9ah8v",
        "outputId": "8da0f223-ccc9-4cfb-a500-645dc7bc55af"
      },
      "source": [
        "df.describe()"
      ],
      "execution_count": null,
      "outputs": [
        {
          "output_type": "execute_result",
          "data": {
            "text/html": [
              "<div>\n",
              "<style scoped>\n",
              "    .dataframe tbody tr th:only-of-type {\n",
              "        vertical-align: middle;\n",
              "    }\n",
              "\n",
              "    .dataframe tbody tr th {\n",
              "        vertical-align: top;\n",
              "    }\n",
              "\n",
              "    .dataframe thead th {\n",
              "        text-align: right;\n",
              "    }\n",
              "</style>\n",
              "<table border=\"1\" class=\"dataframe\">\n",
              "  <thead>\n",
              "    <tr style=\"text-align: right;\">\n",
              "      <th></th>\n",
              "      <th>Income</th>\n",
              "      <th>Age</th>\n",
              "      <th>Experience</th>\n",
              "      <th>CURRENT_JOB_YRS</th>\n",
              "      <th>CURRENT_HOUSE_YRS</th>\n",
              "      <th>Risk_Flag</th>\n",
              "    </tr>\n",
              "  </thead>\n",
              "  <tbody>\n",
              "    <tr>\n",
              "      <th>count</th>\n",
              "      <td>2.520000e+05</td>\n",
              "      <td>252000.000000</td>\n",
              "      <td>252000.000000</td>\n",
              "      <td>252000.000000</td>\n",
              "      <td>252000.000000</td>\n",
              "      <td>252000.000000</td>\n",
              "    </tr>\n",
              "    <tr>\n",
              "      <th>mean</th>\n",
              "      <td>4.997117e+06</td>\n",
              "      <td>49.954071</td>\n",
              "      <td>10.084437</td>\n",
              "      <td>6.333877</td>\n",
              "      <td>11.997794</td>\n",
              "      <td>0.123000</td>\n",
              "    </tr>\n",
              "    <tr>\n",
              "      <th>std</th>\n",
              "      <td>2.878311e+06</td>\n",
              "      <td>17.063855</td>\n",
              "      <td>6.002590</td>\n",
              "      <td>3.647053</td>\n",
              "      <td>1.399037</td>\n",
              "      <td>0.328438</td>\n",
              "    </tr>\n",
              "    <tr>\n",
              "      <th>min</th>\n",
              "      <td>1.031000e+04</td>\n",
              "      <td>21.000000</td>\n",
              "      <td>0.000000</td>\n",
              "      <td>0.000000</td>\n",
              "      <td>10.000000</td>\n",
              "      <td>0.000000</td>\n",
              "    </tr>\n",
              "    <tr>\n",
              "      <th>25%</th>\n",
              "      <td>2.503015e+06</td>\n",
              "      <td>35.000000</td>\n",
              "      <td>5.000000</td>\n",
              "      <td>3.000000</td>\n",
              "      <td>11.000000</td>\n",
              "      <td>0.000000</td>\n",
              "    </tr>\n",
              "    <tr>\n",
              "      <th>50%</th>\n",
              "      <td>5.000694e+06</td>\n",
              "      <td>50.000000</td>\n",
              "      <td>10.000000</td>\n",
              "      <td>6.000000</td>\n",
              "      <td>12.000000</td>\n",
              "      <td>0.000000</td>\n",
              "    </tr>\n",
              "    <tr>\n",
              "      <th>75%</th>\n",
              "      <td>7.477502e+06</td>\n",
              "      <td>65.000000</td>\n",
              "      <td>15.000000</td>\n",
              "      <td>9.000000</td>\n",
              "      <td>13.000000</td>\n",
              "      <td>0.000000</td>\n",
              "    </tr>\n",
              "    <tr>\n",
              "      <th>max</th>\n",
              "      <td>9.999938e+06</td>\n",
              "      <td>79.000000</td>\n",
              "      <td>20.000000</td>\n",
              "      <td>14.000000</td>\n",
              "      <td>14.000000</td>\n",
              "      <td>1.000000</td>\n",
              "    </tr>\n",
              "  </tbody>\n",
              "</table>\n",
              "</div>"
            ],
            "text/plain": [
              "             Income            Age  ...  CURRENT_HOUSE_YRS      Risk_Flag\n",
              "count  2.520000e+05  252000.000000  ...      252000.000000  252000.000000\n",
              "mean   4.997117e+06      49.954071  ...          11.997794       0.123000\n",
              "std    2.878311e+06      17.063855  ...           1.399037       0.328438\n",
              "min    1.031000e+04      21.000000  ...          10.000000       0.000000\n",
              "25%    2.503015e+06      35.000000  ...          11.000000       0.000000\n",
              "50%    5.000694e+06      50.000000  ...          12.000000       0.000000\n",
              "75%    7.477502e+06      65.000000  ...          13.000000       0.000000\n",
              "max    9.999938e+06      79.000000  ...          14.000000       1.000000\n",
              "\n",
              "[8 rows x 6 columns]"
            ]
          },
          "metadata": {},
          "execution_count": 48
        }
      ]
    },
    {
      "cell_type": "markdown",
      "metadata": {
        "id": "7jcPXrJbk38w"
      },
      "source": [
        "#Describe Categoricals\n",
        "\n",
        "Here I can describe the categorical variables.\n",
        "\n",
        "Some important thigns to remember:     \n",
        "* **top** is the most common value\n",
        "\n",
        "* **freq** is the frequency of the most common value\n",
        "\n",
        "* There are 51 different professions displayed, 317 different cities, 29 states\n",
        "\n",
        "* I can use *df.describe(include='all')* to display all columns including numerical and categorical data types"
      ]
    },
    {
      "cell_type": "code",
      "metadata": {
        "colab": {
          "base_uri": "https://localhost:8080/",
          "height": 175
        },
        "id": "J4qxvaz0k2Ze",
        "outputId": "953d2f08-2e63-41f9-b471-f32b11e0e6c2"
      },
      "source": [
        "categorical_info = df[['relationship_status','House_Ownership', 'Car_Ownership',\n",
        "                        'Profession', 'CITY', 'STATE']].describe()\n",
        "\n",
        "categorical_info"
      ],
      "execution_count": null,
      "outputs": [
        {
          "output_type": "execute_result",
          "data": {
            "text/html": [
              "<div>\n",
              "<style scoped>\n",
              "    .dataframe tbody tr th:only-of-type {\n",
              "        vertical-align: middle;\n",
              "    }\n",
              "\n",
              "    .dataframe tbody tr th {\n",
              "        vertical-align: top;\n",
              "    }\n",
              "\n",
              "    .dataframe thead th {\n",
              "        text-align: right;\n",
              "    }\n",
              "</style>\n",
              "<table border=\"1\" class=\"dataframe\">\n",
              "  <thead>\n",
              "    <tr style=\"text-align: right;\">\n",
              "      <th></th>\n",
              "      <th>relationship_status</th>\n",
              "      <th>House_Ownership</th>\n",
              "      <th>Car_Ownership</th>\n",
              "      <th>Profession</th>\n",
              "      <th>CITY</th>\n",
              "      <th>STATE</th>\n",
              "    </tr>\n",
              "  </thead>\n",
              "  <tbody>\n",
              "    <tr>\n",
              "      <th>count</th>\n",
              "      <td>252000</td>\n",
              "      <td>252000</td>\n",
              "      <td>252000</td>\n",
              "      <td>252000</td>\n",
              "      <td>252000</td>\n",
              "      <td>252000</td>\n",
              "    </tr>\n",
              "    <tr>\n",
              "      <th>unique</th>\n",
              "      <td>2</td>\n",
              "      <td>3</td>\n",
              "      <td>2</td>\n",
              "      <td>51</td>\n",
              "      <td>317</td>\n",
              "      <td>29</td>\n",
              "    </tr>\n",
              "    <tr>\n",
              "      <th>top</th>\n",
              "      <td>single</td>\n",
              "      <td>rented</td>\n",
              "      <td>no</td>\n",
              "      <td>Physician</td>\n",
              "      <td>Vijayanagaram</td>\n",
              "      <td>Uttar_Pradesh</td>\n",
              "    </tr>\n",
              "    <tr>\n",
              "      <th>freq</th>\n",
              "      <td>226272</td>\n",
              "      <td>231898</td>\n",
              "      <td>176000</td>\n",
              "      <td>5957</td>\n",
              "      <td>1259</td>\n",
              "      <td>28400</td>\n",
              "    </tr>\n",
              "  </tbody>\n",
              "</table>\n",
              "</div>"
            ],
            "text/plain": [
              "       relationship_status House_Ownership  ...           CITY          STATE\n",
              "count               252000          252000  ...         252000         252000\n",
              "unique                   2               3  ...            317             29\n",
              "top                 single          rented  ...  Vijayanagaram  Uttar_Pradesh\n",
              "freq                226272          231898  ...           1259          28400\n",
              "\n",
              "[4 rows x 6 columns]"
            ]
          },
          "metadata": {},
          "execution_count": 49
        }
      ]
    },
    {
      "cell_type": "markdown",
      "metadata": {
        "id": "SnNMbHfhaZYW"
      },
      "source": [
        "Check which variables are numerical and categorical, they are all numerical\n",
        "\n",
        "**(Check if this is correct)** because shouldnt strings and categoricals be categorical? "
      ]
    },
    {
      "cell_type": "code",
      "metadata": {
        "colab": {
          "base_uri": "https://localhost:8080/"
        },
        "id": "Ty_Bg5iuZN3r",
        "outputId": "f64d4264-91d9-403e-c0a1-c904ceec66bd"
      },
      "source": [
        "numerical_variables = df.columns[df.dtypes != 'object']\n",
        "categorical_variables = df.columns[df.dtypes == 'object']\n",
        "\n",
        "print(numerical_variables)\n",
        "print(categorical_variables)"
      ],
      "execution_count": null,
      "outputs": [
        {
          "output_type": "stream",
          "name": "stdout",
          "text": [
            "Index(['Income', 'Age', 'Experience', 'relationship_status', 'House_Ownership',\n",
            "       'Car_Ownership', 'Profession', 'CITY', 'STATE', 'CURRENT_JOB_YRS',\n",
            "       'CURRENT_HOUSE_YRS', 'Risk_Flag'],\n",
            "      dtype='object')\n",
            "Index([], dtype='object')\n"
          ]
        }
      ]
    },
    {
      "cell_type": "markdown",
      "metadata": {
        "id": "zg54EM3xdkSJ"
      },
      "source": [
        "#Missing Values\n",
        "Check out missing values, seem to be no NA fields not fields with missing values (isnull), \n",
        "\n",
        "* *Use the sort_values() function to sort columns in descending order, like this df.isna().sum().sort_values()*\n",
        "\n",
        "* *Divide this by len(df) to get the percentage of missing values like this df.isna().sum().sort_values()/len(df)*"
      ]
    },
    {
      "cell_type": "code",
      "metadata": {
        "colab": {
          "base_uri": "https://localhost:8080/"
        },
        "id": "yQpflNt2Y_Xr",
        "outputId": "3ee58a79-173b-438c-e245-4b25898d99cd"
      },
      "source": [
        "na_values = df.isna().sum()\n",
        "\n",
        "na_values"
      ],
      "execution_count": null,
      "outputs": [
        {
          "output_type": "execute_result",
          "data": {
            "text/plain": [
              "Income                 0\n",
              "Age                    0\n",
              "Experience             0\n",
              "relationship_status    0\n",
              "House_Ownership        0\n",
              "Car_Ownership          0\n",
              "Profession             0\n",
              "CITY                   0\n",
              "STATE                  0\n",
              "CURRENT_JOB_YRS        0\n",
              "CURRENT_HOUSE_YRS      0\n",
              "Risk_Flag              0\n",
              "dtype: int64"
            ]
          },
          "metadata": {},
          "execution_count": 51
        }
      ]
    },
    {
      "cell_type": "markdown",
      "metadata": {
        "id": "GWJ7v31OjZTG"
      },
      "source": [
        "#Correlation\n",
        "\n",
        "I will start using the **corr()** method with the '**pearson**' method until I find out which methods are better (kendall maybe).\n",
        "\n",
        "* The pearson method measures the strenght of the linear relationship between two variables, it goes from -1 to 1, -1 means negative linera correlation, 0 means there is no correlation, 1 means there is a total positive correlation (*Nettleton, D. (2014). Selection of Variables and Factor Derivation. In Commercial Data Mining Processing, analysis and modeling for Predictive Analytics Projects. essay, Elsevier. *)\n",
        "\n",
        "* If I read categorical variables as explict categories I can use corr() to find the correlation with them and Risk_Flag\n",
        "\n",
        "[4].\n",
        "\n"
      ]
    },
    {
      "cell_type": "code",
      "metadata": {
        "colab": {
          "base_uri": "https://localhost:8080/",
          "height": 806
        },
        "id": "NedUK9CQdIK6",
        "outputId": "69b5c647-630a-4fa4-d6d7-d39b433a0924"
      },
      "source": [
        "df = pd.DataFrame(df)\n",
        "\n",
        "plt.figure(figsize=(12,12))\n",
        "\n",
        "\n",
        "corrMatrix = df.corr()\n",
        "sns.heatmap(corrMatrix, annot=True)\n",
        "plt.show()\n",
        "\n"
      ],
      "execution_count": null,
      "outputs": [
        {
          "output_type": "display_data",
          "data": {
            "image/png": "[encoded data removed]",
            "text/plain": [
              "<Figure size 864x864 with 2 Axes>"
            ]
          },
          "metadata": {
            "needs_background": "light"
          }
        }
      ]
    },
    {
      "cell_type": "markdown",
      "metadata": {
        "id": "RKaMdMx272VT"
      },
      "source": [
        "I can also see it easier using the print method\n",
        "\n",
        "The negative correlated values are:      \n",
        "* Age (**low correlation**)\n",
        "* Years of Experience (** low correlation**)\n",
        "* Current Car Ownership (**low correlation**)\n",
        "* Current Job Years (**low correlation**)\n",
        "* Income (**very low correlation**)\n",
        "* Current House Years (**very low correlation**)\n",
        "* State (**very low correlation**)\n",
        "* Current Profession (**very low correlation**)\n",
        "\n",
        "\n",
        "\n",
        "The positive correlated values are:      \n",
        "* Current Relationship Status (**low correlation**)\n",
        "* Current House Ownership (**low correlation**)\n",
        "* City (**very low correlation**)\n"
      ]
    },
    {
      "cell_type": "code",
      "metadata": {
        "colab": {
          "base_uri": "https://localhost:8080/"
        },
        "id": "c1kMp6CN55nI",
        "outputId": "020be62b-4936-4edc-b480-1b5481736dd5"
      },
      "source": [
        "print('The correlation between Income and Risk Flag is:', df['Income'].corr(df['Risk_Flag']))\n",
        "print('The correlation between Age and Risk Flag is:', df['Age'].corr(df['Risk_Flag']))\n",
        "print('The correlation between years of experience and Risk Flag is:', df['Experience'].corr(df['Risk_Flag']))\n",
        "print('The correlation between Current Relationship Status and Risk Flag is:', df['relationship_status'].corr(df['Risk_Flag']))\n",
        "print('The correlation between Current House Ownership and Risk Flag is:', df['House_Ownership'].corr(df['Risk_Flag']))\n",
        "print('The correlation between Current Car Ownership and Risk Flag is:', df['Car_Ownership'].corr(df['Risk_Flag']))\n",
        "print('The correlation between Current Profession and Risk Flag is:', df['Profession'].corr(df['Risk_Flag']))\n",
        "print('The correlation between City and Risk Flag is:', df['CITY'].corr(df['Risk_Flag']))\n",
        "print('The correlation between State and Risk Flag is:', df['STATE'].corr(df['Risk_Flag']))\n",
        "print('The correlation between Current Job Years and Risk Flag is:', df['CURRENT_JOB_YRS'].corr(df['Risk_Flag']))\n",
        "print('The correlation between Current House Years and Risk Flag is:', df['CURRENT_HOUSE_YRS'].corr(df['Risk_Flag']))\n"
      ],
      "execution_count": null,
      "outputs": [
        {
          "output_type": "stream",
          "name": "stdout",
          "text": [
            "The correlation between Income and Risk Flag is: -0.0030911681222720554\n",
            "The correlation between Age and Risk Flag is: -0.021809276050707163\n",
            "The correlation between years of experience and Risk Flag is: -0.0345226128907168\n",
            "The correlation between Current Relationship Status and Risk Flag is: 0.02109164113471852\n",
            "The correlation between Current House Ownership and Risk Flag is: 0.023622409567492945\n",
            "The correlation between Current Car Ownership and Risk Flag is: -0.024035618108751426\n",
            "The correlation between Current Profession and Risk Flag is: -0.004899844722877818\n",
            "The correlation between City and Risk Flag is: 0.004575004615335424\n",
            "The correlation between State and Risk Flag is: -0.0034011359121213624\n",
            "The correlation between Current Job Years and Risk Flag is: -0.016941582052124864\n",
            "The correlation between Current House Years and Risk Flag is: -0.004375163077673377\n"
          ]
        }
      ]
    },
    {
      "cell_type": "markdown",
      "metadata": {
        "id": "efyvPQzo8wm_"
      },
      "source": [
        "## Data Analysis\n",
        "\n",
        "I will make some seaborn plots to visualize the relationship between Default Risk_Flag and  4 other variables: \n",
        "\n",
        "* House_Ownership, Married/Single, Car_Ownership and CURRENT_HOUSE_YRS\n",
        "\n",
        "[1]. \n",
        "\n",
        "[2]."
      ]
    },
    {
      "cell_type": "code",
      "metadata": {
        "colab": {
          "base_uri": "https://localhost:8080/",
          "height": 1000
        },
        "id": "TvNYacj58hOQ",
        "outputId": "0e87e998-3146-4196-9ab8-54dc273dc4f9"
      },
      "source": [
        "sns.countplot(x='Risk_Flag' , data = df , hue = 'House_Ownership')\n",
        "plt.show()\n",
        "\n",
        "sns.countplot(x='Risk_Flag' ,data = df , hue = 'relationship_status')\n",
        "plt.show()\n",
        "\n",
        "sns.countplot(x='Risk_Flag' ,data = df , hue = 'Car_Ownership')\n",
        "plt.show()\n",
        "\n",
        "sns.countplot(x='Risk_Flag' ,data = df , hue = 'CURRENT_HOUSE_YRS')\n",
        "plt.show()"
      ],
      "execution_count": null,
      "outputs": [
        {
          "output_type": "display_data",
          "data": {
            "image/png": "[encoded data removed]",
            "text/plain": [
              "<Figure size 432x288 with 1 Axes>"
            ]
          },
          "metadata": {
            "needs_background": "light"
          }
        },
        {
          "output_type": "display_data",
          "data": {
            "image/png": "[encoded data removed]",
            "text/plain": [
              "<Figure size 432x288 with 1 Axes>"
            ]
          },
          "metadata": {
            "needs_background": "light"
          }
        },
        {
          "output_type": "display_data",
          "data": {
            "image/png": "[encoded data removed]",
            "text/plain": [
              "<Figure size 432x288 with 1 Axes>"
            ]
          },
          "metadata": {
            "needs_background": "light"
          }
        },
        {
          "output_type": "display_data",
          "data": {
            "image/png": "[encoded data removed]",
            "text/plain": [
              "<Figure size 432x288 with 1 Axes>"
            ]
          },
          "metadata": {
            "needs_background": "light"
          }
        }
      ]
    },
    {
      "cell_type": "markdown",
      "metadata": {
        "id": "qPbb0jHTaiaE"
      },
      "source": [
        "Now I must **encode** the values that I previously strongly typed as categories, so their values are more easily read by the algorithms I will be implementing\n",
        "\n",
        "[3]."
      ]
    },
    {
      "cell_type": "code",
      "metadata": {
        "id": "wKeg1qOqTeY1"
      },
      "source": [
        "from sklearn import preprocessing\n",
        "le = preprocessing.LabelEncoder()\n",
        "\n",
        "df_columns = [df.relationship_status,df.House_Ownership,df.Car_Ownership,df.Profession,df.STATE,df.CITY]\n",
        "for i in df_columns:\n",
        "    i = le.fit_transform(i)"
      ],
      "execution_count": null,
      "outputs": []
    },
    {
      "cell_type": "markdown",
      "metadata": {
        "id": "-Zf7u9flcrlq"
      },
      "source": [
        "Now each variable of the categorical variables are integers instead of words."
      ]
    },
    {
      "cell_type": "code",
      "metadata": {
        "colab": {
          "base_uri": "https://localhost:8080/",
          "height": 475
        },
        "id": "JeRJEJ_TccTS",
        "outputId": "9ff43c22-c105-42b6-b800-48013ffc47dc"
      },
      "source": [
        "df.relationship_status = le.fit_transform(df.relationship_status)\n",
        "df.House_Ownership = le.fit_transform(df.House_Ownership)\n",
        "df.Car_Ownership = le.fit_transform(df.Car_Ownership)\n",
        "df.Profession = le.fit_transform(df.Profession)\n",
        "df.STATE = le.fit_transform(df.STATE)\n",
        "df.CITY = le.fit_transform(df.CITY)\n",
        "\n",
        "df"
      ],
      "execution_count": null,
      "outputs": [
        {
          "output_type": "execute_result",
          "data": {
            "text/html": [
              "<div>\n",
              "<style scoped>\n",
              "    .dataframe tbody tr th:only-of-type {\n",
              "        vertical-align: middle;\n",
              "    }\n",
              "\n",
              "    .dataframe tbody tr th {\n",
              "        vertical-align: top;\n",
              "    }\n",
              "\n",
              "    .dataframe thead th {\n",
              "        text-align: right;\n",
              "    }\n",
              "</style>\n",
              "<table border=\"1\" class=\"dataframe\">\n",
              "  <thead>\n",
              "    <tr style=\"text-align: right;\">\n",
              "      <th></th>\n",
              "      <th>Income</th>\n",
              "      <th>Age</th>\n",
              "      <th>Experience</th>\n",
              "      <th>relationship_status</th>\n",
              "      <th>House_Ownership</th>\n",
              "      <th>Car_Ownership</th>\n",
              "      <th>Profession</th>\n",
              "      <th>CITY</th>\n",
              "      <th>STATE</th>\n",
              "      <th>CURRENT_JOB_YRS</th>\n",
              "      <th>CURRENT_HOUSE_YRS</th>\n",
              "      <th>Risk_Flag</th>\n",
              "    </tr>\n",
              "    <tr>\n",
              "      <th>Id</th>\n",
              "      <th></th>\n",
              "      <th></th>\n",
              "      <th></th>\n",
              "      <th></th>\n",
              "      <th></th>\n",
              "      <th></th>\n",
              "      <th></th>\n",
              "      <th></th>\n",
              "      <th></th>\n",
              "      <th></th>\n",
              "      <th></th>\n",
              "      <th></th>\n",
              "    </tr>\n",
              "  </thead>\n",
              "  <tbody>\n",
              "    <tr>\n",
              "      <th>1</th>\n",
              "      <td>1303834</td>\n",
              "      <td>23</td>\n",
              "      <td>3</td>\n",
              "      <td>1</td>\n",
              "      <td>2</td>\n",
              "      <td>0</td>\n",
              "      <td>33</td>\n",
              "      <td>251</td>\n",
              "      <td>13</td>\n",
              "      <td>3</td>\n",
              "      <td>13</td>\n",
              "      <td>0</td>\n",
              "    </tr>\n",
              "    <tr>\n",
              "      <th>2</th>\n",
              "      <td>7574516</td>\n",
              "      <td>40</td>\n",
              "      <td>10</td>\n",
              "      <td>1</td>\n",
              "      <td>2</td>\n",
              "      <td>0</td>\n",
              "      <td>43</td>\n",
              "      <td>227</td>\n",
              "      <td>14</td>\n",
              "      <td>9</td>\n",
              "      <td>13</td>\n",
              "      <td>0</td>\n",
              "    </tr>\n",
              "    <tr>\n",
              "      <th>3</th>\n",
              "      <td>3991815</td>\n",
              "      <td>66</td>\n",
              "      <td>4</td>\n",
              "      <td>0</td>\n",
              "      <td>2</td>\n",
              "      <td>0</td>\n",
              "      <td>47</td>\n",
              "      <td>8</td>\n",
              "      <td>12</td>\n",
              "      <td>4</td>\n",
              "      <td>10</td>\n",
              "      <td>0</td>\n",
              "    </tr>\n",
              "    <tr>\n",
              "      <th>4</th>\n",
              "      <td>6256451</td>\n",
              "      <td>41</td>\n",
              "      <td>2</td>\n",
              "      <td>1</td>\n",
              "      <td>2</td>\n",
              "      <td>1</td>\n",
              "      <td>43</td>\n",
              "      <td>54</td>\n",
              "      <td>17</td>\n",
              "      <td>2</td>\n",
              "      <td>12</td>\n",
              "      <td>1</td>\n",
              "    </tr>\n",
              "    <tr>\n",
              "      <th>5</th>\n",
              "      <td>5768871</td>\n",
              "      <td>47</td>\n",
              "      <td>11</td>\n",
              "      <td>1</td>\n",
              "      <td>2</td>\n",
              "      <td>0</td>\n",
              "      <td>11</td>\n",
              "      <td>296</td>\n",
              "      <td>22</td>\n",
              "      <td>3</td>\n",
              "      <td>14</td>\n",
              "      <td>1</td>\n",
              "    </tr>\n",
              "    <tr>\n",
              "      <th>...</th>\n",
              "      <td>...</td>\n",
              "      <td>...</td>\n",
              "      <td>...</td>\n",
              "      <td>...</td>\n",
              "      <td>...</td>\n",
              "      <td>...</td>\n",
              "      <td>...</td>\n",
              "      <td>...</td>\n",
              "      <td>...</td>\n",
              "      <td>...</td>\n",
              "      <td>...</td>\n",
              "      <td>...</td>\n",
              "    </tr>\n",
              "    <tr>\n",
              "      <th>251996</th>\n",
              "      <td>8154883</td>\n",
              "      <td>43</td>\n",
              "      <td>13</td>\n",
              "      <td>1</td>\n",
              "      <td>2</td>\n",
              "      <td>0</td>\n",
              "      <td>45</td>\n",
              "      <td>162</td>\n",
              "      <td>28</td>\n",
              "      <td>6</td>\n",
              "      <td>11</td>\n",
              "      <td>0</td>\n",
              "    </tr>\n",
              "    <tr>\n",
              "      <th>251997</th>\n",
              "      <td>2843572</td>\n",
              "      <td>26</td>\n",
              "      <td>10</td>\n",
              "      <td>1</td>\n",
              "      <td>2</td>\n",
              "      <td>0</td>\n",
              "      <td>3</td>\n",
              "      <td>251</td>\n",
              "      <td>13</td>\n",
              "      <td>6</td>\n",
              "      <td>11</td>\n",
              "      <td>0</td>\n",
              "    </tr>\n",
              "    <tr>\n",
              "      <th>251998</th>\n",
              "      <td>4522448</td>\n",
              "      <td>46</td>\n",
              "      <td>7</td>\n",
              "      <td>1</td>\n",
              "      <td>2</td>\n",
              "      <td>0</td>\n",
              "      <td>17</td>\n",
              "      <td>144</td>\n",
              "      <td>14</td>\n",
              "      <td>7</td>\n",
              "      <td>12</td>\n",
              "      <td>0</td>\n",
              "    </tr>\n",
              "    <tr>\n",
              "      <th>251999</th>\n",
              "      <td>6507128</td>\n",
              "      <td>45</td>\n",
              "      <td>0</td>\n",
              "      <td>1</td>\n",
              "      <td>2</td>\n",
              "      <td>0</td>\n",
              "      <td>27</td>\n",
              "      <td>233</td>\n",
              "      <td>18</td>\n",
              "      <td>0</td>\n",
              "      <td>10</td>\n",
              "      <td>0</td>\n",
              "    </tr>\n",
              "    <tr>\n",
              "      <th>252000</th>\n",
              "      <td>9070230</td>\n",
              "      <td>70</td>\n",
              "      <td>17</td>\n",
              "      <td>1</td>\n",
              "      <td>2</td>\n",
              "      <td>0</td>\n",
              "      <td>44</td>\n",
              "      <td>26</td>\n",
              "      <td>22</td>\n",
              "      <td>7</td>\n",
              "      <td>11</td>\n",
              "      <td>0</td>\n",
              "    </tr>\n",
              "  </tbody>\n",
              "</table>\n",
              "<p>252000 rows × 12 columns</p>\n",
              "</div>"
            ],
            "text/plain": [
              "         Income  Age  Experience  ...  CURRENT_JOB_YRS  CURRENT_HOUSE_YRS  Risk_Flag\n",
              "Id                                ...                                               \n",
              "1       1303834   23           3  ...                3                 13          0\n",
              "2       7574516   40          10  ...                9                 13          0\n",
              "3       3991815   66           4  ...                4                 10          0\n",
              "4       6256451   41           2  ...                2                 12          1\n",
              "5       5768871   47          11  ...                3                 14          1\n",
              "...         ...  ...         ...  ...              ...                ...        ...\n",
              "251996  8154883   43          13  ...                6                 11          0\n",
              "251997  2843572   26          10  ...                6                 11          0\n",
              "251998  4522448   46           7  ...                7                 12          0\n",
              "251999  6507128   45           0  ...                0                 10          0\n",
              "252000  9070230   70          17  ...                7                 11          0\n",
              "\n",
              "[252000 rows x 12 columns]"
            ]
          },
          "metadata": {},
          "execution_count": 61
        }
      ]
    },
    {
      "cell_type": "markdown",
      "metadata": {
        "id": "EX90K5NpeNjh"
      },
      "source": [
        "# Training and Testing Samples\n",
        "\n",
        "Now that I am done with the data preprocessing, I must split the data before I start doing the decision tree classifier.\n",
        "\n",
        "This will help to prevent **ovefitting and underfitting** from happening.\n",
        "\n",
        "**X** will be the dataset without the Risk_Flag column, and **y** will be the Risk_Flag column\n",
        "\n",
        "[5]."
      ]
    },
    {
      "cell_type": "code",
      "metadata": {
        "id": "FoyVQ4_0cyp-",
        "colab": {
          "base_uri": "https://localhost:8080/"
        },
        "outputId": "24cc9b78-364e-4766-b117-959dfcb40955"
      },
      "source": [
        "X = df.drop(['Risk_Flag'], axis = 'columns')\n",
        "y = df.Risk_Flag\n",
        "\n",
        "X_train, X_test, y_train, y_test = train_test_split(X, y, test_size=0.33)\n",
        "print(X_train.shape, X_test.shape, y_train.shape, y_test.shape)"
      ],
      "execution_count": 69,
      "outputs": [
        {
          "output_type": "stream",
          "name": "stdout",
          "text": [
            "(168840, 11) (83160, 11) (168840,) (83160,)\n"
          ]
        }
      ]
    },
    {
      "cell_type": "markdown",
      "metadata": {
        "id": "eVLE-sTijkbH"
      },
      "source": [
        "# Rescale the data\n",
        "\n",
        "StandardScaler is used for transforming data so it has 0 as mean (μ = 0) and 1 as std (σ = 1). This is ideal when we have negative values in our dataframe.\n",
        "\n",
        "[6]."
      ]
    },
    {
      "cell_type": "code",
      "metadata": {
        "colab": {
          "base_uri": "https://localhost:8080/"
        },
        "id": "yzn5QQpLjsk1",
        "outputId": "406f2208-7602-4a77-d6f1-b0ce8f1b735b"
      },
      "source": [
        "from sklearn.preprocessing import StandardScaler\n",
        "\n",
        "scaler = StandardScaler()\n",
        "\n",
        "X_train = scaler.fit_transform(X_train)\n",
        "X_test = scaler.transform(X_test)\n",
        "\n",
        "print(scaler.mean_)\n",
        "print(X_train)\n",
        "print(X_test)"
      ],
      "execution_count": 79,
      "outputs": [
        {
          "output_type": "stream",
          "name": "stdout",
          "text": [
            "[ 1.01842775e-17 -1.23726347e-17 -1.40559864e-17  4.54504948e-18\n",
            " -1.43926567e-17  9.80552342e-17  1.50870393e-17  1.93585441e-17\n",
            " -8.45884209e-18 -1.17834616e-17  1.74226897e-17]\n",
            "[[-1.56970566e-01 -1.46195964e+00  6.52193965e-01 ...  4.46480190e-01\n",
            "   7.27907042e-01 -7.13586152e-01]\n",
            " [-6.56828644e-01  1.69891125e+00  3.18838646e-01 ...  1.19277866e+00\n",
            "  -3.68529312e-01  1.43116099e+00]\n",
            " [ 8.86210604e-01 -9.93682474e-01  1.15222694e+00 ...  1.19277866e+00\n",
            "  -6.42638400e-01  1.32956370e-03]\n",
            " ...\n",
            " [ 7.73850748e-01 -4.66870659e-01 -1.51461561e+00 ... -1.36595896e+00\n",
            "  -1.46496567e+00  7.16245279e-01]\n",
            " [ 1.43728225e+00  1.58184195e+00  8.18871625e-01 ... -2.99818282e-01\n",
            "  -9.44202232e-02  7.16245279e-01]\n",
            " [ 1.43418172e+00  1.28916872e+00  4.85516306e-01 ... -8.32888620e-01\n",
            "   1.82434340e+00 -1.42850187e+00]]\n",
            "[[-1.30159347e+00 -3.49801367e-01  9.85549284e-01 ...  6.59708325e-01\n",
            "   4.53797954e-01 -7.13586152e-01]\n",
            " [-5.41227735e-01 -2.32732075e-01 -6.81227310e-01 ... -8.65901472e-02\n",
            "  -9.44202232e-02  1.32956370e-03]\n",
            " [ 7.42773627e-01 -7.01009244e-01  1.15222694e+00 ... -8.65901472e-02\n",
            "   2.09845248e+00  7.16245279e-01]\n",
            " ...\n",
            " [-7.95699488e-01  7.03822263e-01  8.18871625e-01 ...  2.00239202e-02\n",
            "  -6.42638400e-01  1.32956370e-03]\n",
            " [ 3.45609150e-01  2.94079740e-01 -1.45166725e-02 ... -1.36595896e+00\n",
            "   1.00201613e+00 -1.42850187e+00]\n",
            " [-7.64610222e-01  1.18475802e-01  1.15222694e+00 ... -2.99818282e-01\n",
            "   2.09845248e+00  7.16245279e-01]]\n"
          ]
        }
      ]
    },
    {
      "cell_type": "markdown",
      "metadata": {
        "id": "zxZQSxn8l9qe"
      },
      "source": [
        "# Decision Tree Implementation\n",
        "Now I will implement the **Decision Tree Classifier**.\n",
        "\n",
        "As seen in the scikit-learn documentation (referenced below), it takes 2 arrays as inputs (**training and test sample**)\n",
        "\n",
        "The code below will fit the model\n",
        "\n",
        "[7]."
      ]
    },
    {
      "cell_type": "code",
      "metadata": {
        "id": "Ywn3q9RZl5qc"
      },
      "source": [
        "from sklearn import tree\n",
        "\n",
        "DTreeClf = tree.DecisionTreeClassifier()\n",
        "DTreeClf = DTreeClf.fit(X, y)"
      ],
      "execution_count": 87,
      "outputs": []
    },
    {
      "cell_type": "markdown",
      "metadata": {
        "id": "1NR7rwL2mnPs"
      },
      "source": [
        "Following the example code from the documentation, I can plot the already trained tree:\n",
        "\n",
        "[7]."
      ]
    },
    {
      "cell_type": "code",
      "metadata": {
        "colab": {
          "base_uri": "https://localhost:8080/",
          "height": 1000
        },
        "id": "uVbFoxRxmnuP",
        "outputId": "4da882c8-971e-412e-f9b7-6ca74c9e40d0"
      },
      "source": [
        "from sklearn import tree\n",
        "\n",
        "plt.figure(figsize=(15,15))\n",
        "\n",
        "\n",
        "tree.plot_tree(DTreeClf)"
      ],
      "execution_count": 95,
      "outputs": [
        {
          "output_type": "execute_result",
          "data": {
            "text/plain": [
              "[Text(418.5, 747.4499999999999, 'X[3] <= 0.8\\ngini = 0.667\\nsamples = 150\\nvalue = [50, 50, 50]'),\n",
              " Text(354.11538461538464, 611.55, 'gini = 0.0\\nsamples = 50\\nvalue = [50, 0, 0]'),\n",
              " Text(482.8846153846154, 611.55, 'X[3] <= 1.75\\ngini = 0.5\\nsamples = 100\\nvalue = [0, 50, 50]'),\n",
              " Text(257.53846153846155, 475.65, 'X[2] <= 4.95\\ngini = 0.168\\nsamples = 54\\nvalue = [0, 49, 5]'),\n",
              " Text(128.76923076923077, 339.74999999999994, 'X[3] <= 1.65\\ngini = 0.041\\nsamples = 48\\nvalue = [0, 47, 1]'),\n",
              " Text(64.38461538461539, 203.8499999999999, 'gini = 0.0\\nsamples = 47\\nvalue = [0, 47, 0]'),\n",
              " Text(193.15384615384616, 203.8499999999999, 'gini = 0.0\\nsamples = 1\\nvalue = [0, 0, 1]'),\n",
              " Text(386.3076923076923, 339.74999999999994, 'X[3] <= 1.55\\ngini = 0.444\\nsamples = 6\\nvalue = [0, 2, 4]'),\n",
              " Text(321.9230769230769, 203.8499999999999, 'gini = 0.0\\nsamples = 3\\nvalue = [0, 0, 3]'),\n",
              " Text(450.69230769230774, 203.8499999999999, 'X[2] <= 5.45\\ngini = 0.444\\nsamples = 3\\nvalue = [0, 2, 1]'),\n",
              " Text(386.3076923076923, 67.94999999999993, 'gini = 0.0\\nsamples = 2\\nvalue = [0, 2, 0]'),\n",
              " Text(515.0769230769231, 67.94999999999993, 'gini = 0.0\\nsamples = 1\\nvalue = [0, 0, 1]'),\n",
              " Text(708.2307692307693, 475.65, 'X[2] <= 4.85\\ngini = 0.043\\nsamples = 46\\nvalue = [0, 1, 45]'),\n",
              " Text(643.8461538461538, 339.74999999999994, 'X[1] <= 3.1\\ngini = 0.444\\nsamples = 3\\nvalue = [0, 1, 2]'),\n",
              " Text(579.4615384615385, 203.8499999999999, 'gini = 0.0\\nsamples = 2\\nvalue = [0, 0, 2]'),\n",
              " Text(708.2307692307693, 203.8499999999999, 'gini = 0.0\\nsamples = 1\\nvalue = [0, 1, 0]'),\n",
              " Text(772.6153846153846, 339.74999999999994, 'gini = 0.0\\nsamples = 43\\nvalue = [0, 0, 43]')]"
            ]
          },
          "metadata": {},
          "execution_count": 95
        },
        {
          "output_type": "display_data",
          "data": {
            "image/png": "[encoded data removed]",
            "text/plain": [
              "<Figure size 1080x1080 with 1 Axes>"
            ]
          },
          "metadata": {
            "needs_background": "light"
          }
        }
      ]
    },
    {
      "cell_type": "markdown",
      "metadata": {
        "id": "NlP1Tqx-q7ny"
      },
      "source": [
        "# Explaining the Decision Tree\n",
        "\n",
        "* There are two types of nodes:     \n",
        "  * One has a condition, which splits the data and makes the tree\n",
        "  * The other helps us define the class of anew data point\n",
        "\n",
        "Nodes make sub-leaves when the condition is met, and I can see that the samples are divided depending on the condition.\n",
        "\n",
        "**How can we use a decision tree to classify a new data point however**?\n",
        "\n",
        "It helps define the splitting conditions, like a bunch of if statements.\n",
        "\n",
        "[8].\n",
        "\n",
        "[9].\n"
      ]
    },
    {
      "cell_type": "markdown",
      "metadata": {
        "id": "hEGBV8A8Xcd9"
      },
      "source": [
        "# Next Steps\n",
        "\n",
        "* See how I can change hyperparameters in the Decision Tree\n",
        "\n",
        "* Begin Random Forest Classifier\n",
        "\n",
        "* See if there are outliers\n",
        "\n",
        "* Consult with Dr. Buchan what the percentages should be regarding the training and test set (currently 0.33 and 0.67, unsure if there are better percentages)\n",
        "\n",
        "* Try to understand the maths behind scaling\n",
        "\n",
        "* Build the Neural Network and compare the models"
      ]
    },
    {
      "cell_type": "markdown",
      "metadata": {
        "id": "cjmUCNL9XIHF"
      },
      "source": [
        "#References \n",
        "\n",
        "\n",
        "[1]. *Make more than one chart in same ipython Notebook cell*. Stack Overflow. Retrieved from https://stackoverflow.com/questions/16392921/make-more-than-one-chart-in-same-ipython-notebook-cell\n",
        "\n",
        "\n",
        "[2]. Seaborn.countplot¶. seaborn.countplot - seaborn 0.11.2 documentation. (n.d.). Retrieved from https://seaborn.pydata.org/generated/seaborn.countplot.html. \n",
        "\n",
        "\n",
        "[3]. Sklearn.preprocessing.LabelEncoder. scikit. (n.d.). Retrieved from https://scikit-learn.org/stable/modules/generated/sklearn.preprocessing.LabelEncoder.html. \n",
        "\n",
        "\n",
        "[4].How to Create a Correlation Matrix using Pandas. Data to Fish. (2020, March 27). Retrieved from https://datatofish.com/correlation-matrix-pandas/. \n",
        "\n",
        "\n",
        "[5]. Brownlee, J. (2020, August 26). Train-test split for Evaluating Machine Learning Algorithms. Machine Learning Mastery. Retrieved from https://machinelearningmastery.com/train-test-split-for-evaluating-machine-learning-algorithms/. \n",
        "\n",
        "\n",
        "[6]. Brownlee, J. (2020, August 27). How to use StandardScaler and MinMaxScaler transforms in Python. Machine Learning Mastery. Retrieved from https://machinelearningmastery.com/standardscaler-and-minmaxscaler-transforms-in-python/. \n",
        "\n",
        "\n",
        "[7]. 1.10.1. Classification. scikit. (n.d.). Retrieved from https://scikit-learn.org/stable/modules/tree.html#classification. \n",
        "\n",
        "\n",
        "[8]. Understanding the decision tree structure. scikit. (n.d.). Retrieved November 26, 2021, from https://scikit-learn.org/stable/auto_examples/tree/plot_unveil_tree_structure.html#sphx-glr-auto-examples-tree-plot-unveil-tree-structure-py. \n",
        "\n",
        "\n",
        "[9]. Normalized Nerd. (2021, January 13). Decision tree classification clearly explained! YouTube. Retrieved November 26, 2021, from https://www.youtube.com/watch?v=ZVR2Way4nwQ. "
      ]
    },
    {
      "cell_type": "code",
      "metadata": {
        "id": "mplMj7IxXKE1"
      },
      "source": [
        ""
      ],
      "execution_count": null,
      "outputs": []
    }
  ]
}