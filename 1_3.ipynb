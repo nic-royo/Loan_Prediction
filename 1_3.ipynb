{
  "nbformat": 4,
  "nbformat_minor": 0,
  "metadata": {
    "colab": {
      "name": "1.3.ipynb",
      "provenance": [],
      "collapsed_sections": []
    },
    "kernelspec": {
      "name": "python3",
      "display_name": "Python 3"
    },
    "language_info": {
      "name": "python"
    }
  },
  "cells": [
    {
      "cell_type": "markdown",
      "source": [
        "# Default Loan Prediction\n",
        "## Final Project \n",
        "## By Nicolas Obregon\n",
        "\n",
        "## Introduction and Research Topic\n",
        "\n",
        "### Research Question\n",
        "\n",
        "### Motivation\n",
        "\n",
        "\n"
      ],
      "metadata": {
        "id": "LlFmCz83pRJG"
      }
    },
    {
      "cell_type": "markdown",
      "source": [
        "## Data overview, cleaning and pre-processing\n",
        "\n",
        "The dataset was collected from kaggle (https://www.kaggle.com/subhamjain/loan-prediction-based-on-customer-behavior/version/1?select=Training+Data.csv), a webpage that contains multiple datasets for users to solve problems or create novel coding projects.\n",
        "\n",
        "It consists of three csv files:\n",
        "\n",
        "*   The first **(TrainingData.csv)**, used here, is the training data file which has users with 12 features describing them, and a risk flag (which is either 1 (person defaulted) or 0 (person did not default)) which indicates if the individual has defaulted in the past or not. Our machine learning model will mainly learn from the contents of this folder.\n",
        "  * Most of the variables are object types so I will convert them immediatly to category types\n",
        "\n",
        "*   The second is the test data **(TestData.csv)** dataset, which includes new id's and their features but no risk default. With this data set I will predict possible defaulting individuals.\n",
        "\n",
        "* The third file is the Sample Prediction Dataset **(SamplePredictionDataset.csv)**, here I will later combine the predictions to see if they are correct or not.\n",
        "\n",
        "### Variables\n",
        "There are 13 variables, here they are explained in detail:\n",
        "* Variables that are important to know to keep track of what is going on, but otherwise have no effect on the analysis:\n",
        "  * **Id**: Self-explanatory\n",
        "  * **Income**: States in Indian rupees the individuals income\n",
        "  * **Age**: States the users age\n",
        "  * **Experience**: States the users years of work experience \n",
        "  * **Relationship_Status**: States if the user is married or single\n",
        "  * **House_Ownership**: States if the user rents or owns a house or neither\n",
        "  * **Car_Ownership**: States if the user owns a car\n",
        "  * **Profession**: The proffesion of the user \n",
        "  * **CITY and STATE**: Self-explanatory\n",
        "  * **CURRENT_JOB_YRS**: The years the user has been at their current job\n",
        "  * **CURRENT_HOUSE_YRS**: Years user has been in their house\n",
        "  * **Risk_Flag**: Whether the user has defaulted or not.\n",
        "    * This is the Class Variable (0 or 1)\n",
        "\n",
        "### Libraries\n"
      ],
      "metadata": {
        "id": "3383fsSmpkVl"
      }
    },
    {
      "cell_type": "code",
      "source": [
        "%matplotlib inline\n",
        "\n",
        "import pandas as pd\n",
        "import matplotlib as mpl\n",
        "import matplotlib.pyplot as plt\n",
        "import numpy as np\n",
        "from scipy import stats\n",
        "import seaborn as sns\n",
        "import sklearn\n",
        "\n",
        "from sklearn.preprocessing import StandardScaler\n",
        "from sklearn.tree import DecisionTreeClassifier\n",
        "from sklearn.ensemble import RandomForestClassifier\n",
        "\n",
        "#Import to split training and test data\n",
        "from sklearn.model_selection import train_test_split"
      ],
      "metadata": {
        "id": "Z6ZnRZnqpNnY"
      },
      "execution_count": null,
      "outputs": []
    },
    {
      "cell_type": "markdown",
      "source": [
        "### Data Type Cleaning\n",
        "\n",
        "Before I start doing the project I want to have the correct data.\n",
        "\n",
        "I can see below that many variables are object types."
      ],
      "metadata": {
        "id": "B8rirwY2r1h4"
      }
    },
    {
      "cell_type": "code",
      "source": [
        "df = pd.read_csv(\"TrainingData.csv\", index_col = 0)\n",
        "\n",
        "#dfTest = pd.read_csv('TestData.csv')\n",
        "\n",
        "df.info()"
      ],
      "metadata": {
        "colab": {
          "base_uri": "https://localhost:8080/"
        },
        "id": "Xq5V4MRCrvFV",
        "outputId": "fe63432d-b7a1-4e9c-81c6-7aeae262335f"
      },
      "execution_count": null,
      "outputs": [
        {
          "output_type": "stream",
          "name": "stdout",
          "text": [
            "<class 'pandas.core.frame.DataFrame'>\n",
            "Int64Index: 252000 entries, 1 to 252000\n",
            "Data columns (total 12 columns):\n",
            " #   Column             Non-Null Count   Dtype \n",
            "---  ------             --------------   ----- \n",
            " 0   Income             252000 non-null  int64 \n",
            " 1   Age                252000 non-null  int64 \n",
            " 2   Experience         252000 non-null  int64 \n",
            " 3   Married/Single     252000 non-null  object\n",
            " 4   House_Ownership    252000 non-null  object\n",
            " 5   Car_Ownership      252000 non-null  object\n",
            " 6   Profession         252000 non-null  object\n",
            " 7   CITY               252000 non-null  object\n",
            " 8   STATE              252000 non-null  object\n",
            " 9   CURRENT_JOB_YRS    252000 non-null  int64 \n",
            " 10  CURRENT_HOUSE_YRS  252000 non-null  int64 \n",
            " 11  Risk_Flag          252000 non-null  int64 \n",
            "dtypes: int64(6), object(6)\n",
            "memory usage: 25.0+ MB\n"
          ]
        }
      ]
    },
    {
      "cell_type": "code",
      "source": [
        "dfOriginal=df.copy()\n",
        "#dfTestOriginal=dfTest.copy()"
      ],
      "metadata": {
        "id": "Sz068g8gmWNN"
      },
      "execution_count": null,
      "outputs": []
    },
    {
      "cell_type": "markdown",
      "source": [
        "I will immediatly change the object type variables to category."
      ],
      "metadata": {
        "id": "JHV1Xko5rpEQ"
      }
    },
    {
      "cell_type": "code",
      "execution_count": null,
      "metadata": {
        "colab": {
          "base_uri": "https://localhost:8080/",
          "height": 473
        },
        "id": "jsCuDblxpEfc",
        "outputId": "60631a57-2657-49c4-b025-52153c391943"
      },
      "outputs": [
        {
          "output_type": "stream",
          "name": "stdout",
          "text": [
            "the set has 252000 rows and 12 columns\n"
          ]
        },
        {
          "output_type": "execute_result",
          "data": {
            "text/html": [
              "\n",
              "  <div id=\"df-ebc592f3-44c5-42f4-967e-cdade30053dd\">\n",
              "    <div class=\"colab-df-container\">\n",
              "      <div>\n",
              "<style scoped>\n",
              "    .dataframe tbody tr th:only-of-type {\n",
              "        vertical-align: middle;\n",
              "    }\n",
              "\n",
              "    .dataframe tbody tr th {\n",
              "        vertical-align: top;\n",
              "    }\n",
              "\n",
              "    .dataframe thead th {\n",
              "        text-align: right;\n",
              "    }\n",
              "</style>\n",
              "<table border=\"1\" class=\"dataframe\">\n",
              "  <thead>\n",
              "    <tr style=\"text-align: right;\">\n",
              "      <th></th>\n",
              "      <th>Income</th>\n",
              "      <th>Age</th>\n",
              "      <th>Experience</th>\n",
              "      <th>Married/Single</th>\n",
              "      <th>House_Ownership</th>\n",
              "      <th>Car_Ownership</th>\n",
              "      <th>Profession</th>\n",
              "      <th>CITY</th>\n",
              "      <th>STATE</th>\n",
              "      <th>CURRENT_JOB_YRS</th>\n",
              "      <th>CURRENT_HOUSE_YRS</th>\n",
              "      <th>Risk_Flag</th>\n",
              "    </tr>\n",
              "    <tr>\n",
              "      <th>Id</th>\n",
              "      <th></th>\n",
              "      <th></th>\n",
              "      <th></th>\n",
              "      <th></th>\n",
              "      <th></th>\n",
              "      <th></th>\n",
              "      <th></th>\n",
              "      <th></th>\n",
              "      <th></th>\n",
              "      <th></th>\n",
              "      <th></th>\n",
              "      <th></th>\n",
              "    </tr>\n",
              "  </thead>\n",
              "  <tbody>\n",
              "    <tr>\n",
              "      <th>1</th>\n",
              "      <td>1303834</td>\n",
              "      <td>23</td>\n",
              "      <td>3</td>\n",
              "      <td>single</td>\n",
              "      <td>rented</td>\n",
              "      <td>no</td>\n",
              "      <td>Mechanical_engineer</td>\n",
              "      <td>Rewa</td>\n",
              "      <td>Madhya_Pradesh</td>\n",
              "      <td>3</td>\n",
              "      <td>13</td>\n",
              "      <td>0</td>\n",
              "    </tr>\n",
              "    <tr>\n",
              "      <th>2</th>\n",
              "      <td>7574516</td>\n",
              "      <td>40</td>\n",
              "      <td>10</td>\n",
              "      <td>single</td>\n",
              "      <td>rented</td>\n",
              "      <td>no</td>\n",
              "      <td>Software_Developer</td>\n",
              "      <td>Parbhani</td>\n",
              "      <td>Maharashtra</td>\n",
              "      <td>9</td>\n",
              "      <td>13</td>\n",
              "      <td>0</td>\n",
              "    </tr>\n",
              "    <tr>\n",
              "      <th>3</th>\n",
              "      <td>3991815</td>\n",
              "      <td>66</td>\n",
              "      <td>4</td>\n",
              "      <td>married</td>\n",
              "      <td>rented</td>\n",
              "      <td>no</td>\n",
              "      <td>Technical_writer</td>\n",
              "      <td>Alappuzha</td>\n",
              "      <td>Kerala</td>\n",
              "      <td>4</td>\n",
              "      <td>10</td>\n",
              "      <td>0</td>\n",
              "    </tr>\n",
              "    <tr>\n",
              "      <th>4</th>\n",
              "      <td>6256451</td>\n",
              "      <td>41</td>\n",
              "      <td>2</td>\n",
              "      <td>single</td>\n",
              "      <td>rented</td>\n",
              "      <td>yes</td>\n",
              "      <td>Software_Developer</td>\n",
              "      <td>Bhubaneswar</td>\n",
              "      <td>Odisha</td>\n",
              "      <td>2</td>\n",
              "      <td>12</td>\n",
              "      <td>1</td>\n",
              "    </tr>\n",
              "    <tr>\n",
              "      <th>5</th>\n",
              "      <td>5768871</td>\n",
              "      <td>47</td>\n",
              "      <td>11</td>\n",
              "      <td>single</td>\n",
              "      <td>rented</td>\n",
              "      <td>no</td>\n",
              "      <td>Civil_servant</td>\n",
              "      <td>Tiruchirappalli[10]</td>\n",
              "      <td>Tamil_Nadu</td>\n",
              "      <td>3</td>\n",
              "      <td>14</td>\n",
              "      <td>1</td>\n",
              "    </tr>\n",
              "    <tr>\n",
              "      <th>...</th>\n",
              "      <td>...</td>\n",
              "      <td>...</td>\n",
              "      <td>...</td>\n",
              "      <td>...</td>\n",
              "      <td>...</td>\n",
              "      <td>...</td>\n",
              "      <td>...</td>\n",
              "      <td>...</td>\n",
              "      <td>...</td>\n",
              "      <td>...</td>\n",
              "      <td>...</td>\n",
              "      <td>...</td>\n",
              "    </tr>\n",
              "    <tr>\n",
              "      <th>251996</th>\n",
              "      <td>8154883</td>\n",
              "      <td>43</td>\n",
              "      <td>13</td>\n",
              "      <td>single</td>\n",
              "      <td>rented</td>\n",
              "      <td>no</td>\n",
              "      <td>Surgeon</td>\n",
              "      <td>Kolkata</td>\n",
              "      <td>West_Bengal</td>\n",
              "      <td>6</td>\n",
              "      <td>11</td>\n",
              "      <td>0</td>\n",
              "    </tr>\n",
              "    <tr>\n",
              "      <th>251997</th>\n",
              "      <td>2843572</td>\n",
              "      <td>26</td>\n",
              "      <td>10</td>\n",
              "      <td>single</td>\n",
              "      <td>rented</td>\n",
              "      <td>no</td>\n",
              "      <td>Army_officer</td>\n",
              "      <td>Rewa</td>\n",
              "      <td>Madhya_Pradesh</td>\n",
              "      <td>6</td>\n",
              "      <td>11</td>\n",
              "      <td>0</td>\n",
              "    </tr>\n",
              "    <tr>\n",
              "      <th>251998</th>\n",
              "      <td>4522448</td>\n",
              "      <td>46</td>\n",
              "      <td>7</td>\n",
              "      <td>single</td>\n",
              "      <td>rented</td>\n",
              "      <td>no</td>\n",
              "      <td>Design_Engineer</td>\n",
              "      <td>Kalyan-Dombivli</td>\n",
              "      <td>Maharashtra</td>\n",
              "      <td>7</td>\n",
              "      <td>12</td>\n",
              "      <td>0</td>\n",
              "    </tr>\n",
              "    <tr>\n",
              "      <th>251999</th>\n",
              "      <td>6507128</td>\n",
              "      <td>45</td>\n",
              "      <td>0</td>\n",
              "      <td>single</td>\n",
              "      <td>rented</td>\n",
              "      <td>no</td>\n",
              "      <td>Graphic_Designer</td>\n",
              "      <td>Pondicherry</td>\n",
              "      <td>Puducherry</td>\n",
              "      <td>0</td>\n",
              "      <td>10</td>\n",
              "      <td>0</td>\n",
              "    </tr>\n",
              "    <tr>\n",
              "      <th>252000</th>\n",
              "      <td>9070230</td>\n",
              "      <td>70</td>\n",
              "      <td>17</td>\n",
              "      <td>single</td>\n",
              "      <td>rented</td>\n",
              "      <td>no</td>\n",
              "      <td>Statistician</td>\n",
              "      <td>Avadi</td>\n",
              "      <td>Tamil_Nadu</td>\n",
              "      <td>7</td>\n",
              "      <td>11</td>\n",
              "      <td>0</td>\n",
              "    </tr>\n",
              "  </tbody>\n",
              "</table>\n",
              "<p>252000 rows × 12 columns</p>\n",
              "</div>\n",
              "      <button class=\"colab-df-convert\" onclick=\"convertToInteractive('df-ebc592f3-44c5-42f4-967e-cdade30053dd')\"\n",
              "              title=\"Convert this dataframe to an interactive table.\"\n",
              "              style=\"display:none;\">\n",
              "        \n",
              "  <svg xmlns=\"http://www.w3.org/2000/svg\" height=\"24px\"viewBox=\"0 0 24 24\"\n",
              "       width=\"24px\">\n",
              "    <path d=\"M0 0h24v24H0V0z\" fill=\"none\"/>\n",
              "    <path d=\"M18.56 5.44l.94 2.06.94-2.06 2.06-.94-2.06-.94-.94-2.06-.94 2.06-2.06.94zm-11 1L8.5 8.5l.94-2.06 2.06-.94-2.06-.94L8.5 2.5l-.94 2.06-2.06.94zm10 10l.94 2.06.94-2.06 2.06-.94-2.06-.94-.94-2.06-.94 2.06-2.06.94z\"/><path d=\"M17.41 7.96l-1.37-1.37c-.4-.4-.92-.59-1.43-.59-.52 0-1.04.2-1.43.59L10.3 9.45l-7.72 7.72c-.78.78-.78 2.05 0 2.83L4 21.41c.39.39.9.59 1.41.59.51 0 1.02-.2 1.41-.59l7.78-7.78 2.81-2.81c.8-.78.8-2.07 0-2.86zM5.41 20L4 18.59l7.72-7.72 1.47 1.35L5.41 20z\"/>\n",
              "  </svg>\n",
              "      </button>\n",
              "      \n",
              "  <style>\n",
              "    .colab-df-container {\n",
              "      display:flex;\n",
              "      flex-wrap:wrap;\n",
              "      gap: 12px;\n",
              "    }\n",
              "\n",
              "    .colab-df-convert {\n",
              "      background-color: #E8F0FE;\n",
              "      border: none;\n",
              "      border-radius: 50%;\n",
              "      cursor: pointer;\n",
              "      display: none;\n",
              "      fill: #1967D2;\n",
              "      height: 32px;\n",
              "      padding: 0 0 0 0;\n",
              "      width: 32px;\n",
              "    }\n",
              "\n",
              "    .colab-df-convert:hover {\n",
              "      background-color: #E2EBFA;\n",
              "      box-shadow: 0px 1px 2px rgba(60, 64, 67, 0.3), 0px 1px 3px 1px rgba(60, 64, 67, 0.15);\n",
              "      fill: #174EA6;\n",
              "    }\n",
              "\n",
              "    [theme=dark] .colab-df-convert {\n",
              "      background-color: #3B4455;\n",
              "      fill: #D2E3FC;\n",
              "    }\n",
              "\n",
              "    [theme=dark] .colab-df-convert:hover {\n",
              "      background-color: #434B5C;\n",
              "      box-shadow: 0px 1px 3px 1px rgba(0, 0, 0, 0.15);\n",
              "      filter: drop-shadow(0px 1px 2px rgba(0, 0, 0, 0.3));\n",
              "      fill: #FFFFFF;\n",
              "    }\n",
              "  </style>\n",
              "\n",
              "      <script>\n",
              "        const buttonEl =\n",
              "          document.querySelector('#df-ebc592f3-44c5-42f4-967e-cdade30053dd button.colab-df-convert');\n",
              "        buttonEl.style.display =\n",
              "          google.colab.kernel.accessAllowed ? 'block' : 'none';\n",
              "\n",
              "        async function convertToInteractive(key) {\n",
              "          const element = document.querySelector('#df-ebc592f3-44c5-42f4-967e-cdade30053dd');\n",
              "          const dataTable =\n",
              "            await google.colab.kernel.invokeFunction('convertToInteractive',\n",
              "                                                     [key], {});\n",
              "          if (!dataTable) return;\n",
              "\n",
              "          const docLinkHtml = 'Like what you see? Visit the ' +\n",
              "            '<a target=\"_blank\" href=https://colab.research.google.com/notebooks/data_table.ipynb>data table notebook</a>'\n",
              "            + ' to learn more about interactive tables.';\n",
              "          element.innerHTML = '';\n",
              "          dataTable['output_type'] = 'display_data';\n",
              "          await google.colab.output.renderOutput(dataTable, element);\n",
              "          const docLink = document.createElement('div');\n",
              "          docLink.innerHTML = docLinkHtml;\n",
              "          element.appendChild(docLink);\n",
              "        }\n",
              "      </script>\n",
              "    </div>\n",
              "  </div>\n",
              "  "
            ],
            "text/plain": [
              "         Income  Age  Experience Married/Single House_Ownership Car_Ownership  \\\n",
              "Id                                                                              \n",
              "1       1303834   23           3         single          rented            no   \n",
              "2       7574516   40          10         single          rented            no   \n",
              "3       3991815   66           4        married          rented            no   \n",
              "4       6256451   41           2         single          rented           yes   \n",
              "5       5768871   47          11         single          rented            no   \n",
              "...         ...  ...         ...            ...             ...           ...   \n",
              "251996  8154883   43          13         single          rented            no   \n",
              "251997  2843572   26          10         single          rented            no   \n",
              "251998  4522448   46           7         single          rented            no   \n",
              "251999  6507128   45           0         single          rented            no   \n",
              "252000  9070230   70          17         single          rented            no   \n",
              "\n",
              "                 Profession                 CITY           STATE  \\\n",
              "Id                                                                 \n",
              "1       Mechanical_engineer                 Rewa  Madhya_Pradesh   \n",
              "2        Software_Developer             Parbhani     Maharashtra   \n",
              "3          Technical_writer            Alappuzha          Kerala   \n",
              "4        Software_Developer          Bhubaneswar          Odisha   \n",
              "5             Civil_servant  Tiruchirappalli[10]      Tamil_Nadu   \n",
              "...                     ...                  ...             ...   \n",
              "251996              Surgeon              Kolkata     West_Bengal   \n",
              "251997         Army_officer                 Rewa  Madhya_Pradesh   \n",
              "251998      Design_Engineer      Kalyan-Dombivli     Maharashtra   \n",
              "251999     Graphic_Designer          Pondicherry      Puducherry   \n",
              "252000         Statistician                Avadi      Tamil_Nadu   \n",
              "\n",
              "        CURRENT_JOB_YRS  CURRENT_HOUSE_YRS  Risk_Flag  \n",
              "Id                                                     \n",
              "1                     3                 13          0  \n",
              "2                     9                 13          0  \n",
              "3                     4                 10          0  \n",
              "4                     2                 12          1  \n",
              "5                     3                 14          1  \n",
              "...                 ...                ...        ...  \n",
              "251996                6                 11          0  \n",
              "251997                6                 11          0  \n",
              "251998                7                 12          0  \n",
              "251999                0                 10          0  \n",
              "252000                7                 11          0  \n",
              "\n",
              "[252000 rows x 12 columns]"
            ]
          },
          "metadata": {},
          "execution_count": 4
        }
      ],
      "source": [
        "df = pd.read_csv(\"TrainingData.csv\", index_col = 0, \n",
        "                 dtype={'Income': int, 'Age': int,\n",
        "                        'Experience': int, 'Married/Single': 'category',\n",
        "                        'House_Ownership': 'category', 'Car_Ownership': 'category',\n",
        "                        'Profession': 'category', 'CITY': 'category',\n",
        "                        'STATE': 'category', 'CURRENT_JOB_YRS': int,\n",
        "                        'CURRENT_JOB_YRS': int, 'CURRENT_HOUSE_YRS': int,\n",
        "                        'Risk_Flag': int}\n",
        "                 #,na_values = ['n/a', ' ', '', '-']\n",
        "                 )\n",
        "print('the set has {} rows and {} columns'.format(df.shape[0], df.shape[1]))\n",
        "\n",
        "df"
      ]
    },
    {
      "cell_type": "markdown",
      "source": [
        "As well as the **Married/Single** variable as it is annoying to write"
      ],
      "metadata": {
        "id": "Nz6H98XDtcp6"
      }
    },
    {
      "cell_type": "code",
      "source": [
        "df = df.rename(columns = {'Married/Single':'Relationship_Status'})"
      ],
      "metadata": {
        "id": "TSOQRg9VtfrM"
      },
      "execution_count": null,
      "outputs": []
    },
    {
      "cell_type": "code",
      "source": [
        "df.info()"
      ],
      "metadata": {
        "colab": {
          "base_uri": "https://localhost:8080/"
        },
        "id": "jxIpW2ZlrZbw",
        "outputId": "b8311f77-6208-4388-cd24-6e0801a0d729"
      },
      "execution_count": null,
      "outputs": [
        {
          "output_type": "stream",
          "name": "stdout",
          "text": [
            "<class 'pandas.core.frame.DataFrame'>\n",
            "Int64Index: 252000 entries, 1 to 252000\n",
            "Data columns (total 12 columns):\n",
            " #   Column               Non-Null Count   Dtype   \n",
            "---  ------               --------------   -----   \n",
            " 0   Income               252000 non-null  int64   \n",
            " 1   Age                  252000 non-null  int64   \n",
            " 2   Experience           252000 non-null  int64   \n",
            " 3   Relationship_Status  252000 non-null  category\n",
            " 4   House_Ownership      252000 non-null  category\n",
            " 5   Car_Ownership        252000 non-null  category\n",
            " 6   Profession           252000 non-null  category\n",
            " 7   CITY                 252000 non-null  category\n",
            " 8   STATE                252000 non-null  category\n",
            " 9   CURRENT_JOB_YRS      252000 non-null  int64   \n",
            " 10  CURRENT_HOUSE_YRS    252000 non-null  int64   \n",
            " 11  Risk_Flag            252000 non-null  int64   \n",
            "dtypes: category(6), int64(6)\n",
            "memory usage: 15.2 MB\n"
          ]
        }
      ]
    },
    {
      "cell_type": "markdown",
      "source": [
        "It is working fine, I can move on."
      ],
      "metadata": {
        "id": "gO90pWP1sD8P"
      }
    },
    {
      "cell_type": "markdown",
      "source": [
        "### Missing Values\n",
        "\n",
        "I can see below that there are no missing values"
      ],
      "metadata": {
        "id": "hE_QKkB-sObT"
      }
    },
    {
      "cell_type": "code",
      "source": [
        "na_values = df.isna().sum()\n",
        "\n",
        "na_values"
      ],
      "metadata": {
        "colab": {
          "base_uri": "https://localhost:8080/"
        },
        "id": "2glMj9JSrjb7",
        "outputId": "3da0e311-89f9-41de-9c02-12b23e05a387"
      },
      "execution_count": null,
      "outputs": [
        {
          "output_type": "execute_result",
          "data": {
            "text/plain": [
              "Income                 0\n",
              "Age                    0\n",
              "Experience             0\n",
              "Relationship_Status    0\n",
              "House_Ownership        0\n",
              "Car_Ownership          0\n",
              "Profession             0\n",
              "CITY                   0\n",
              "STATE                  0\n",
              "CURRENT_JOB_YRS        0\n",
              "CURRENT_HOUSE_YRS      0\n",
              "Risk_Flag              0\n",
              "dtype: int64"
            ]
          },
          "metadata": {},
          "execution_count": 7
        }
      ]
    },
    {
      "cell_type": "markdown",
      "source": [
        "### Describe Numericals\n",
        "\n",
        "Using the describe() function, I can see some important things:\n",
        "\n",
        "*  The risk flag mean is 0.12, meaning that **most individuals have not defaulted**. \n",
        "\n",
        "* Income mean is quite high, and the max is so as well, but the min is extremely low (10310 Indian Rupees are 140 USD approximately) \n",
        "  * **This could be an outlier, I will consider this later**\n",
        "\n",
        "* Age is appropriately dispersed\n",
        "\n",
        "* All variables have the same count, so there are no missing values"
      ],
      "metadata": {
        "id": "yeh8cOrkscmM"
      }
    },
    {
      "cell_type": "code",
      "source": [
        "df.describe()"
      ],
      "metadata": {
        "colab": {
          "base_uri": "https://localhost:8080/",
          "height": 300
        },
        "id": "3ha9FBqCsMb2",
        "outputId": "0281d1d3-6152-4095-d387-79feeccf00a2"
      },
      "execution_count": null,
      "outputs": [
        {
          "output_type": "execute_result",
          "data": {
            "text/html": [
              "\n",
              "  <div id=\"df-a0fdf65c-49dc-4d73-bcba-6e58e54a7c9c\">\n",
              "    <div class=\"colab-df-container\">\n",
              "      <div>\n",
              "<style scoped>\n",
              "    .dataframe tbody tr th:only-of-type {\n",
              "        vertical-align: middle;\n",
              "    }\n",
              "\n",
              "    .dataframe tbody tr th {\n",
              "        vertical-align: top;\n",
              "    }\n",
              "\n",
              "    .dataframe thead th {\n",
              "        text-align: right;\n",
              "    }\n",
              "</style>\n",
              "<table border=\"1\" class=\"dataframe\">\n",
              "  <thead>\n",
              "    <tr style=\"text-align: right;\">\n",
              "      <th></th>\n",
              "      <th>Income</th>\n",
              "      <th>Age</th>\n",
              "      <th>Experience</th>\n",
              "      <th>CURRENT_JOB_YRS</th>\n",
              "      <th>CURRENT_HOUSE_YRS</th>\n",
              "      <th>Risk_Flag</th>\n",
              "    </tr>\n",
              "  </thead>\n",
              "  <tbody>\n",
              "    <tr>\n",
              "      <th>count</th>\n",
              "      <td>2.520000e+05</td>\n",
              "      <td>252000.000000</td>\n",
              "      <td>252000.000000</td>\n",
              "      <td>252000.000000</td>\n",
              "      <td>252000.000000</td>\n",
              "      <td>252000.000000</td>\n",
              "    </tr>\n",
              "    <tr>\n",
              "      <th>mean</th>\n",
              "      <td>4.997117e+06</td>\n",
              "      <td>49.954071</td>\n",
              "      <td>10.084437</td>\n",
              "      <td>6.333877</td>\n",
              "      <td>11.997794</td>\n",
              "      <td>0.123000</td>\n",
              "    </tr>\n",
              "    <tr>\n",
              "      <th>std</th>\n",
              "      <td>2.878311e+06</td>\n",
              "      <td>17.063855</td>\n",
              "      <td>6.002590</td>\n",
              "      <td>3.647053</td>\n",
              "      <td>1.399037</td>\n",
              "      <td>0.328438</td>\n",
              "    </tr>\n",
              "    <tr>\n",
              "      <th>min</th>\n",
              "      <td>1.031000e+04</td>\n",
              "      <td>21.000000</td>\n",
              "      <td>0.000000</td>\n",
              "      <td>0.000000</td>\n",
              "      <td>10.000000</td>\n",
              "      <td>0.000000</td>\n",
              "    </tr>\n",
              "    <tr>\n",
              "      <th>25%</th>\n",
              "      <td>2.503015e+06</td>\n",
              "      <td>35.000000</td>\n",
              "      <td>5.000000</td>\n",
              "      <td>3.000000</td>\n",
              "      <td>11.000000</td>\n",
              "      <td>0.000000</td>\n",
              "    </tr>\n",
              "    <tr>\n",
              "      <th>50%</th>\n",
              "      <td>5.000694e+06</td>\n",
              "      <td>50.000000</td>\n",
              "      <td>10.000000</td>\n",
              "      <td>6.000000</td>\n",
              "      <td>12.000000</td>\n",
              "      <td>0.000000</td>\n",
              "    </tr>\n",
              "    <tr>\n",
              "      <th>75%</th>\n",
              "      <td>7.477502e+06</td>\n",
              "      <td>65.000000</td>\n",
              "      <td>15.000000</td>\n",
              "      <td>9.000000</td>\n",
              "      <td>13.000000</td>\n",
              "      <td>0.000000</td>\n",
              "    </tr>\n",
              "    <tr>\n",
              "      <th>max</th>\n",
              "      <td>9.999938e+06</td>\n",
              "      <td>79.000000</td>\n",
              "      <td>20.000000</td>\n",
              "      <td>14.000000</td>\n",
              "      <td>14.000000</td>\n",
              "      <td>1.000000</td>\n",
              "    </tr>\n",
              "  </tbody>\n",
              "</table>\n",
              "</div>\n",
              "      <button class=\"colab-df-convert\" onclick=\"convertToInteractive('df-a0fdf65c-49dc-4d73-bcba-6e58e54a7c9c')\"\n",
              "              title=\"Convert this dataframe to an interactive table.\"\n",
              "              style=\"display:none;\">\n",
              "        \n",
              "  <svg xmlns=\"http://www.w3.org/2000/svg\" height=\"24px\"viewBox=\"0 0 24 24\"\n",
              "       width=\"24px\">\n",
              "    <path d=\"M0 0h24v24H0V0z\" fill=\"none\"/>\n",
              "    <path d=\"M18.56 5.44l.94 2.06.94-2.06 2.06-.94-2.06-.94-.94-2.06-.94 2.06-2.06.94zm-11 1L8.5 8.5l.94-2.06 2.06-.94-2.06-.94L8.5 2.5l-.94 2.06-2.06.94zm10 10l.94 2.06.94-2.06 2.06-.94-2.06-.94-.94-2.06-.94 2.06-2.06.94z\"/><path d=\"M17.41 7.96l-1.37-1.37c-.4-.4-.92-.59-1.43-.59-.52 0-1.04.2-1.43.59L10.3 9.45l-7.72 7.72c-.78.78-.78 2.05 0 2.83L4 21.41c.39.39.9.59 1.41.59.51 0 1.02-.2 1.41-.59l7.78-7.78 2.81-2.81c.8-.78.8-2.07 0-2.86zM5.41 20L4 18.59l7.72-7.72 1.47 1.35L5.41 20z\"/>\n",
              "  </svg>\n",
              "      </button>\n",
              "      \n",
              "  <style>\n",
              "    .colab-df-container {\n",
              "      display:flex;\n",
              "      flex-wrap:wrap;\n",
              "      gap: 12px;\n",
              "    }\n",
              "\n",
              "    .colab-df-convert {\n",
              "      background-color: #E8F0FE;\n",
              "      border: none;\n",
              "      border-radius: 50%;\n",
              "      cursor: pointer;\n",
              "      display: none;\n",
              "      fill: #1967D2;\n",
              "      height: 32px;\n",
              "      padding: 0 0 0 0;\n",
              "      width: 32px;\n",
              "    }\n",
              "\n",
              "    .colab-df-convert:hover {\n",
              "      background-color: #E2EBFA;\n",
              "      box-shadow: 0px 1px 2px rgba(60, 64, 67, 0.3), 0px 1px 3px 1px rgba(60, 64, 67, 0.15);\n",
              "      fill: #174EA6;\n",
              "    }\n",
              "\n",
              "    [theme=dark] .colab-df-convert {\n",
              "      background-color: #3B4455;\n",
              "      fill: #D2E3FC;\n",
              "    }\n",
              "\n",
              "    [theme=dark] .colab-df-convert:hover {\n",
              "      background-color: #434B5C;\n",
              "      box-shadow: 0px 1px 3px 1px rgba(0, 0, 0, 0.15);\n",
              "      filter: drop-shadow(0px 1px 2px rgba(0, 0, 0, 0.3));\n",
              "      fill: #FFFFFF;\n",
              "    }\n",
              "  </style>\n",
              "\n",
              "      <script>\n",
              "        const buttonEl =\n",
              "          document.querySelector('#df-a0fdf65c-49dc-4d73-bcba-6e58e54a7c9c button.colab-df-convert');\n",
              "        buttonEl.style.display =\n",
              "          google.colab.kernel.accessAllowed ? 'block' : 'none';\n",
              "\n",
              "        async function convertToInteractive(key) {\n",
              "          const element = document.querySelector('#df-a0fdf65c-49dc-4d73-bcba-6e58e54a7c9c');\n",
              "          const dataTable =\n",
              "            await google.colab.kernel.invokeFunction('convertToInteractive',\n",
              "                                                     [key], {});\n",
              "          if (!dataTable) return;\n",
              "\n",
              "          const docLinkHtml = 'Like what you see? Visit the ' +\n",
              "            '<a target=\"_blank\" href=https://colab.research.google.com/notebooks/data_table.ipynb>data table notebook</a>'\n",
              "            + ' to learn more about interactive tables.';\n",
              "          element.innerHTML = '';\n",
              "          dataTable['output_type'] = 'display_data';\n",
              "          await google.colab.output.renderOutput(dataTable, element);\n",
              "          const docLink = document.createElement('div');\n",
              "          docLink.innerHTML = docLinkHtml;\n",
              "          element.appendChild(docLink);\n",
              "        }\n",
              "      </script>\n",
              "    </div>\n",
              "  </div>\n",
              "  "
            ],
            "text/plain": [
              "             Income            Age     Experience  CURRENT_JOB_YRS  \\\n",
              "count  2.520000e+05  252000.000000  252000.000000    252000.000000   \n",
              "mean   4.997117e+06      49.954071      10.084437         6.333877   \n",
              "std    2.878311e+06      17.063855       6.002590         3.647053   \n",
              "min    1.031000e+04      21.000000       0.000000         0.000000   \n",
              "25%    2.503015e+06      35.000000       5.000000         3.000000   \n",
              "50%    5.000694e+06      50.000000      10.000000         6.000000   \n",
              "75%    7.477502e+06      65.000000      15.000000         9.000000   \n",
              "max    9.999938e+06      79.000000      20.000000        14.000000   \n",
              "\n",
              "       CURRENT_HOUSE_YRS      Risk_Flag  \n",
              "count      252000.000000  252000.000000  \n",
              "mean           11.997794       0.123000  \n",
              "std             1.399037       0.328438  \n",
              "min            10.000000       0.000000  \n",
              "25%            11.000000       0.000000  \n",
              "50%            12.000000       0.000000  \n",
              "75%            13.000000       0.000000  \n",
              "max            14.000000       1.000000  "
            ]
          },
          "metadata": {},
          "execution_count": 8
        }
      ]
    },
    {
      "cell_type": "markdown",
      "source": [
        "### Describe Categoricals\n",
        "\n",
        "Here I can describe the categorical variables.\n",
        "\n",
        "When doing categorical variables, **top** is the most common value and **freq** is the frequency of the most common value.\n",
        "\n",
        "* There are 51 different professions displayed, 317 different cities, and 29 states\n",
        "\n",
        "* All variables have the same count, so there are no missing values again, meaning the data is good"
      ],
      "metadata": {
        "id": "6_uku20cs7io"
      }
    },
    {
      "cell_type": "code",
      "source": [
        "categorical_info = df[['Relationship_Status','House_Ownership', 'Car_Ownership',\n",
        "                        'Profession', 'CITY', 'STATE']].describe()\n",
        "\n",
        "categorical_info"
      ],
      "metadata": {
        "colab": {
          "base_uri": "https://localhost:8080/",
          "height": 175
        },
        "id": "W2QoFf1gtWRm",
        "outputId": "f0e478a7-97c6-4f3b-dba5-71da683308e7"
      },
      "execution_count": null,
      "outputs": [
        {
          "output_type": "execute_result",
          "data": {
            "text/html": [
              "\n",
              "  <div id=\"df-023e42f0-e86a-40cd-af29-4ec421731a80\">\n",
              "    <div class=\"colab-df-container\">\n",
              "      <div>\n",
              "<style scoped>\n",
              "    .dataframe tbody tr th:only-of-type {\n",
              "        vertical-align: middle;\n",
              "    }\n",
              "\n",
              "    .dataframe tbody tr th {\n",
              "        vertical-align: top;\n",
              "    }\n",
              "\n",
              "    .dataframe thead th {\n",
              "        text-align: right;\n",
              "    }\n",
              "</style>\n",
              "<table border=\"1\" class=\"dataframe\">\n",
              "  <thead>\n",
              "    <tr style=\"text-align: right;\">\n",
              "      <th></th>\n",
              "      <th>Relationship_Status</th>\n",
              "      <th>House_Ownership</th>\n",
              "      <th>Car_Ownership</th>\n",
              "      <th>Profession</th>\n",
              "      <th>CITY</th>\n",
              "      <th>STATE</th>\n",
              "    </tr>\n",
              "  </thead>\n",
              "  <tbody>\n",
              "    <tr>\n",
              "      <th>count</th>\n",
              "      <td>252000</td>\n",
              "      <td>252000</td>\n",
              "      <td>252000</td>\n",
              "      <td>252000</td>\n",
              "      <td>252000</td>\n",
              "      <td>252000</td>\n",
              "    </tr>\n",
              "    <tr>\n",
              "      <th>unique</th>\n",
              "      <td>2</td>\n",
              "      <td>3</td>\n",
              "      <td>2</td>\n",
              "      <td>51</td>\n",
              "      <td>317</td>\n",
              "      <td>29</td>\n",
              "    </tr>\n",
              "    <tr>\n",
              "      <th>top</th>\n",
              "      <td>single</td>\n",
              "      <td>rented</td>\n",
              "      <td>no</td>\n",
              "      <td>Physician</td>\n",
              "      <td>Vijayanagaram</td>\n",
              "      <td>Uttar_Pradesh</td>\n",
              "    </tr>\n",
              "    <tr>\n",
              "      <th>freq</th>\n",
              "      <td>226272</td>\n",
              "      <td>231898</td>\n",
              "      <td>176000</td>\n",
              "      <td>5957</td>\n",
              "      <td>1259</td>\n",
              "      <td>28400</td>\n",
              "    </tr>\n",
              "  </tbody>\n",
              "</table>\n",
              "</div>\n",
              "      <button class=\"colab-df-convert\" onclick=\"convertToInteractive('df-023e42f0-e86a-40cd-af29-4ec421731a80')\"\n",
              "              title=\"Convert this dataframe to an interactive table.\"\n",
              "              style=\"display:none;\">\n",
              "        \n",
              "  <svg xmlns=\"http://www.w3.org/2000/svg\" height=\"24px\"viewBox=\"0 0 24 24\"\n",
              "       width=\"24px\">\n",
              "    <path d=\"M0 0h24v24H0V0z\" fill=\"none\"/>\n",
              "    <path d=\"M18.56 5.44l.94 2.06.94-2.06 2.06-.94-2.06-.94-.94-2.06-.94 2.06-2.06.94zm-11 1L8.5 8.5l.94-2.06 2.06-.94-2.06-.94L8.5 2.5l-.94 2.06-2.06.94zm10 10l.94 2.06.94-2.06 2.06-.94-2.06-.94-.94-2.06-.94 2.06-2.06.94z\"/><path d=\"M17.41 7.96l-1.37-1.37c-.4-.4-.92-.59-1.43-.59-.52 0-1.04.2-1.43.59L10.3 9.45l-7.72 7.72c-.78.78-.78 2.05 0 2.83L4 21.41c.39.39.9.59 1.41.59.51 0 1.02-.2 1.41-.59l7.78-7.78 2.81-2.81c.8-.78.8-2.07 0-2.86zM5.41 20L4 18.59l7.72-7.72 1.47 1.35L5.41 20z\"/>\n",
              "  </svg>\n",
              "      </button>\n",
              "      \n",
              "  <style>\n",
              "    .colab-df-container {\n",
              "      display:flex;\n",
              "      flex-wrap:wrap;\n",
              "      gap: 12px;\n",
              "    }\n",
              "\n",
              "    .colab-df-convert {\n",
              "      background-color: #E8F0FE;\n",
              "      border: none;\n",
              "      border-radius: 50%;\n",
              "      cursor: pointer;\n",
              "      display: none;\n",
              "      fill: #1967D2;\n",
              "      height: 32px;\n",
              "      padding: 0 0 0 0;\n",
              "      width: 32px;\n",
              "    }\n",
              "\n",
              "    .colab-df-convert:hover {\n",
              "      background-color: #E2EBFA;\n",
              "      box-shadow: 0px 1px 2px rgba(60, 64, 67, 0.3), 0px 1px 3px 1px rgba(60, 64, 67, 0.15);\n",
              "      fill: #174EA6;\n",
              "    }\n",
              "\n",
              "    [theme=dark] .colab-df-convert {\n",
              "      background-color: #3B4455;\n",
              "      fill: #D2E3FC;\n",
              "    }\n",
              "\n",
              "    [theme=dark] .colab-df-convert:hover {\n",
              "      background-color: #434B5C;\n",
              "      box-shadow: 0px 1px 3px 1px rgba(0, 0, 0, 0.15);\n",
              "      filter: drop-shadow(0px 1px 2px rgba(0, 0, 0, 0.3));\n",
              "      fill: #FFFFFF;\n",
              "    }\n",
              "  </style>\n",
              "\n",
              "      <script>\n",
              "        const buttonEl =\n",
              "          document.querySelector('#df-023e42f0-e86a-40cd-af29-4ec421731a80 button.colab-df-convert');\n",
              "        buttonEl.style.display =\n",
              "          google.colab.kernel.accessAllowed ? 'block' : 'none';\n",
              "\n",
              "        async function convertToInteractive(key) {\n",
              "          const element = document.querySelector('#df-023e42f0-e86a-40cd-af29-4ec421731a80');\n",
              "          const dataTable =\n",
              "            await google.colab.kernel.invokeFunction('convertToInteractive',\n",
              "                                                     [key], {});\n",
              "          if (!dataTable) return;\n",
              "\n",
              "          const docLinkHtml = 'Like what you see? Visit the ' +\n",
              "            '<a target=\"_blank\" href=https://colab.research.google.com/notebooks/data_table.ipynb>data table notebook</a>'\n",
              "            + ' to learn more about interactive tables.';\n",
              "          element.innerHTML = '';\n",
              "          dataTable['output_type'] = 'display_data';\n",
              "          await google.colab.output.renderOutput(dataTable, element);\n",
              "          const docLink = document.createElement('div');\n",
              "          docLink.innerHTML = docLinkHtml;\n",
              "          element.appendChild(docLink);\n",
              "        }\n",
              "      </script>\n",
              "    </div>\n",
              "  </div>\n",
              "  "
            ],
            "text/plain": [
              "       Relationship_Status House_Ownership Car_Ownership Profession  \\\n",
              "count               252000          252000        252000     252000   \n",
              "unique                   2               3             2         51   \n",
              "top                 single          rented            no  Physician   \n",
              "freq                226272          231898        176000       5957   \n",
              "\n",
              "                 CITY          STATE  \n",
              "count          252000         252000  \n",
              "unique            317             29  \n",
              "top     Vijayanagaram  Uttar_Pradesh  \n",
              "freq             1259          28400  "
            ]
          },
          "metadata": {},
          "execution_count": 9
        }
      ]
    },
    {
      "cell_type": "markdown",
      "source": [
        "### Irregularities\n",
        "\n",
        "As seen before, there were possible outliers in the income section, the max was extremely high and the min was extremely low. \n",
        "\n",
        "Let's visualize this"
      ],
      "metadata": {
        "id": "bEreje_ptVIk"
      }
    },
    {
      "cell_type": "code",
      "source": [
        "# I can make a boxplot with the income variable and see that there are quite a lot of outliers, and the same with the minimum_nights variable\n",
        "\n",
        "plot1 = plt.figure(1)\n",
        "bp_price = sns.boxplot( x=df['Income'] )\n",
        "\n",
        "plt.show()"
      ],
      "metadata": {
        "colab": {
          "base_uri": "https://localhost:8080/",
          "height": 279
        },
        "id": "zgU6G8o7sVuF",
        "outputId": "558634d2-6f3c-4079-ba2f-39a8af674b2f"
      },
      "execution_count": null,
      "outputs": [
        {
          "output_type": "display_data",
          "data": {
            "image/png": "[encoded data removed]",
            "text/plain": [
              "<Figure size 432x288 with 1 Axes>"
            ]
          },
          "metadata": {
            "needs_background": "light"
          }
        }
      ]
    },
    {
      "cell_type": "markdown",
      "source": [
        "### Outliers 'fixed'\n",
        "Seeing it as a box plot makes it much more clear that there are no outliers, we can therefore move on."
      ],
      "metadata": {
        "id": "oS5eB09MuLF1"
      }
    },
    {
      "cell_type": "markdown",
      "source": [
        "### Basic visual analysis \n",
        "\n",
        "Here I will visualize some variables which I think are important"
      ],
      "metadata": {
        "id": "RpJR5OdBUY95"
      }
    },
    {
      "cell_type": "code",
      "source": [
        "#check variable distributions\n",
        "df.hist(bins=30, figsize=(20,15))\n",
        "plt.show()"
      ],
      "metadata": {
        "colab": {
          "base_uri": "https://localhost:8080/",
          "height": 879
        },
        "id": "c9j19V3oVJJr",
        "outputId": "56663c88-902d-4933-db7e-d115a113e39b"
      },
      "execution_count": null,
      "outputs": [
        {
          "output_type": "display_data",
          "data": {
            "image/png": "[encoded data removed]",
            "text/plain": [
              "<Figure size 1440x1080 with 6 Axes>"
            ]
          },
          "metadata": {
            "needs_background": "light"
          }
        }
      ]
    },
    {
      "cell_type": "code",
      "source": [
        "sns.countplot(x='Risk_Flag' , data = df , hue = 'House_Ownership')\n",
        "plt.show()\n",
        "\n",
        "sns.countplot(x='Risk_Flag' ,data = df , hue = 'Relationship_Status')\n",
        "plt.show()\n",
        "\n",
        "sns.countplot(x='Risk_Flag' ,data = df , hue = 'Car_Ownership')\n",
        "plt.show()\n",
        "\n",
        "sns.countplot(x='Risk_Flag' ,data = df , hue = 'CURRENT_HOUSE_YRS')\n",
        "plt.show()"
      ],
      "metadata": {
        "colab": {
          "base_uri": "https://localhost:8080/",
          "height": 1072
        },
        "id": "U4wZudl-UYQB",
        "outputId": "2c7b3f0a-0c37-403c-dc8d-a45ce8b1037d"
      },
      "execution_count": null,
      "outputs": [
        {
          "output_type": "display_data",
          "data": {
            "image/png": "[encoded data removed]",
            "text/plain": [
              "<Figure size 432x288 with 1 Axes>"
            ]
          },
          "metadata": {
            "needs_background": "light"
          }
        },
        {
          "output_type": "display_data",
          "data": {
            "image/png": "[encoded data removed]",
            "text/plain": [
              "<Figure size 432x288 with 1 Axes>"
            ]
          },
          "metadata": {
            "needs_background": "light"
          }
        },
        {
          "output_type": "display_data",
          "data": {
            "image/png": "[encoded data removed]",
            "text/plain": [
              "<Figure size 432x288 with 1 Axes>"
            ]
          },
          "metadata": {
            "needs_background": "light"
          }
        },
        {
          "output_type": "display_data",
          "data": {
            "image/png": "[encoded data removed]",
            "text/plain": [
              "<Figure size 432x288 with 1 Axes>"
            ]
          },
          "metadata": {
            "needs_background": "light"
          }
        }
      ]
    },
    {
      "cell_type": "markdown",
      "source": [
        "More importantly, let's visualize the amount of defaulters vs non-defaulters. I can see the difference is great"
      ],
      "metadata": {
        "id": "8F50CM80bNlk"
      }
    },
    {
      "cell_type": "code",
      "source": [
        "df['Risk_Flag'].value_counts().plot.pie(autopct='%1.1f%%')"
      ],
      "metadata": {
        "colab": {
          "base_uri": "https://localhost:8080/",
          "height": 267
        },
        "id": "45tHdNJwa-Mh",
        "outputId": "48d067d2-612f-45da-ee7f-5b0b2a5c4ae1"
      },
      "execution_count": null,
      "outputs": [
        {
          "output_type": "execute_result",
          "data": {
            "text/plain": [
              "<matplotlib.axes._subplots.AxesSubplot at 0x7f531bd3b0d0>"
            ]
          },
          "metadata": {},
          "execution_count": 13
        },
        {
          "output_type": "display_data",
          "data": {
            "image/png": "[encoded data removed]",
            "text/plain": [
              "<Figure size 432x288 with 1 Axes>"
            ]
          },
          "metadata": {}
        }
      ]
    },
    {
      "cell_type": "markdown",
      "source": [
        "### Encoding\n",
        "\n",
        "Now I must **encode** the values that I previously strongly typed as categories, so their values are more easily read by the algorithms I will be implementing [3].\n",
        "\n",
        "\n",
        "\n"
      ],
      "metadata": {
        "id": "3WLNCVl2NwCy"
      }
    },
    {
      "cell_type": "code",
      "source": [
        "#Encoding\n",
        "\n",
        "from sklearn import preprocessing\n",
        "le = preprocessing.LabelEncoder()\n",
        "\n",
        "df_columns = [df.Relationship_Status,df.House_Ownership,df.Car_Ownership,df.Profession,df.STATE,df.CITY]\n",
        "for i in df_columns:\n",
        "    i = le.fit_transform(i)"
      ],
      "metadata": {
        "id": "TJAktFdxPW8i"
      },
      "execution_count": null,
      "outputs": []
    },
    {
      "cell_type": "code",
      "source": [
        "# Now the values of categorical variables are integers instead of words as can be seen\n",
        "\n",
        "df.Relationship_Status = le.fit_transform(df.Relationship_Status)\n",
        "df.House_Ownership = le.fit_transform(df.House_Ownership)\n",
        "df.Car_Ownership = le.fit_transform(df.Car_Ownership)\n",
        "df.Profession = le.fit_transform(df.Profession)\n",
        "df.STATE = le.fit_transform(df.STATE)\n",
        "df.CITY = le.fit_transform(df.CITY)\n",
        "\n",
        "df"
      ],
      "metadata": {
        "colab": {
          "base_uri": "https://localhost:8080/",
          "height": 455
        },
        "id": "_5ze9LDqPigy",
        "outputId": "d6b97aa8-efd6-46b9-ba13-6b75b869e795"
      },
      "execution_count": null,
      "outputs": [
        {
          "output_type": "execute_result",
          "data": {
            "text/html": [
              "\n",
              "  <div id=\"df-9ff14bfe-6337-46eb-ac8c-4a3861089b87\">\n",
              "    <div class=\"colab-df-container\">\n",
              "      <div>\n",
              "<style scoped>\n",
              "    .dataframe tbody tr th:only-of-type {\n",
              "        vertical-align: middle;\n",
              "    }\n",
              "\n",
              "    .dataframe tbody tr th {\n",
              "        vertical-align: top;\n",
              "    }\n",
              "\n",
              "    .dataframe thead th {\n",
              "        text-align: right;\n",
              "    }\n",
              "</style>\n",
              "<table border=\"1\" class=\"dataframe\">\n",
              "  <thead>\n",
              "    <tr style=\"text-align: right;\">\n",
              "      <th></th>\n",
              "      <th>Income</th>\n",
              "      <th>Age</th>\n",
              "      <th>Experience</th>\n",
              "      <th>Relationship_Status</th>\n",
              "      <th>House_Ownership</th>\n",
              "      <th>Car_Ownership</th>\n",
              "      <th>Profession</th>\n",
              "      <th>CITY</th>\n",
              "      <th>STATE</th>\n",
              "      <th>CURRENT_JOB_YRS</th>\n",
              "      <th>CURRENT_HOUSE_YRS</th>\n",
              "      <th>Risk_Flag</th>\n",
              "    </tr>\n",
              "    <tr>\n",
              "      <th>Id</th>\n",
              "      <th></th>\n",
              "      <th></th>\n",
              "      <th></th>\n",
              "      <th></th>\n",
              "      <th></th>\n",
              "      <th></th>\n",
              "      <th></th>\n",
              "      <th></th>\n",
              "      <th></th>\n",
              "      <th></th>\n",
              "      <th></th>\n",
              "      <th></th>\n",
              "    </tr>\n",
              "  </thead>\n",
              "  <tbody>\n",
              "    <tr>\n",
              "      <th>1</th>\n",
              "      <td>1303834</td>\n",
              "      <td>23</td>\n",
              "      <td>3</td>\n",
              "      <td>1</td>\n",
              "      <td>2</td>\n",
              "      <td>0</td>\n",
              "      <td>33</td>\n",
              "      <td>251</td>\n",
              "      <td>13</td>\n",
              "      <td>3</td>\n",
              "      <td>13</td>\n",
              "      <td>0</td>\n",
              "    </tr>\n",
              "    <tr>\n",
              "      <th>2</th>\n",
              "      <td>7574516</td>\n",
              "      <td>40</td>\n",
              "      <td>10</td>\n",
              "      <td>1</td>\n",
              "      <td>2</td>\n",
              "      <td>0</td>\n",
              "      <td>43</td>\n",
              "      <td>227</td>\n",
              "      <td>14</td>\n",
              "      <td>9</td>\n",
              "      <td>13</td>\n",
              "      <td>0</td>\n",
              "    </tr>\n",
              "    <tr>\n",
              "      <th>3</th>\n",
              "      <td>3991815</td>\n",
              "      <td>66</td>\n",
              "      <td>4</td>\n",
              "      <td>0</td>\n",
              "      <td>2</td>\n",
              "      <td>0</td>\n",
              "      <td>47</td>\n",
              "      <td>8</td>\n",
              "      <td>12</td>\n",
              "      <td>4</td>\n",
              "      <td>10</td>\n",
              "      <td>0</td>\n",
              "    </tr>\n",
              "    <tr>\n",
              "      <th>4</th>\n",
              "      <td>6256451</td>\n",
              "      <td>41</td>\n",
              "      <td>2</td>\n",
              "      <td>1</td>\n",
              "      <td>2</td>\n",
              "      <td>1</td>\n",
              "      <td>43</td>\n",
              "      <td>54</td>\n",
              "      <td>17</td>\n",
              "      <td>2</td>\n",
              "      <td>12</td>\n",
              "      <td>1</td>\n",
              "    </tr>\n",
              "    <tr>\n",
              "      <th>5</th>\n",
              "      <td>5768871</td>\n",
              "      <td>47</td>\n",
              "      <td>11</td>\n",
              "      <td>1</td>\n",
              "      <td>2</td>\n",
              "      <td>0</td>\n",
              "      <td>11</td>\n",
              "      <td>296</td>\n",
              "      <td>22</td>\n",
              "      <td>3</td>\n",
              "      <td>14</td>\n",
              "      <td>1</td>\n",
              "    </tr>\n",
              "    <tr>\n",
              "      <th>...</th>\n",
              "      <td>...</td>\n",
              "      <td>...</td>\n",
              "      <td>...</td>\n",
              "      <td>...</td>\n",
              "      <td>...</td>\n",
              "      <td>...</td>\n",
              "      <td>...</td>\n",
              "      <td>...</td>\n",
              "      <td>...</td>\n",
              "      <td>...</td>\n",
              "      <td>...</td>\n",
              "      <td>...</td>\n",
              "    </tr>\n",
              "    <tr>\n",
              "      <th>251996</th>\n",
              "      <td>8154883</td>\n",
              "      <td>43</td>\n",
              "      <td>13</td>\n",
              "      <td>1</td>\n",
              "      <td>2</td>\n",
              "      <td>0</td>\n",
              "      <td>45</td>\n",
              "      <td>162</td>\n",
              "      <td>28</td>\n",
              "      <td>6</td>\n",
              "      <td>11</td>\n",
              "      <td>0</td>\n",
              "    </tr>\n",
              "    <tr>\n",
              "      <th>251997</th>\n",
              "      <td>2843572</td>\n",
              "      <td>26</td>\n",
              "      <td>10</td>\n",
              "      <td>1</td>\n",
              "      <td>2</td>\n",
              "      <td>0</td>\n",
              "      <td>3</td>\n",
              "      <td>251</td>\n",
              "      <td>13</td>\n",
              "      <td>6</td>\n",
              "      <td>11</td>\n",
              "      <td>0</td>\n",
              "    </tr>\n",
              "    <tr>\n",
              "      <th>251998</th>\n",
              "      <td>4522448</td>\n",
              "      <td>46</td>\n",
              "      <td>7</td>\n",
              "      <td>1</td>\n",
              "      <td>2</td>\n",
              "      <td>0</td>\n",
              "      <td>17</td>\n",
              "      <td>144</td>\n",
              "      <td>14</td>\n",
              "      <td>7</td>\n",
              "      <td>12</td>\n",
              "      <td>0</td>\n",
              "    </tr>\n",
              "    <tr>\n",
              "      <th>251999</th>\n",
              "      <td>6507128</td>\n",
              "      <td>45</td>\n",
              "      <td>0</td>\n",
              "      <td>1</td>\n",
              "      <td>2</td>\n",
              "      <td>0</td>\n",
              "      <td>27</td>\n",
              "      <td>233</td>\n",
              "      <td>18</td>\n",
              "      <td>0</td>\n",
              "      <td>10</td>\n",
              "      <td>0</td>\n",
              "    </tr>\n",
              "    <tr>\n",
              "      <th>252000</th>\n",
              "      <td>9070230</td>\n",
              "      <td>70</td>\n",
              "      <td>17</td>\n",
              "      <td>1</td>\n",
              "      <td>2</td>\n",
              "      <td>0</td>\n",
              "      <td>44</td>\n",
              "      <td>26</td>\n",
              "      <td>22</td>\n",
              "      <td>7</td>\n",
              "      <td>11</td>\n",
              "      <td>0</td>\n",
              "    </tr>\n",
              "  </tbody>\n",
              "</table>\n",
              "<p>252000 rows × 12 columns</p>\n",
              "</div>\n",
              "      <button class=\"colab-df-convert\" onclick=\"convertToInteractive('df-9ff14bfe-6337-46eb-ac8c-4a3861089b87')\"\n",
              "              title=\"Convert this dataframe to an interactive table.\"\n",
              "              style=\"display:none;\">\n",
              "        \n",
              "  <svg xmlns=\"http://www.w3.org/2000/svg\" height=\"24px\"viewBox=\"0 0 24 24\"\n",
              "       width=\"24px\">\n",
              "    <path d=\"M0 0h24v24H0V0z\" fill=\"none\"/>\n",
              "    <path d=\"M18.56 5.44l.94 2.06.94-2.06 2.06-.94-2.06-.94-.94-2.06-.94 2.06-2.06.94zm-11 1L8.5 8.5l.94-2.06 2.06-.94-2.06-.94L8.5 2.5l-.94 2.06-2.06.94zm10 10l.94 2.06.94-2.06 2.06-.94-2.06-.94-.94-2.06-.94 2.06-2.06.94z\"/><path d=\"M17.41 7.96l-1.37-1.37c-.4-.4-.92-.59-1.43-.59-.52 0-1.04.2-1.43.59L10.3 9.45l-7.72 7.72c-.78.78-.78 2.05 0 2.83L4 21.41c.39.39.9.59 1.41.59.51 0 1.02-.2 1.41-.59l7.78-7.78 2.81-2.81c.8-.78.8-2.07 0-2.86zM5.41 20L4 18.59l7.72-7.72 1.47 1.35L5.41 20z\"/>\n",
              "  </svg>\n",
              "      </button>\n",
              "      \n",
              "  <style>\n",
              "    .colab-df-container {\n",
              "      display:flex;\n",
              "      flex-wrap:wrap;\n",
              "      gap: 12px;\n",
              "    }\n",
              "\n",
              "    .colab-df-convert {\n",
              "      background-color: #E8F0FE;\n",
              "      border: none;\n",
              "      border-radius: 50%;\n",
              "      cursor: pointer;\n",
              "      display: none;\n",
              "      fill: #1967D2;\n",
              "      height: 32px;\n",
              "      padding: 0 0 0 0;\n",
              "      width: 32px;\n",
              "    }\n",
              "\n",
              "    .colab-df-convert:hover {\n",
              "      background-color: #E2EBFA;\n",
              "      box-shadow: 0px 1px 2px rgba(60, 64, 67, 0.3), 0px 1px 3px 1px rgba(60, 64, 67, 0.15);\n",
              "      fill: #174EA6;\n",
              "    }\n",
              "\n",
              "    [theme=dark] .colab-df-convert {\n",
              "      background-color: #3B4455;\n",
              "      fill: #D2E3FC;\n",
              "    }\n",
              "\n",
              "    [theme=dark] .colab-df-convert:hover {\n",
              "      background-color: #434B5C;\n",
              "      box-shadow: 0px 1px 3px 1px rgba(0, 0, 0, 0.15);\n",
              "      filter: drop-shadow(0px 1px 2px rgba(0, 0, 0, 0.3));\n",
              "      fill: #FFFFFF;\n",
              "    }\n",
              "  </style>\n",
              "\n",
              "      <script>\n",
              "        const buttonEl =\n",
              "          document.querySelector('#df-9ff14bfe-6337-46eb-ac8c-4a3861089b87 button.colab-df-convert');\n",
              "        buttonEl.style.display =\n",
              "          google.colab.kernel.accessAllowed ? 'block' : 'none';\n",
              "\n",
              "        async function convertToInteractive(key) {\n",
              "          const element = document.querySelector('#df-9ff14bfe-6337-46eb-ac8c-4a3861089b87');\n",
              "          const dataTable =\n",
              "            await google.colab.kernel.invokeFunction('convertToInteractive',\n",
              "                                                     [key], {});\n",
              "          if (!dataTable) return;\n",
              "\n",
              "          const docLinkHtml = 'Like what you see? Visit the ' +\n",
              "            '<a target=\"_blank\" href=https://colab.research.google.com/notebooks/data_table.ipynb>data table notebook</a>'\n",
              "            + ' to learn more about interactive tables.';\n",
              "          element.innerHTML = '';\n",
              "          dataTable['output_type'] = 'display_data';\n",
              "          await google.colab.output.renderOutput(dataTable, element);\n",
              "          const docLink = document.createElement('div');\n",
              "          docLink.innerHTML = docLinkHtml;\n",
              "          element.appendChild(docLink);\n",
              "        }\n",
              "      </script>\n",
              "    </div>\n",
              "  </div>\n",
              "  "
            ],
            "text/plain": [
              "         Income  Age  Experience  Relationship_Status  House_Ownership  \\\n",
              "Id                                                                       \n",
              "1       1303834   23           3                    1                2   \n",
              "2       7574516   40          10                    1                2   \n",
              "3       3991815   66           4                    0                2   \n",
              "4       6256451   41           2                    1                2   \n",
              "5       5768871   47          11                    1                2   \n",
              "...         ...  ...         ...                  ...              ...   \n",
              "251996  8154883   43          13                    1                2   \n",
              "251997  2843572   26          10                    1                2   \n",
              "251998  4522448   46           7                    1                2   \n",
              "251999  6507128   45           0                    1                2   \n",
              "252000  9070230   70          17                    1                2   \n",
              "\n",
              "        Car_Ownership  Profession  CITY  STATE  CURRENT_JOB_YRS  \\\n",
              "Id                                                                \n",
              "1                   0          33   251     13                3   \n",
              "2                   0          43   227     14                9   \n",
              "3                   0          47     8     12                4   \n",
              "4                   1          43    54     17                2   \n",
              "5                   0          11   296     22                3   \n",
              "...               ...         ...   ...    ...              ...   \n",
              "251996              0          45   162     28                6   \n",
              "251997              0           3   251     13                6   \n",
              "251998              0          17   144     14                7   \n",
              "251999              0          27   233     18                0   \n",
              "252000              0          44    26     22                7   \n",
              "\n",
              "        CURRENT_HOUSE_YRS  Risk_Flag  \n",
              "Id                                    \n",
              "1                      13          0  \n",
              "2                      13          0  \n",
              "3                      10          0  \n",
              "4                      12          1  \n",
              "5                      14          1  \n",
              "...                   ...        ...  \n",
              "251996                 11          0  \n",
              "251997                 11          0  \n",
              "251998                 12          0  \n",
              "251999                 10          0  \n",
              "252000                 11          0  \n",
              "\n",
              "[252000 rows x 12 columns]"
            ]
          },
          "metadata": {},
          "execution_count": 15
        }
      ]
    },
    {
      "cell_type": "markdown",
      "source": [
        "### Correlation\n",
        "\n",
        "Now that the data is perfectly clean, I will use all three **corr()** methods  '**pearson, kendall and spearman**' to see if there are any correlations with the variables. They all indicate a correlation between two variables with a number from -1 to 1 [1].\n",
        "* -1 means negative correlation\n",
        "* 0 means no correlation\n",
        "* 1 means a total positive correlation\n",
        "\n",
        "As it is encoded, the categorical values can appear in the chart.\n",
        "\n"
      ],
      "metadata": {
        "id": "LgyQh-ZA0oCk"
      }
    },
    {
      "cell_type": "code",
      "source": [
        "df = pd.DataFrame(df)\n",
        "\n",
        "plt.figure(figsize=(12,12))\n",
        "\n",
        "\n",
        "corrMatrix = df.corr()\n",
        "sns.heatmap(corrMatrix, annot=True)\n",
        "plt.show()"
      ],
      "metadata": {
        "colab": {
          "base_uri": "https://localhost:8080/",
          "height": 806
        },
        "id": "fFKfoYj_uID7",
        "outputId": "e37d9225-1b0e-4194-be45-104557130f90"
      },
      "execution_count": null,
      "outputs": [
        {
          "output_type": "display_data",
          "data": {
            "image/png": "[encoded data removed]",
            "text/plain": [
              "<Figure size 864x864 with 2 Axes>"
            ]
          },
          "metadata": {
            "needs_background": "light"
          }
        }
      ]
    },
    {
      "cell_type": "code",
      "source": [
        "df = pd.DataFrame(df)\n",
        "\n",
        "plt.figure(figsize=(12,12))\n",
        "\n",
        "\n",
        "corrMatrix = df.corr(method ='kendall')\n",
        "sns.heatmap(corrMatrix, annot=True)\n",
        "plt.show()"
      ],
      "metadata": {
        "colab": {
          "base_uri": "https://localhost:8080/",
          "height": 806
        },
        "id": "EseaplOsmF4d",
        "outputId": "1240eede-3807-4d28-8d2e-ca70d272a0ff"
      },
      "execution_count": null,
      "outputs": [
        {
          "output_type": "display_data",
          "data": {
            "image/png": "[encoded data removed]",
            "text/plain": [
              "<Figure size 864x864 with 2 Axes>"
            ]
          },
          "metadata": {
            "needs_background": "light"
          }
        }
      ]
    },
    {
      "cell_type": "code",
      "source": [
        "df = pd.DataFrame(df)\n",
        "\n",
        "plt.figure(figsize=(12,12))\n",
        "\n",
        "\n",
        "corrMatrix = df.corr(method ='spearman')\n",
        "sns.heatmap(corrMatrix, annot=True)\n",
        "plt.show()"
      ],
      "metadata": {
        "colab": {
          "base_uri": "https://localhost:8080/",
          "height": 806
        },
        "id": "78zGZlySmOsz",
        "outputId": "1e6736fe-732c-4234-9b7b-d0b57dafb2a4"
      },
      "execution_count": null,
      "outputs": [
        {
          "output_type": "display_data",
          "data": {
            "image/png": "[encoded data removed]",
            "text/plain": [
              "<Figure size 864x864 with 2 Axes>"
            ]
          },
          "metadata": {
            "needs_background": "light"
          }
        }
      ]
    },
    {
      "cell_type": "markdown",
      "source": [
        "We can conclude that there is no significant correlation in any of the three cases"
      ],
      "metadata": {
        "id": "HyLatrbOmhkr"
      }
    },
    {
      "cell_type": "markdown",
      "source": [
        "### Stratification\n",
        "\n",
        "Splitting the dataset is done randomly, this means that in some occasions it is possible to have 1 class label appear much more than the other class label in the training data. \n",
        "\n",
        "This can affect the classification models, making us have more accurate predictions for one class but not for the other (classes are default/no default, or 0, 1). Therefore, we stratify data, which makes the split proportionate"
      ],
      "metadata": {
        "id": "nQoqkEfCVVKC"
      }
    },
    {
      "cell_type": "code",
      "source": [
        "# divide into training and testing data\n",
        "#train,test = train_test_split(df, test_size=0.25, random_state=0, stratify=df['Risk_Flag']) \n",
        "\n",
        "# separate the 'Outcome' column from training/testing data\n",
        "#train_X = train[train.columns[:12]]\n",
        "#test_X = test[test.columns[:12]]\n",
        "#train_Y = train['Risk_Flag']\n",
        "#test_Y = test['Risk_Flag']"
      ],
      "metadata": {
        "id": "i2A0dk7UWhgK"
      },
      "execution_count": null,
      "outputs": []
    },
    {
      "cell_type": "markdown",
      "source": [
        "### Training and Testing Samples\n",
        "\n",
        "Now that I am done with the data preprocessing, I must split the data before I start doing the decision tree classifier.\n",
        "\n",
        "This will help to prevent **ovefitting and underfitting** from happening.\n",
        "\n",
        "**X** will be the dataset without the Risk_Flag column, and **y** will be the Risk_Flag column\n",
        "\n",
        "[4].\n",
        "\n"
      ],
      "metadata": {
        "id": "AOyuSUBERKIR"
      }
    },
    {
      "cell_type": "code",
      "source": [
        "X = df.drop(['Risk_Flag'], axis = 'columns')\n",
        "Y = df.Risk_Flag\n",
        "\n",
        "X_train, X_test, Y_train, Y_test = train_test_split(X, Y, test_size=0.33, \n",
        "                                                    random_state=0, stratify=df['Risk_Flag'])\n",
        "                                                \n",
        "\n",
        "\n",
        "print(X_train.shape, X_test.shape, Y_train.shape, Y_test.shape)"
      ],
      "metadata": {
        "colab": {
          "base_uri": "https://localhost:8080/"
        },
        "id": "SrW6Eu2fRZgR",
        "outputId": "81f783f0-4cda-41c7-8bb2-f7d45c0e6ea2"
      },
      "execution_count": null,
      "outputs": [
        {
          "output_type": "stream",
          "name": "stdout",
          "text": [
            "(168840, 11) (83160, 11) (168840,) (83160,)\n"
          ]
        }
      ]
    },
    {
      "cell_type": "code",
      "source": [
        "Y = pd.DataFrame(Y)\n",
        "Y.head()"
      ],
      "metadata": {
        "colab": {
          "base_uri": "https://localhost:8080/",
          "height": 237
        },
        "id": "WaTvJ5IEmDLo",
        "outputId": "a30b7120-4a63-4d77-9530-064e34d186c2"
      },
      "execution_count": null,
      "outputs": [
        {
          "output_type": "execute_result",
          "data": {
            "text/html": [
              "\n",
              "  <div id=\"df-86a8f8c9-f0a4-4d1e-8957-8d61cb823d8c\">\n",
              "    <div class=\"colab-df-container\">\n",
              "      <div>\n",
              "<style scoped>\n",
              "    .dataframe tbody tr th:only-of-type {\n",
              "        vertical-align: middle;\n",
              "    }\n",
              "\n",
              "    .dataframe tbody tr th {\n",
              "        vertical-align: top;\n",
              "    }\n",
              "\n",
              "    .dataframe thead th {\n",
              "        text-align: right;\n",
              "    }\n",
              "</style>\n",
              "<table border=\"1\" class=\"dataframe\">\n",
              "  <thead>\n",
              "    <tr style=\"text-align: right;\">\n",
              "      <th></th>\n",
              "      <th>Risk_Flag</th>\n",
              "    </tr>\n",
              "    <tr>\n",
              "      <th>Id</th>\n",
              "      <th></th>\n",
              "    </tr>\n",
              "  </thead>\n",
              "  <tbody>\n",
              "    <tr>\n",
              "      <th>1</th>\n",
              "      <td>0</td>\n",
              "    </tr>\n",
              "    <tr>\n",
              "      <th>2</th>\n",
              "      <td>0</td>\n",
              "    </tr>\n",
              "    <tr>\n",
              "      <th>3</th>\n",
              "      <td>0</td>\n",
              "    </tr>\n",
              "    <tr>\n",
              "      <th>4</th>\n",
              "      <td>1</td>\n",
              "    </tr>\n",
              "    <tr>\n",
              "      <th>5</th>\n",
              "      <td>1</td>\n",
              "    </tr>\n",
              "  </tbody>\n",
              "</table>\n",
              "</div>\n",
              "      <button class=\"colab-df-convert\" onclick=\"convertToInteractive('df-86a8f8c9-f0a4-4d1e-8957-8d61cb823d8c')\"\n",
              "              title=\"Convert this dataframe to an interactive table.\"\n",
              "              style=\"display:none;\">\n",
              "        \n",
              "  <svg xmlns=\"http://www.w3.org/2000/svg\" height=\"24px\"viewBox=\"0 0 24 24\"\n",
              "       width=\"24px\">\n",
              "    <path d=\"M0 0h24v24H0V0z\" fill=\"none\"/>\n",
              "    <path d=\"M18.56 5.44l.94 2.06.94-2.06 2.06-.94-2.06-.94-.94-2.06-.94 2.06-2.06.94zm-11 1L8.5 8.5l.94-2.06 2.06-.94-2.06-.94L8.5 2.5l-.94 2.06-2.06.94zm10 10l.94 2.06.94-2.06 2.06-.94-2.06-.94-.94-2.06-.94 2.06-2.06.94z\"/><path d=\"M17.41 7.96l-1.37-1.37c-.4-.4-.92-.59-1.43-.59-.52 0-1.04.2-1.43.59L10.3 9.45l-7.72 7.72c-.78.78-.78 2.05 0 2.83L4 21.41c.39.39.9.59 1.41.59.51 0 1.02-.2 1.41-.59l7.78-7.78 2.81-2.81c.8-.78.8-2.07 0-2.86zM5.41 20L4 18.59l7.72-7.72 1.47 1.35L5.41 20z\"/>\n",
              "  </svg>\n",
              "      </button>\n",
              "      \n",
              "  <style>\n",
              "    .colab-df-container {\n",
              "      display:flex;\n",
              "      flex-wrap:wrap;\n",
              "      gap: 12px;\n",
              "    }\n",
              "\n",
              "    .colab-df-convert {\n",
              "      background-color: #E8F0FE;\n",
              "      border: none;\n",
              "      border-radius: 50%;\n",
              "      cursor: pointer;\n",
              "      display: none;\n",
              "      fill: #1967D2;\n",
              "      height: 32px;\n",
              "      padding: 0 0 0 0;\n",
              "      width: 32px;\n",
              "    }\n",
              "\n",
              "    .colab-df-convert:hover {\n",
              "      background-color: #E2EBFA;\n",
              "      box-shadow: 0px 1px 2px rgba(60, 64, 67, 0.3), 0px 1px 3px 1px rgba(60, 64, 67, 0.15);\n",
              "      fill: #174EA6;\n",
              "    }\n",
              "\n",
              "    [theme=dark] .colab-df-convert {\n",
              "      background-color: #3B4455;\n",
              "      fill: #D2E3FC;\n",
              "    }\n",
              "\n",
              "    [theme=dark] .colab-df-convert:hover {\n",
              "      background-color: #434B5C;\n",
              "      box-shadow: 0px 1px 3px 1px rgba(0, 0, 0, 0.15);\n",
              "      filter: drop-shadow(0px 1px 2px rgba(0, 0, 0, 0.3));\n",
              "      fill: #FFFFFF;\n",
              "    }\n",
              "  </style>\n",
              "\n",
              "      <script>\n",
              "        const buttonEl =\n",
              "          document.querySelector('#df-86a8f8c9-f0a4-4d1e-8957-8d61cb823d8c button.colab-df-convert');\n",
              "        buttonEl.style.display =\n",
              "          google.colab.kernel.accessAllowed ? 'block' : 'none';\n",
              "\n",
              "        async function convertToInteractive(key) {\n",
              "          const element = document.querySelector('#df-86a8f8c9-f0a4-4d1e-8957-8d61cb823d8c');\n",
              "          const dataTable =\n",
              "            await google.colab.kernel.invokeFunction('convertToInteractive',\n",
              "                                                     [key], {});\n",
              "          if (!dataTable) return;\n",
              "\n",
              "          const docLinkHtml = 'Like what you see? Visit the ' +\n",
              "            '<a target=\"_blank\" href=https://colab.research.google.com/notebooks/data_table.ipynb>data table notebook</a>'\n",
              "            + ' to learn more about interactive tables.';\n",
              "          element.innerHTML = '';\n",
              "          dataTable['output_type'] = 'display_data';\n",
              "          await google.colab.output.renderOutput(dataTable, element);\n",
              "          const docLink = document.createElement('div');\n",
              "          docLink.innerHTML = docLinkHtml;\n",
              "          element.appendChild(docLink);\n",
              "        }\n",
              "      </script>\n",
              "    </div>\n",
              "  </div>\n",
              "  "
            ],
            "text/plain": [
              "    Risk_Flag\n",
              "Id           \n",
              "1           0\n",
              "2           0\n",
              "3           0\n",
              "4           1\n",
              "5           1"
            ]
          },
          "metadata": {},
          "execution_count": 21
        }
      ]
    },
    {
      "cell_type": "markdown",
      "source": [
        "### Rescaling of Data\n",
        "\n",
        "I will now rescale the data so any values that can differ greatly between the variables will not afect the model.\n",
        "\n",
        "StandardScaler is used for transforming data so it has 0 as mean (μ = 0) and 1 as std (σ = 1). This is ideal when we have negative values in our dataframe [2]."
      ],
      "metadata": {
        "id": "3rNFRJW1RYah"
      }
    },
    {
      "cell_type": "code",
      "source": [
        "#Scaling\n",
        "scaler = StandardScaler()\n",
        "\n",
        "X_train = scaler.fit_transform(X_train)\n",
        "X_test = scaler.transform(X_test)\n",
        "\n",
        "print(scaler.mean_)\n",
        "print(X_train)\n",
        "print(X_test)"
      ],
      "metadata": {
        "colab": {
          "base_uri": "https://localhost:8080/"
        },
        "id": "JVsL5wruNyU7",
        "outputId": "2f5426bf-2697-4bae-e13c-3d056ab6753c"
      },
      "execution_count": null,
      "outputs": [
        {
          "output_type": "stream",
          "name": "stdout",
          "text": [
            "[4.99527277e+06 4.99493900e+01 1.00866323e+01 8.97571665e-01\n",
            " 1.89176143e+00 3.02102582e-01 2.52629057e+01 1.58064161e+02\n",
            " 1.37869403e+01 6.34157783e+00 1.19987858e+01]\n",
            "[[-1.50240832e+00  4.71478363e-01 -1.44540775e-02 ... -7.24071139e-01\n",
            "   4.54747568e-01  8.67497828e-04]\n",
            " [-1.39636926e+00  1.29137860e+00  1.32029751e+00 ... -1.47087275e+00\n",
            "  -9.16277178e-01 -7.13612176e-01]\n",
            " [-1.35733374e+00  1.29137860e+00  3.19233820e-01 ... -1.90641414e-01\n",
            "   7.28952518e-01 -1.42809185e+00]\n",
            " ...\n",
            " [ 7.39725892e-01  1.58420011e+00 -8.48673822e-01 ...  6.62846145e-01\n",
            "  -3.67867279e-01  7.15347172e-01]\n",
            " [-2.39015279e-01 -5.56003606e-02  1.15345357e+00 ... -1.25750086e+00\n",
            "  -9.36623302e-02  8.67497828e-04]\n",
            " [-8.88434278e-01  4.71478363e-01 -8.48673822e-01 ...  6.62846145e-01\n",
            "  -3.67867279e-01  1.42982685e+00]]\n",
            "[[-1.70058524 -0.9340649  -1.01551777 ... -1.47087275 -0.64207223\n",
            "  -0.71361218]\n",
            " [ 1.67840076 -0.17272897  1.15345357 ... -1.36418681  1.55156737\n",
            "   0.71534717]\n",
            " [-1.19577838  1.17424999  1.32029751 ...  1.19627587  1.82577231\n",
            "   0.71534717]\n",
            " ...\n",
            " [-0.12615789  1.3499429  -1.01551777 ...  1.5163337  -0.64207223\n",
            "   1.42982685]\n",
            " [ 0.71628028  1.05712139  0.15238987 ... -0.72407114  1.27736242\n",
            "  -0.71361218]\n",
            " [ 0.33476226  1.17424999 -0.34814198 ...  1.5163337   0.45474757\n",
            "  -0.71361218]]\n"
          ]
        }
      ]
    },
    {
      "cell_type": "markdown",
      "source": [
        "### Feature Selection\n",
        "\n",
        "There are multiple feature selection methods, let's explore some of them.\n",
        "\n",
        "Feature selection is a method used to reduce the data the model uses by only using relevant data. In this case, I want to do feature selection as it reduces training time and overfitting. As we have labeled data we will be doing supervised feature selection [8] [9].\n",
        "\n",
        "There are three methods for supervised feature selection:\n",
        "1. Wrapper Methods: Uses the subset of features iteratively, so it makes different combinations of all the features, evaluates them, and then compares them, finding the best.\n",
        "\n",
        "2. Filter Methods: Uses a ranking system to remove features, this ranking systems is based on metrics from statistics measures. Don' overfit and are fast and not expensive.\n",
        "\n",
        "3. Embedded Methods: Combination of filter and wrapper methods,\n",
        "\n",
        "\n",
        "\n",
        "\n"
      ],
      "metadata": {
        "id": "cvLFu2Wp2cbp"
      }
    },
    {
      "cell_type": "markdown",
      "source": [
        "## Model Creation\n",
        "## Decision Tree Implementation\n",
        "\n",
        "Now I will implement the **Decision Tree Classifier**.\n",
        "\n",
        "As seen in the scikit-learn documentation (referenced below), it takes 2 arrays as inputs (**training and test sample**)\n",
        "\n",
        "The code below will fit the model\n",
        "\n",
        "[7].\n",
        "\n",
        "A decision tree makes a prediction. \n",
        "\n",
        "### Decision Tree Hyperparameters\n",
        "* The parameter **max_depth** is a hyperparameter that defines the depth of the tree. I will use it as otherwise the tree will have a depth of thousands of nodes.\n",
        "\n",
        "* The parameter **criterion** can be set to either entropy or gini. It determines how the impurity is measured.\n",
        " [8]."
      ],
      "metadata": {
        "id": "DoLTNd7IVygJ"
      }
    },
    {
      "cell_type": "code",
      "source": [
        "from sklearn import tree\n",
        "from sklearn.metrics import accuracy_score\n",
        "from sklearn.metrics import precision_score\n",
        "from sklearn.metrics import recall_score\n",
        "from sklearn.metrics import f1_score\n",
        "\n",
        "\n",
        "DTreeClf = tree.DecisionTreeClassifier(criterion = 'entropy')\n",
        "DTreeClf = DTreeClf.fit(X.values, Y.values)\n",
        "predsdtc = DTreeClf.predict(X_test)\n",
        "print(\"accuracy_score: \" + str(accuracy_score(Y_test, predsdtc)))\n",
        "print(\"precision_score: \" + str(precision_score(Y_test, predsdtc)))\n",
        "print(\"recall_score: \" + str(recall_score(Y_test, predsdtc)))\n",
        "print(\"f1: \" + str(f1_score(Y_test, predsdtc)))"
      ],
      "metadata": {
        "id": "4SPX1wji20sq",
        "colab": {
          "base_uri": "https://localhost:8080/"
        },
        "outputId": "729b3d41-f7de-4c8e-ff08-6cfa3742d8e3"
      },
      "execution_count": null,
      "outputs": [
        {
          "output_type": "stream",
          "name": "stdout",
          "text": [
            "accuracy_score: 0.1582010582010582\n",
            "precision_score: 0.12273260877797554\n",
            "recall_score: 0.9505327989050738\n",
            "f1: 0.21739519284516493\n"
          ]
        }
      ]
    },
    {
      "cell_type": "markdown",
      "source": [
        "Following the example code from the documentation, I can plot the already trained tree:\n",
        "\n",
        "Having said that, unless I change the max_depth value, it can take an abnormal amount of time so as of now the code will remain commented out\n",
        "[7]. \n"
      ],
      "metadata": {
        "id": "lCnUzYcIXWGR"
      }
    },
    {
      "cell_type": "code",
      "source": [
        "#plt.figure(figsize=(10,5))\n",
        "#tree.plot_tree(DTreeClf)"
      ],
      "metadata": {
        "id": "AdyRuJiiXUDp"
      },
      "execution_count": null,
      "outputs": []
    },
    {
      "cell_type": "markdown",
      "source": [
        "### Hyperparameter Optimization\n",
        "\n",
        "Using grid search, we can do some basic hyperparameter optimization"
      ],
      "metadata": {
        "id": "ZPv_-2xHyliX"
      }
    },
    {
      "cell_type": "code",
      "source": [
        "from sklearn.model_selection import GridSearchCV\n",
        " \n",
        "parameter_grid = [\n",
        "     {'criterion':['gini','entropy'],\n",
        "      'max_depth':[4,5,6,7,8,9,10,11,12,15,20,30,40,50,70,90,120,150]}]\n",
        " \n",
        "grid_search = GridSearchCV(DTreeClf, parameter_grid, cv=5,\n",
        "                           scoring='accuracy',\n",
        "                           return_train_score=True)\n",
        " \n",
        "grid_search.fit(X_train, Y_train)\n",
        "print('best parameter values', grid_search.best_params_)\n",
        "print('best estimator', grid_search.best_estimator_)"
      ],
      "metadata": {
        "colab": {
          "base_uri": "https://localhost:8080/"
        },
        "id": "Waq3nlQdw22_",
        "outputId": "6597c794-e4c0-4ee9-c2c2-08efe871fb72"
      },
      "execution_count": null,
      "outputs": [
        {
          "output_type": "stream",
          "name": "stdout",
          "text": [
            "best parameter values {'criterion': 'entropy', 'max_depth': 20}\n",
            "best estimator DecisionTreeClassifier(criterion='entropy', max_depth=20)\n"
          ]
        }
      ]
    },
    {
      "cell_type": "code",
      "source": [
        "best_DTreeClf=grid_search.best_estimator_\n",
        "pred_Y=best_DTreeClf.predict(X_test)\n",
        "\n",
        "print('\\n accuracy', accuracy_score(Y_test, pred_Y))\n",
        "print('\\n precision', precision_score(Y_test, pred_Y))\n",
        "print('\\n recall (sensitivity)', recall_score(Y_test, pred_Y))\n",
        "print('\\n f1', f1_score(Y_test, pred_Y))"
      ],
      "metadata": {
        "colab": {
          "base_uri": "https://localhost:8080/"
        },
        "id": "W1J4Z2SazLaY",
        "outputId": "2125c048-8c2e-4481-94b1-19417448583c"
      },
      "execution_count": null,
      "outputs": [
        {
          "output_type": "stream",
          "name": "stdout",
          "text": [
            "\n",
            " accuracy 0.8833092833092833\n",
            "\n",
            " precision 0.5292348813899098\n",
            "\n",
            " recall (sensitivity) 0.4645615407175677\n",
            "\n",
            " f1 0.49479383590170767\n"
          ]
        }
      ]
    },
    {
      "cell_type": "markdown",
      "source": [
        "### Decision Tree Conclusion\n",
        "\n",
        "Running time was only 3 seconds, but the accuracy is quite low, with 0.68.\n",
        "\n",
        "However, with hyperparameter optimization using grid search, we can reach better accuracy, with 0.88. Having said that, the precision, recall and f1 score are all significantly lower.\n"
      ],
      "metadata": {
        "id": "03Pq6uOlv0Vn"
      }
    },
    {
      "cell_type": "markdown",
      "source": [
        "### Random Forest Classifier\n",
        "\n",
        "Random Forests are a type of ensemble models, which means they construct a s et of base models, and combine the predictions of multiple models to reach a better one.\n",
        "\n",
        "Random Forests specifically work by having a vast amount of uncorrelated individual decision trees. This randomness means trees are less correlated, so we can see on a wider spectrum our data and will help us reach a better prediction.\n",
        "\n",
        "The more views we have, the more we can know what option is best to choose.\n",
        "\n",
        "The most important hyperparameters are \n",
        "* max_features\n",
        "* n_estimators"
      ],
      "metadata": {
        "id": "Io0ncSCmPlt8"
      }
    },
    {
      "cell_type": "code",
      "source": [
        "from sklearn.ensemble import RandomForestClassifier\n",
        "rForestClf=RandomForestClassifier()\n",
        "\n",
        "rForestClf = rForestClf.fit(X.values, Y.values)\n",
        "predsdtc = rForestClf.predict(X_test)\n",
        "print(\"accuracy_score: \" + str(accuracy_score(Y_test, predsdtc)))\n",
        "print(\"precision_score: \" + str(precision_score(Y_test, predsdtc)))\n",
        "print(\"recall_score: \" + str(recall_score(Y_test, predsdtc)))\n",
        "print(\"f1: \" + str(f1_score(Y_test, predsdtc)))"
      ],
      "metadata": {
        "colab": {
          "base_uri": "https://localhost:8080/"
        },
        "id": "lm6XCqGa01Bo",
        "outputId": "a87738b2-54a3-4460-dbd5-5a194796b423"
      },
      "execution_count": null,
      "outputs": [
        {
          "output_type": "stream",
          "name": "stderr",
          "text": [
            "/usr/local/lib/python3.7/dist-packages/ipykernel_launcher.py:4: DataConversionWarning: A column-vector y was passed when a 1d array was expected. Please change the shape of y to (n_samples,), for example using ravel().\n",
            "  after removing the cwd from sys.path.\n"
          ]
        },
        {
          "output_type": "stream",
          "name": "stdout",
          "text": [
            "accuracy_score: 0.7909331409331409\n",
            "precision_score: 0.10980263875258968\n",
            "recall_score: 0.09844559585492228\n",
            "f1: 0.10381443298969072\n"
          ]
        }
      ]
    },
    {
      "cell_type": "markdown",
      "source": [
        "### Hyperparameter Optimization"
      ],
      "metadata": {
        "id": "qi-XDGam2g8Q"
      }
    },
    {
      "cell_type": "code",
      "source": [
        "from sklearn.model_selection import GridSearchCV\n",
        " \n",
        "param_grid = { \n",
        "    'max_features': [2, 3, 4, 6],\n",
        "    'criterion' :['gini', 'entropy']}\n",
        " \n",
        "grid_search = GridSearchCV(rForestClf, param_grid, cv=5,\n",
        "                           scoring='accuracy',\n",
        "                           return_train_score=True,\n",
        "                            n_jobs=-1)   \n",
        " \n",
        "grid_search.fit(X_train, Y_train)\n",
        "print('best parameter values', grid_search.best_params_)\n",
        "print('best estimator', grid_search.best_estimator_)\n",
        " \n",
        "cvres = grid_search.cv_results_\n",
        "for mean_score, params in zip(cvres[\"mean_test_score\"], cvres[\"params\"]):\n",
        "    print(np.mean(mean_score), params)\n"
      ],
      "metadata": {
        "colab": {
          "base_uri": "https://localhost:8080/"
        },
        "id": "0BJcfeVL2gZI",
        "outputId": "3f0f75ab-b0b1-4965-f3a6-f1681e0847ea"
      },
      "execution_count": null,
      "outputs": [
        {
          "output_type": "stream",
          "name": "stdout",
          "text": [
            "best parameter values {'criterion': 'entropy', 'max_features': 2}\n",
            "best estimator RandomForestClassifier(criterion='entropy', max_features=2)\n",
            "0.8990523572613125 {'criterion': 'gini', 'max_features': 2}\n",
            "0.899271499644634 {'criterion': 'gini', 'max_features': 3}\n",
            "0.8991175076995972 {'criterion': 'gini', 'max_features': 4}\n",
            "0.8992359630419331 {'criterion': 'gini', 'max_features': 6}\n",
            "0.8992774224117509 {'criterion': 'entropy', 'max_features': 2}\n",
            "0.8991293532338307 {'criterion': 'entropy', 'max_features': 3}\n",
            "0.8990523572613125 {'criterion': 'entropy', 'max_features': 4}\n",
            "0.8990997393982468 {'criterion': 'entropy', 'max_features': 6}\n"
          ]
        }
      ]
    },
    {
      "cell_type": "code",
      "source": [
        "best_rForestClf=grid_search.best_estimator_\n",
        "pred_Y=best_rForestClf.predict(X_test)\n",
        "\n",
        "print('\\n accuracy', accuracy_score(Y_test, pred_Y))\n",
        "print('\\n precision', precision_score(Y_test, pred_Y))\n",
        "print('\\n recall (sensitivity)', recall_score(Y_test, pred_Y))\n",
        "print('\\n f1', f1_score(Y_test, pred_Y))"
      ],
      "metadata": {
        "colab": {
          "base_uri": "https://localhost:8080/"
        },
        "id": "QQ3ucJHv3dCw",
        "outputId": "d3560f2c-0978-4110-c898-6e922145090f"
      },
      "execution_count": null,
      "outputs": [
        {
          "output_type": "stream",
          "name": "stdout",
          "text": [
            "\n",
            " accuracy 0.8989177489177489\n",
            "\n",
            " precision 0.601469442279862\n",
            "\n",
            " recall (sensitivity) 0.5282041255254668\n",
            "\n",
            " f1 0.5624609618988131\n"
          ]
        }
      ]
    },
    {
      "cell_type": "markdown",
      "source": [
        "### Random Forest Conclusion\n",
        "\n",
        "Running time was 44 seconds seconds, and the accuracy is 0.79. However, Precision, recall and f1 are all extremely low.\n",
        "\n",
        "However, with hyperparameter optimization using grid search, we can reach better accuracy, with 0.89.\n",
        "\n",
        "The precision, recall and f1 score are all more stable now. However, it did take 15 minutes to compute."
      ],
      "metadata": {
        "id": "mbcTBtva2AIo"
      }
    },
    {
      "cell_type": "markdown",
      "source": [
        "### AdaBoost\n"
      ],
      "metadata": {
        "id": "y1NGEQ1x6UIp"
      }
    },
    {
      "cell_type": "code",
      "source": [
        "from sklearn.ensemble import AdaBoostClassifier\n",
        "\n",
        "ABoostClf = AdaBoostClassifier()\n",
        "ABoostClf.fit(X, Y)\n",
        "y_pred = ABoostClf.predict(X_train)\n",
        "accuracy = ABoostClf.score(X_train, Y_train)\n",
        "accuracy\n"
      ],
      "metadata": {
        "colab": {
          "base_uri": "https://localhost:8080/"
        },
        "id": "Y0N503l96um6",
        "outputId": "47b6360c-c689-4654-e40a-892f4efdafcf"
      },
      "execution_count": null,
      "outputs": [
        {
          "output_type": "stream",
          "name": "stderr",
          "text": [
            "/usr/local/lib/python3.7/dist-packages/sklearn/utils/validation.py:993: DataConversionWarning: A column-vector y was passed when a 1d array was expected. Please change the shape of y to (n_samples, ), for example using ravel().\n",
            "  y = column_or_1d(y, warn=True)\n",
            "/usr/local/lib/python3.7/dist-packages/sklearn/base.py:451: UserWarning: X does not have valid feature names, but AdaBoostClassifier was fitted with feature names\n",
            "  \"X does not have valid feature names, but\"\n",
            "/usr/local/lib/python3.7/dist-packages/sklearn/base.py:451: UserWarning: X does not have valid feature names, but AdaBoostClassifier was fitted with feature names\n",
            "  \"X does not have valid feature names, but\"\n"
          ]
        },
        {
          "output_type": "execute_result",
          "data": {
            "text/plain": [
              "0.8770018952854773"
            ]
          },
          "metadata": {},
          "execution_count": 46
        }
      ]
    },
    {
      "cell_type": "markdown",
      "source": [
        "### Hyperparameter Optimization"
      ],
      "metadata": {
        "id": "q1Y9HVEFGEyV"
      }
    },
    {
      "cell_type": "code",
      "source": [
        "from sklearn.model_selection import GridSearchCV\n",
        "param_grid = {\n",
        "     #'n_estimators': np.arange(10,200,10),\n",
        "     'learning_rate': [0.01, 0.1, 1]\n",
        " }\n",
        "grid_search = GridSearchCV(ABoostClf, param_grid, scoring='accuracy', cv=5, n_jobs=-1)\n",
        "grid_search.fit(X_train, Y_train)\n",
        "grid_search.best_params_\n",
        "print('best parameter values', grid_search.best_params_)\n",
        "print('best estimator', grid_search.best_estimator_)\n",
        " \n",
        "cvres = grid_search.cv_results_\n",
        "for mean_score, params in zip(cvres[\"mean_test_score\"], cvres[\"params\"]):\n",
        "    print(np.mean(mean_score), params)\n"
      ],
      "metadata": {
        "colab": {
          "base_uri": "https://localhost:8080/",
          "height": 396
        },
        "id": "E1xxxytCGRL4",
        "outputId": "9be3c4af-8895-4e85-fa7d-6e2adde917be"
      },
      "execution_count": null,
      "outputs": [
        {
          "output_type": "error",
          "ename": "KeyboardInterrupt",
          "evalue": "ignored",
          "traceback": [
            "\u001b[0;31m---------------------------------------------------------------------------\u001b[0m",
            "\u001b[0;31mKeyboardInterrupt\u001b[0m                         Traceback (most recent call last)",
            "\u001b[0;32m<ipython-input-48-b983c50a50d9>\u001b[0m in \u001b[0;36m<module>\u001b[0;34m()\u001b[0m\n\u001b[1;32m      5\u001b[0m  }\n\u001b[1;32m      6\u001b[0m \u001b[0mgrid_search\u001b[0m \u001b[0;34m=\u001b[0m \u001b[0mGridSearchCV\u001b[0m\u001b[0;34m(\u001b[0m\u001b[0mABoostClf\u001b[0m\u001b[0;34m,\u001b[0m \u001b[0mparam_grid\u001b[0m\u001b[0;34m,\u001b[0m \u001b[0mscoring\u001b[0m\u001b[0;34m=\u001b[0m\u001b[0;34m'accuracy'\u001b[0m\u001b[0;34m,\u001b[0m \u001b[0mcv\u001b[0m\u001b[0;34m=\u001b[0m\u001b[0;36m5\u001b[0m\u001b[0;34m,\u001b[0m \u001b[0mn_jobs\u001b[0m\u001b[0;34m=\u001b[0m\u001b[0;34m-\u001b[0m\u001b[0;36m1\u001b[0m\u001b[0;34m)\u001b[0m\u001b[0;34m\u001b[0m\u001b[0;34m\u001b[0m\u001b[0m\n\u001b[0;32m----> 7\u001b[0;31m \u001b[0mgrid_search\u001b[0m\u001b[0;34m.\u001b[0m\u001b[0mfit\u001b[0m\u001b[0;34m(\u001b[0m\u001b[0mX_train\u001b[0m\u001b[0;34m,\u001b[0m \u001b[0mY_train\u001b[0m\u001b[0;34m)\u001b[0m\u001b[0;34m\u001b[0m\u001b[0;34m\u001b[0m\u001b[0m\n\u001b[0m\u001b[1;32m      8\u001b[0m \u001b[0mgrid_search\u001b[0m\u001b[0;34m.\u001b[0m\u001b[0mbest_params_\u001b[0m\u001b[0;34m\u001b[0m\u001b[0;34m\u001b[0m\u001b[0m\n\u001b[1;32m      9\u001b[0m \u001b[0mprint\u001b[0m\u001b[0;34m(\u001b[0m\u001b[0;34m'best parameter values'\u001b[0m\u001b[0;34m,\u001b[0m \u001b[0mgrid_search\u001b[0m\u001b[0;34m.\u001b[0m\u001b[0mbest_params_\u001b[0m\u001b[0;34m)\u001b[0m\u001b[0;34m\u001b[0m\u001b[0;34m\u001b[0m\u001b[0m\n",
            "\u001b[0;32m/usr/local/lib/python3.7/dist-packages/sklearn/model_selection/_search.py\u001b[0m in \u001b[0;36mfit\u001b[0;34m(self, X, y, groups, **fit_params)\u001b[0m\n\u001b[1;32m    889\u001b[0m                 \u001b[0;32mreturn\u001b[0m \u001b[0mresults\u001b[0m\u001b[0;34m\u001b[0m\u001b[0;34m\u001b[0m\u001b[0m\n\u001b[1;32m    890\u001b[0m \u001b[0;34m\u001b[0m\u001b[0m\n\u001b[0;32m--> 891\u001b[0;31m             \u001b[0mself\u001b[0m\u001b[0;34m.\u001b[0m\u001b[0m_run_search\u001b[0m\u001b[0;34m(\u001b[0m\u001b[0mevaluate_candidates\u001b[0m\u001b[0;34m)\u001b[0m\u001b[0;34m\u001b[0m\u001b[0;34m\u001b[0m\u001b[0m\n\u001b[0m\u001b[1;32m    892\u001b[0m \u001b[0;34m\u001b[0m\u001b[0m\n\u001b[1;32m    893\u001b[0m             \u001b[0;31m# multimetric is determined here because in the case of a callable\u001b[0m\u001b[0;34m\u001b[0m\u001b[0;34m\u001b[0m\u001b[0;34m\u001b[0m\u001b[0m\n",
            "\u001b[0;32m/usr/local/lib/python3.7/dist-packages/sklearn/model_selection/_search.py\u001b[0m in \u001b[0;36m_run_search\u001b[0;34m(self, evaluate_candidates)\u001b[0m\n\u001b[1;32m   1390\u001b[0m     \u001b[0;32mdef\u001b[0m \u001b[0m_run_search\u001b[0m\u001b[0;34m(\u001b[0m\u001b[0mself\u001b[0m\u001b[0;34m,\u001b[0m \u001b[0mevaluate_candidates\u001b[0m\u001b[0;34m)\u001b[0m\u001b[0;34m:\u001b[0m\u001b[0;34m\u001b[0m\u001b[0;34m\u001b[0m\u001b[0m\n\u001b[1;32m   1391\u001b[0m         \u001b[0;34m\"\"\"Search all candidates in param_grid\"\"\"\u001b[0m\u001b[0;34m\u001b[0m\u001b[0;34m\u001b[0m\u001b[0m\n\u001b[0;32m-> 1392\u001b[0;31m         \u001b[0mevaluate_candidates\u001b[0m\u001b[0;34m(\u001b[0m\u001b[0mParameterGrid\u001b[0m\u001b[0;34m(\u001b[0m\u001b[0mself\u001b[0m\u001b[0;34m.\u001b[0m\u001b[0mparam_grid\u001b[0m\u001b[0;34m)\u001b[0m\u001b[0;34m)\u001b[0m\u001b[0;34m\u001b[0m\u001b[0;34m\u001b[0m\u001b[0m\n\u001b[0m\u001b[1;32m   1393\u001b[0m \u001b[0;34m\u001b[0m\u001b[0m\n\u001b[1;32m   1394\u001b[0m \u001b[0;34m\u001b[0m\u001b[0m\n",
            "\u001b[0;32m/usr/local/lib/python3.7/dist-packages/sklearn/model_selection/_search.py\u001b[0m in \u001b[0;36mevaluate_candidates\u001b[0;34m(candidate_params, cv, more_results)\u001b[0m\n\u001b[1;32m    849\u001b[0m                     )\n\u001b[1;32m    850\u001b[0m                     for (cand_idx, parameters), (split_idx, (train, test)) in product(\n\u001b[0;32m--> 851\u001b[0;31m                         \u001b[0menumerate\u001b[0m\u001b[0;34m(\u001b[0m\u001b[0mcandidate_params\u001b[0m\u001b[0;34m)\u001b[0m\u001b[0;34m,\u001b[0m \u001b[0menumerate\u001b[0m\u001b[0;34m(\u001b[0m\u001b[0mcv\u001b[0m\u001b[0;34m.\u001b[0m\u001b[0msplit\u001b[0m\u001b[0;34m(\u001b[0m\u001b[0mX\u001b[0m\u001b[0;34m,\u001b[0m \u001b[0my\u001b[0m\u001b[0;34m,\u001b[0m \u001b[0mgroups\u001b[0m\u001b[0;34m)\u001b[0m\u001b[0;34m)\u001b[0m\u001b[0;34m\u001b[0m\u001b[0;34m\u001b[0m\u001b[0m\n\u001b[0m\u001b[1;32m    852\u001b[0m                     )\n\u001b[1;32m    853\u001b[0m                 )\n",
            "\u001b[0;32m/usr/local/lib/python3.7/dist-packages/joblib/parallel.py\u001b[0m in \u001b[0;36m__call__\u001b[0;34m(self, iterable)\u001b[0m\n\u001b[1;32m   1054\u001b[0m \u001b[0;34m\u001b[0m\u001b[0m\n\u001b[1;32m   1055\u001b[0m             \u001b[0;32mwith\u001b[0m \u001b[0mself\u001b[0m\u001b[0;34m.\u001b[0m\u001b[0m_backend\u001b[0m\u001b[0;34m.\u001b[0m\u001b[0mretrieval_context\u001b[0m\u001b[0;34m(\u001b[0m\u001b[0;34m)\u001b[0m\u001b[0;34m:\u001b[0m\u001b[0;34m\u001b[0m\u001b[0;34m\u001b[0m\u001b[0m\n\u001b[0;32m-> 1056\u001b[0;31m                 \u001b[0mself\u001b[0m\u001b[0;34m.\u001b[0m\u001b[0mretrieve\u001b[0m\u001b[0;34m(\u001b[0m\u001b[0;34m)\u001b[0m\u001b[0;34m\u001b[0m\u001b[0;34m\u001b[0m\u001b[0m\n\u001b[0m\u001b[1;32m   1057\u001b[0m             \u001b[0;31m# Make sure that we get a last message telling us we are done\u001b[0m\u001b[0;34m\u001b[0m\u001b[0;34m\u001b[0m\u001b[0;34m\u001b[0m\u001b[0m\n\u001b[1;32m   1058\u001b[0m             \u001b[0melapsed_time\u001b[0m \u001b[0;34m=\u001b[0m \u001b[0mtime\u001b[0m\u001b[0;34m.\u001b[0m\u001b[0mtime\u001b[0m\u001b[0;34m(\u001b[0m\u001b[0;34m)\u001b[0m \u001b[0;34m-\u001b[0m \u001b[0mself\u001b[0m\u001b[0;34m.\u001b[0m\u001b[0m_start_time\u001b[0m\u001b[0;34m\u001b[0m\u001b[0;34m\u001b[0m\u001b[0m\n",
            "\u001b[0;32m/usr/local/lib/python3.7/dist-packages/joblib/parallel.py\u001b[0m in \u001b[0;36mretrieve\u001b[0;34m(self)\u001b[0m\n\u001b[1;32m    933\u001b[0m             \u001b[0;32mtry\u001b[0m\u001b[0;34m:\u001b[0m\u001b[0;34m\u001b[0m\u001b[0;34m\u001b[0m\u001b[0m\n\u001b[1;32m    934\u001b[0m                 \u001b[0;32mif\u001b[0m \u001b[0mgetattr\u001b[0m\u001b[0;34m(\u001b[0m\u001b[0mself\u001b[0m\u001b[0;34m.\u001b[0m\u001b[0m_backend\u001b[0m\u001b[0;34m,\u001b[0m \u001b[0;34m'supports_timeout'\u001b[0m\u001b[0;34m,\u001b[0m \u001b[0;32mFalse\u001b[0m\u001b[0;34m)\u001b[0m\u001b[0;34m:\u001b[0m\u001b[0;34m\u001b[0m\u001b[0;34m\u001b[0m\u001b[0m\n\u001b[0;32m--> 935\u001b[0;31m                     \u001b[0mself\u001b[0m\u001b[0;34m.\u001b[0m\u001b[0m_output\u001b[0m\u001b[0;34m.\u001b[0m\u001b[0mextend\u001b[0m\u001b[0;34m(\u001b[0m\u001b[0mjob\u001b[0m\u001b[0;34m.\u001b[0m\u001b[0mget\u001b[0m\u001b[0;34m(\u001b[0m\u001b[0mtimeout\u001b[0m\u001b[0;34m=\u001b[0m\u001b[0mself\u001b[0m\u001b[0;34m.\u001b[0m\u001b[0mtimeout\u001b[0m\u001b[0;34m)\u001b[0m\u001b[0;34m)\u001b[0m\u001b[0;34m\u001b[0m\u001b[0;34m\u001b[0m\u001b[0m\n\u001b[0m\u001b[1;32m    936\u001b[0m                 \u001b[0;32melse\u001b[0m\u001b[0;34m:\u001b[0m\u001b[0;34m\u001b[0m\u001b[0;34m\u001b[0m\u001b[0m\n\u001b[1;32m    937\u001b[0m                     \u001b[0mself\u001b[0m\u001b[0;34m.\u001b[0m\u001b[0m_output\u001b[0m\u001b[0;34m.\u001b[0m\u001b[0mextend\u001b[0m\u001b[0;34m(\u001b[0m\u001b[0mjob\u001b[0m\u001b[0;34m.\u001b[0m\u001b[0mget\u001b[0m\u001b[0;34m(\u001b[0m\u001b[0;34m)\u001b[0m\u001b[0;34m)\u001b[0m\u001b[0;34m\u001b[0m\u001b[0;34m\u001b[0m\u001b[0m\n",
            "\u001b[0;32m/usr/local/lib/python3.7/dist-packages/joblib/_parallel_backends.py\u001b[0m in \u001b[0;36mwrap_future_result\u001b[0;34m(future, timeout)\u001b[0m\n\u001b[1;32m    540\u001b[0m         AsyncResults.get from multiprocessing.\"\"\"\n\u001b[1;32m    541\u001b[0m         \u001b[0;32mtry\u001b[0m\u001b[0;34m:\u001b[0m\u001b[0;34m\u001b[0m\u001b[0;34m\u001b[0m\u001b[0m\n\u001b[0;32m--> 542\u001b[0;31m             \u001b[0;32mreturn\u001b[0m \u001b[0mfuture\u001b[0m\u001b[0;34m.\u001b[0m\u001b[0mresult\u001b[0m\u001b[0;34m(\u001b[0m\u001b[0mtimeout\u001b[0m\u001b[0;34m=\u001b[0m\u001b[0mtimeout\u001b[0m\u001b[0;34m)\u001b[0m\u001b[0;34m\u001b[0m\u001b[0;34m\u001b[0m\u001b[0m\n\u001b[0m\u001b[1;32m    543\u001b[0m         \u001b[0;32mexcept\u001b[0m \u001b[0mCfTimeoutError\u001b[0m \u001b[0;32mas\u001b[0m \u001b[0me\u001b[0m\u001b[0;34m:\u001b[0m\u001b[0;34m\u001b[0m\u001b[0;34m\u001b[0m\u001b[0m\n\u001b[1;32m    544\u001b[0m             \u001b[0;32mraise\u001b[0m \u001b[0mTimeoutError\u001b[0m \u001b[0;32mfrom\u001b[0m \u001b[0me\u001b[0m\u001b[0;34m\u001b[0m\u001b[0;34m\u001b[0m\u001b[0m\n",
            "\u001b[0;32m/usr/lib/python3.7/concurrent/futures/_base.py\u001b[0m in \u001b[0;36mresult\u001b[0;34m(self, timeout)\u001b[0m\n\u001b[1;32m    428\u001b[0m                 \u001b[0;32mreturn\u001b[0m \u001b[0mself\u001b[0m\u001b[0;34m.\u001b[0m\u001b[0m__get_result\u001b[0m\u001b[0;34m(\u001b[0m\u001b[0;34m)\u001b[0m\u001b[0;34m\u001b[0m\u001b[0;34m\u001b[0m\u001b[0m\n\u001b[1;32m    429\u001b[0m \u001b[0;34m\u001b[0m\u001b[0m\n\u001b[0;32m--> 430\u001b[0;31m             \u001b[0mself\u001b[0m\u001b[0;34m.\u001b[0m\u001b[0m_condition\u001b[0m\u001b[0;34m.\u001b[0m\u001b[0mwait\u001b[0m\u001b[0;34m(\u001b[0m\u001b[0mtimeout\u001b[0m\u001b[0;34m)\u001b[0m\u001b[0;34m\u001b[0m\u001b[0;34m\u001b[0m\u001b[0m\n\u001b[0m\u001b[1;32m    431\u001b[0m \u001b[0;34m\u001b[0m\u001b[0m\n\u001b[1;32m    432\u001b[0m             \u001b[0;32mif\u001b[0m \u001b[0mself\u001b[0m\u001b[0;34m.\u001b[0m\u001b[0m_state\u001b[0m \u001b[0;32min\u001b[0m \u001b[0;34m[\u001b[0m\u001b[0mCANCELLED\u001b[0m\u001b[0;34m,\u001b[0m \u001b[0mCANCELLED_AND_NOTIFIED\u001b[0m\u001b[0;34m]\u001b[0m\u001b[0;34m:\u001b[0m\u001b[0;34m\u001b[0m\u001b[0;34m\u001b[0m\u001b[0m\n",
            "\u001b[0;32m/usr/lib/python3.7/threading.py\u001b[0m in \u001b[0;36mwait\u001b[0;34m(self, timeout)\u001b[0m\n\u001b[1;32m    294\u001b[0m         \u001b[0;32mtry\u001b[0m\u001b[0;34m:\u001b[0m    \u001b[0;31m# restore state no matter what (e.g., KeyboardInterrupt)\u001b[0m\u001b[0;34m\u001b[0m\u001b[0;34m\u001b[0m\u001b[0m\n\u001b[1;32m    295\u001b[0m             \u001b[0;32mif\u001b[0m \u001b[0mtimeout\u001b[0m \u001b[0;32mis\u001b[0m \u001b[0;32mNone\u001b[0m\u001b[0;34m:\u001b[0m\u001b[0;34m\u001b[0m\u001b[0;34m\u001b[0m\u001b[0m\n\u001b[0;32m--> 296\u001b[0;31m                 \u001b[0mwaiter\u001b[0m\u001b[0;34m.\u001b[0m\u001b[0macquire\u001b[0m\u001b[0;34m(\u001b[0m\u001b[0;34m)\u001b[0m\u001b[0;34m\u001b[0m\u001b[0;34m\u001b[0m\u001b[0m\n\u001b[0m\u001b[1;32m    297\u001b[0m                 \u001b[0mgotit\u001b[0m \u001b[0;34m=\u001b[0m \u001b[0;32mTrue\u001b[0m\u001b[0;34m\u001b[0m\u001b[0;34m\u001b[0m\u001b[0m\n\u001b[1;32m    298\u001b[0m             \u001b[0;32melse\u001b[0m\u001b[0;34m:\u001b[0m\u001b[0;34m\u001b[0m\u001b[0;34m\u001b[0m\u001b[0m\n",
            "\u001b[0;31mKeyboardInterrupt\u001b[0m: "
          ]
        }
      ]
    },
    {
      "cell_type": "code",
      "source": [
        "best_ABoostGrid=grid_search.best_estimator_\n",
        "pred_Y=best_ABoostGrid.predict(X_test)\n",
        " \n",
        "cm=confusion_matrix(Y_test, pred_Y) # confusion matrix\n",
        "print('confusion matrix,  classes order is 0 and 1, actual values on rows, predicted values on columns \\n', cm)\n",
        "print('\\n accuracy', accuracy_score(Y_test, pred_Y))\n",
        "print('\\n precision', precision_score(Y_test, pred_Y))\n",
        "print('\\n recall (sensitivity)', recall_score(Y_test, pred_Y))\n",
        "print('\\n f1', f1_score(Y_test, pred_Y))\n"
      ],
      "metadata": {
        "id": "apUcSp4GJLJ1"
      },
      "execution_count": null,
      "outputs": []
    },
    {
      "cell_type": "markdown",
      "source": [
        "### AdaBoost Conclusion\n",
        "\n",
        "Alone, the accuracy was 0.87 which is a very good score, but with hyperparameter optimization"
      ],
      "metadata": {
        "id": "c47e67OdI7Sd"
      }
    },
    {
      "cell_type": "markdown",
      "source": [
        "### Naive Bayes Algorithm\n",
        "\n"
      ],
      "metadata": {
        "id": "9mYjKI2g7OCa"
      }
    },
    {
      "cell_type": "code",
      "source": [
        "from sklearn.naive_bayes import GaussianNB\n",
        "\n",
        "NaiveBayesClf = GaussianNB().fit(X_train, Y_train)"
      ],
      "metadata": {
        "id": "GZM9OY9b7Qei"
      },
      "execution_count": null,
      "outputs": []
    },
    {
      "cell_type": "code",
      "source": [
        "predicted_y = NaiveBayesClf.predict(X_test)"
      ],
      "metadata": {
        "id": "J4LO91TG7Zm5"
      },
      "execution_count": null,
      "outputs": []
    },
    {
      "cell_type": "code",
      "source": [
        "from sklearn.metrics import accuracy_score\n",
        "\n",
        "# now calculating that how much accurate our model is with comparing our predicted values and y_test values\n",
        "accuracy_score = accuracy_score(Y_test, predicted_y) \n",
        "print (accuracy_score)"
      ],
      "metadata": {
        "colab": {
          "base_uri": "https://localhost:8080/"
        },
        "id": "OC7Ywrek7bF8",
        "outputId": "8c9653e2-123a-4636-b1a3-7a3eeed56c79"
      },
      "execution_count": null,
      "outputs": [
        {
          "output_type": "stream",
          "name": "stdout",
          "text": [
            "0.876996151996152\n"
          ]
        }
      ]
    },
    {
      "cell_type": "markdown",
      "source": [
        "The accuracy with Naive Bayes is also significantly high, at 87%. Unfortunately, Naive Bayes has no parameters to be tuned"
      ],
      "metadata": {
        "id": "incXabsDFCfY"
      }
    },
    {
      "cell_type": "markdown",
      "source": [
        "## References\n",
        "\n",
        "[1]. Nettleton, D. (2014). Selection of Variables and Factor Derivation. In Commercial Data Mining Processing, analysis and modeling for Predictive Analytics Projects. essay, Elsevier. \n",
        "\n",
        "[2]. Brownlee, J. (2020, August 27). How to use StandardScaler and MinMaxScaler transforms in Python. Machine Learning Mastery. Retrieved from https://machinelearningmastery.com/standardscaler-and-minmaxscaler-transforms-in-python/. \n",
        "\n",
        "[3]. Sklearn.preprocessing.LabelEncoder. scikit. (n.d.). Retrieved from https://scikit-learn.org/stable/modules/generated/sklearn.preprocessing.LabelEncoder.html. \n",
        "\n",
        "[4]. Brownlee, J. (2020, August 26). Train-test split for Evaluating Machine Learning Algorithms. Machine Learning Mastery. Retrieved from https://machinelearningmastery.com/train-test-split-for-evaluating-machine-learning-algorithms/. \n",
        "\n",
        "[5]. 1.10.1. Classification. scikit. (n.d.). Retrieved from https://scikit-learn.org/stable/modules/tree.html#classification. \n",
        "\n",
        "[6]. Understanding the decision tree structure. scikit. (n.d.). Retrieved from https://scikit-learn.org/stable/auto_examples/tree/plot_unveil_tree_structure.html#sphx-glr-auto-examples-tree-plot-unveil-tree-structure-py. \n",
        "\n",
        "\n",
        "[7]. Normalized Nerd. (2021, January 13). Decision tree classification clearly explained! YouTube. Retrieved from https://www.youtube.com/watch?v=ZVR2Way4nwQ. \n",
        "\n",
        "[8]. Feature Selection Techniques in Machine Learning,JavatPoint. Retrieved from https://www.javatpoint.com/feature-selection-techniques-in-machine-learning\n",
        "\n",
        "[9]. Ciortan, M. (2019, July 26), Overview of feature selection methods. Towards Data Science. Retrieved from https://towardsdatascience.com/overview-of-feature-selection-methods-a2d115c7a8f7"
      ],
      "metadata": {
        "id": "38icd--b0wrZ"
      }
    },
    {
      "cell_type": "code",
      "source": [
        ""
      ],
      "metadata": {
        "id": "9_xaVtE80yTa"
      },
      "execution_count": null,
      "outputs": []
    },
    {
      "cell_type": "markdown",
      "source": [
        "# Ask Daniel\n",
        "\n",
        "* My output variable, 0 or 1, is categorical no? \n",
        "  * I encoded my variables so they are all numerical, hmmm\n",
        "\n",
        "\n",
        "# To do\n",
        "\n",
        "* Hyperparameter testing, manually or using a function\n",
        "  * grid search, genetic algorithms, \n",
        "  * for support vecrors they are better\n",
        "* How many classifiers should I do, infinite amounts/ xgboost, linear regression\n",
        "  * Compare, do it and then see which is the best\n",
        "    * See performance on default, then after hyperparameters, so compare different performcances\n",
        "    * 3-5\n",
        "    * Could be random\n",
        "* feature selection, all correlations are irreelveant so shuld I not do anuthing/\n",
        "  * no correlation because it is unnivariate, \n",
        "* caret for R\n",
        "* do feature selection as data processingn, after the correlations\n",
        "\n",
        "* If I use another dataset, try imputation to fill out for empty or NA values\n",
        "* Stratify\n"
      ],
      "metadata": {
        "id": "i16wgQ-MG3N3"
      }
    },
    {
      "cell_type": "code",
      "source": [
        ""
      ],
      "metadata": {
        "id": "dvg7rVqaOgIl"
      },
      "execution_count": null,
      "outputs": []
    }
  ]
}