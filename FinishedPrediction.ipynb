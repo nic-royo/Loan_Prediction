{
  "nbformat": 4,
  "nbformat_minor": 0,
  "metadata": {
    "colab": {
      "name": "3.1.ipynb",
      "provenance": [],
      "collapsed_sections": []
    },
    "kernelspec": {
      "name": "python3",
      "display_name": "Python 3"
    },
    "language_info": {
      "name": "python"
    }
  },
  "cells": [
    {
      "cell_type": "markdown",
      "source": [
        "# Default Loan Prediction\n",
        "## Final Project \n",
        "## By Nicolas Obregon\n",
        "\n",
        "## Introduction and Research Topic\n",
        "\n",
        "### Research Question\n",
        "\n",
        "### Motivation\n",
        "\n",
        "\n"
      ],
      "metadata": {
        "id": "LlFmCz83pRJG"
      }
    },
    {
      "cell_type": "markdown",
      "source": [
        "## Data overview, cleaning and pre-processing\n",
        "\n",
        "The dataset was collected from kaggle (https://www.kaggle.com/subhamjain/loan-prediction-based-on-customer-behavior/version/1?select=Training+Data.csv), a webpage that contains multiple datasets for users to solve problems or create novel coding projects.\n",
        "\n",
        "It consists of one csv files:\n",
        "\n",
        "*   The first **(TrainingData.csv)**, used here, is the training data file which has users with 12 features describing them, and a risk flag (which is either 1 (person defaulted) or 0 (person did not default)) which indicates if the individual has defaulted in the past or not. Our machine learning model will mainly learn from the contents of this folder.\n",
        "  * Most of the variables are object types so I will convert them immediatly to category types\n",
        "\n",
        "\n",
        "### Variables\n",
        "There are 13 variables, here they are explained in detail:\n",
        "* Variables that are important to know to keep track of what is going on, but otherwise have no effect on the analysis:\n",
        "  * **Id**: Self-explanatory\n",
        "  * **Income**: States in Indian rupees the individuals income\n",
        "  * **Age**: States the users age\n",
        "  * **Experience**: States the users years of work experience \n",
        "  * **Relationship_Status**: States if the user is married or single\n",
        "  * **House_Ownership**: States if the user rents or owns a house or neither\n",
        "  * **Car_Ownership**: States if the user owns a car\n",
        "  * **Profession**: The proffesion of the user \n",
        "  * **CITY and STATE**: Self-explanatory\n",
        "  * **CURRENT_JOB_YRS**: The years the user has been at their current job\n",
        "  * **CURRENT_HOUSE_YRS**: Years user has been in their house\n",
        "  * **Risk_Flag**: Whether the user has defaulted or not.\n",
        "    * This is the Class Variable (0 or 1)\n",
        "\n",
        "### Libraries\n"
      ],
      "metadata": {
        "id": "3383fsSmpkVl"
      }
    },
    {
      "cell_type": "code",
      "source": [
        "%matplotlib inline\n",
        "\n",
        "import pandas as pd\n",
        "import matplotlib as mpl\n",
        "import matplotlib.pyplot as plt\n",
        "import numpy as np\n",
        "from scipy import stats\n",
        "import seaborn as sns\n",
        "import sklearn\n",
        "\n",
        "from sklearn.preprocessing import StandardScaler\n",
        "from sklearn.tree import DecisionTreeClassifier\n",
        "from sklearn.ensemble import RandomForestClassifier\n",
        "from sklearn.metrics import confusion_matrix\n",
        "\n",
        "\n",
        "#Import to split training and test data\n",
        "from sklearn.model_selection import train_test_split"
      ],
      "metadata": {
        "id": "Z6ZnRZnqpNnY"
      },
      "execution_count": 1,
      "outputs": []
    },
    {
      "cell_type": "markdown",
      "source": [
        "### Data Type Cleaning\n",
        "\n",
        "Before I start doing the project I want to have the correct data.\n",
        "\n",
        "I can see below that many variables are object types."
      ],
      "metadata": {
        "id": "B8rirwY2r1h4"
      }
    },
    {
      "cell_type": "code",
      "source": [
        "df = pd.read_csv(\"TrainingData.csv\", index_col = 0)\n",
        "\n",
        "df.info()"
      ],
      "metadata": {
        "colab": {
          "base_uri": "https://localhost:8080/"
        },
        "id": "Xq5V4MRCrvFV",
        "outputId": "4e3698f1-8e88-4eb3-a086-4cdd376cacca"
      },
      "execution_count": 2,
      "outputs": [
        {
          "output_type": "stream",
          "name": "stdout",
          "text": [
            "<class 'pandas.core.frame.DataFrame'>\n",
            "Int64Index: 252000 entries, 1 to 252000\n",
            "Data columns (total 12 columns):\n",
            " #   Column             Non-Null Count   Dtype \n",
            "---  ------             --------------   ----- \n",
            " 0   Income             252000 non-null  int64 \n",
            " 1   Age                252000 non-null  int64 \n",
            " 2   Experience         252000 non-null  int64 \n",
            " 3   Married/Single     252000 non-null  object\n",
            " 4   House_Ownership    252000 non-null  object\n",
            " 5   Car_Ownership      252000 non-null  object\n",
            " 6   Profession         252000 non-null  object\n",
            " 7   CITY               252000 non-null  object\n",
            " 8   STATE              252000 non-null  object\n",
            " 9   CURRENT_JOB_YRS    252000 non-null  int64 \n",
            " 10  CURRENT_HOUSE_YRS  252000 non-null  int64 \n",
            " 11  Risk_Flag          252000 non-null  int64 \n",
            "dtypes: int64(6), object(6)\n",
            "memory usage: 25.0+ MB\n"
          ]
        }
      ]
    },
    {
      "cell_type": "code",
      "source": [
        "dfOriginal=df.copy()"
      ],
      "metadata": {
        "id": "Sz068g8gmWNN"
      },
      "execution_count": 3,
      "outputs": []
    },
    {
      "cell_type": "markdown",
      "source": [
        "I will immediatly change the object type variables to category."
      ],
      "metadata": {
        "id": "JHV1Xko5rpEQ"
      }
    },
    {
      "cell_type": "code",
      "execution_count": 4,
      "metadata": {
        "id": "jsCuDblxpEfc"
      },
      "outputs": [],
      "source": [
        "df = pd.read_csv(\"TrainingData.csv\", index_col = 0\n",
        "                 #, dtype={'Risk_Flag': 'category'}\n",
        "                 )\n",
        "\n",
        "df = df.rename(columns = {'Married/Single':'Relationship_Status'})"
      ]
    },
    {
      "cell_type": "markdown",
      "source": [
        "### Encoding"
      ],
      "metadata": {
        "id": "Pv13ZVbSgDWb"
      }
    },
    {
      "cell_type": "code",
      "source": [
        "#Encoding\n",
        "\n",
        "from sklearn import preprocessing\n",
        "le = preprocessing.LabelEncoder()\n",
        "\n",
        "df_columns = [df.Relationship_Status, df.House_Ownership, df.Car_Ownership,\n",
        "              df.Profession, df.STATE, df.CITY]\n",
        "for i in df_columns:\n",
        "    i = le.fit_transform(i)\n",
        "\n",
        "df.Relationship_Status = le.fit_transform(df.Relationship_Status)\n",
        "df.House_Ownership = le.fit_transform(df.House_Ownership)\n",
        "df.Car_Ownership = le.fit_transform(df.Car_Ownership)\n",
        "df.Profession = le.fit_transform(df.Profession)\n",
        "df.STATE = le.fit_transform(df.STATE)\n",
        "df.CITY = le.fit_transform(df.CITY)\n",
        "\n",
        "print('the set has {} rows and {} columns'.format(df.shape[0], df.shape[1]))\n",
        "\n",
        "df"
      ],
      "metadata": {
        "colab": {
          "base_uri": "https://localhost:8080/",
          "height": 472
        },
        "id": "xIis_EGtZUdG",
        "outputId": "7bcbd78b-221c-4ed2-a269-5d787b5bed81"
      },
      "execution_count": 5,
      "outputs": [
        {
          "output_type": "stream",
          "name": "stdout",
          "text": [
            "the set has 252000 rows and 12 columns\n"
          ]
        },
        {
          "output_type": "execute_result",
          "data": {
            "text/plain": [
              "         Income  Age  Experience  Relationship_Status  House_Ownership  \\\n",
              "Id                                                                       \n",
              "1       1303834   23           3                    1                2   \n",
              "2       7574516   40          10                    1                2   \n",
              "3       3991815   66           4                    0                2   \n",
              "4       6256451   41           2                    1                2   \n",
              "5       5768871   47          11                    1                2   \n",
              "...         ...  ...         ...                  ...              ...   \n",
              "251996  8154883   43          13                    1                2   \n",
              "251997  2843572   26          10                    1                2   \n",
              "251998  4522448   46           7                    1                2   \n",
              "251999  6507128   45           0                    1                2   \n",
              "252000  9070230   70          17                    1                2   \n",
              "\n",
              "        Car_Ownership  Profession  CITY  STATE  CURRENT_JOB_YRS  \\\n",
              "Id                                                                \n",
              "1                   0          33   251     13                3   \n",
              "2                   0          43   227     14                9   \n",
              "3                   0          47     8     12                4   \n",
              "4                   1          43    54     17                2   \n",
              "5                   0          11   296     22                3   \n",
              "...               ...         ...   ...    ...              ...   \n",
              "251996              0          45   162     28                6   \n",
              "251997              0           3   251     13                6   \n",
              "251998              0          17   144     14                7   \n",
              "251999              0          27   233     18                0   \n",
              "252000              0          44    26     22                7   \n",
              "\n",
              "        CURRENT_HOUSE_YRS  Risk_Flag  \n",
              "Id                                    \n",
              "1                      13          0  \n",
              "2                      13          0  \n",
              "3                      10          0  \n",
              "4                      12          1  \n",
              "5                      14          1  \n",
              "...                   ...        ...  \n",
              "251996                 11          0  \n",
              "251997                 11          0  \n",
              "251998                 12          0  \n",
              "251999                 10          0  \n",
              "252000                 11          0  \n",
              "\n",
              "[252000 rows x 12 columns]"
            ],
            "text/html": [
              "\n",
              "  <div id=\"df-51427a2a-a04e-4022-8cde-83995c561f5d\">\n",
              "    <div class=\"colab-df-container\">\n",
              "      <div>\n",
              "<style scoped>\n",
              "    .dataframe tbody tr th:only-of-type {\n",
              "        vertical-align: middle;\n",
              "    }\n",
              "\n",
              "    .dataframe tbody tr th {\n",
              "        vertical-align: top;\n",
              "    }\n",
              "\n",
              "    .dataframe thead th {\n",
              "        text-align: right;\n",
              "    }\n",
              "</style>\n",
              "<table border=\"1\" class=\"dataframe\">\n",
              "  <thead>\n",
              "    <tr style=\"text-align: right;\">\n",
              "      <th></th>\n",
              "      <th>Income</th>\n",
              "      <th>Age</th>\n",
              "      <th>Experience</th>\n",
              "      <th>Relationship_Status</th>\n",
              "      <th>House_Ownership</th>\n",
              "      <th>Car_Ownership</th>\n",
              "      <th>Profession</th>\n",
              "      <th>CITY</th>\n",
              "      <th>STATE</th>\n",
              "      <th>CURRENT_JOB_YRS</th>\n",
              "      <th>CURRENT_HOUSE_YRS</th>\n",
              "      <th>Risk_Flag</th>\n",
              "    </tr>\n",
              "    <tr>\n",
              "      <th>Id</th>\n",
              "      <th></th>\n",
              "      <th></th>\n",
              "      <th></th>\n",
              "      <th></th>\n",
              "      <th></th>\n",
              "      <th></th>\n",
              "      <th></th>\n",
              "      <th></th>\n",
              "      <th></th>\n",
              "      <th></th>\n",
              "      <th></th>\n",
              "      <th></th>\n",
              "    </tr>\n",
              "  </thead>\n",
              "  <tbody>\n",
              "    <tr>\n",
              "      <th>1</th>\n",
              "      <td>1303834</td>\n",
              "      <td>23</td>\n",
              "      <td>3</td>\n",
              "      <td>1</td>\n",
              "      <td>2</td>\n",
              "      <td>0</td>\n",
              "      <td>33</td>\n",
              "      <td>251</td>\n",
              "      <td>13</td>\n",
              "      <td>3</td>\n",
              "      <td>13</td>\n",
              "      <td>0</td>\n",
              "    </tr>\n",
              "    <tr>\n",
              "      <th>2</th>\n",
              "      <td>7574516</td>\n",
              "      <td>40</td>\n",
              "      <td>10</td>\n",
              "      <td>1</td>\n",
              "      <td>2</td>\n",
              "      <td>0</td>\n",
              "      <td>43</td>\n",
              "      <td>227</td>\n",
              "      <td>14</td>\n",
              "      <td>9</td>\n",
              "      <td>13</td>\n",
              "      <td>0</td>\n",
              "    </tr>\n",
              "    <tr>\n",
              "      <th>3</th>\n",
              "      <td>3991815</td>\n",
              "      <td>66</td>\n",
              "      <td>4</td>\n",
              "      <td>0</td>\n",
              "      <td>2</td>\n",
              "      <td>0</td>\n",
              "      <td>47</td>\n",
              "      <td>8</td>\n",
              "      <td>12</td>\n",
              "      <td>4</td>\n",
              "      <td>10</td>\n",
              "      <td>0</td>\n",
              "    </tr>\n",
              "    <tr>\n",
              "      <th>4</th>\n",
              "      <td>6256451</td>\n",
              "      <td>41</td>\n",
              "      <td>2</td>\n",
              "      <td>1</td>\n",
              "      <td>2</td>\n",
              "      <td>1</td>\n",
              "      <td>43</td>\n",
              "      <td>54</td>\n",
              "      <td>17</td>\n",
              "      <td>2</td>\n",
              "      <td>12</td>\n",
              "      <td>1</td>\n",
              "    </tr>\n",
              "    <tr>\n",
              "      <th>5</th>\n",
              "      <td>5768871</td>\n",
              "      <td>47</td>\n",
              "      <td>11</td>\n",
              "      <td>1</td>\n",
              "      <td>2</td>\n",
              "      <td>0</td>\n",
              "      <td>11</td>\n",
              "      <td>296</td>\n",
              "      <td>22</td>\n",
              "      <td>3</td>\n",
              "      <td>14</td>\n",
              "      <td>1</td>\n",
              "    </tr>\n",
              "    <tr>\n",
              "      <th>...</th>\n",
              "      <td>...</td>\n",
              "      <td>...</td>\n",
              "      <td>...</td>\n",
              "      <td>...</td>\n",
              "      <td>...</td>\n",
              "      <td>...</td>\n",
              "      <td>...</td>\n",
              "      <td>...</td>\n",
              "      <td>...</td>\n",
              "      <td>...</td>\n",
              "      <td>...</td>\n",
              "      <td>...</td>\n",
              "    </tr>\n",
              "    <tr>\n",
              "      <th>251996</th>\n",
              "      <td>8154883</td>\n",
              "      <td>43</td>\n",
              "      <td>13</td>\n",
              "      <td>1</td>\n",
              "      <td>2</td>\n",
              "      <td>0</td>\n",
              "      <td>45</td>\n",
              "      <td>162</td>\n",
              "      <td>28</td>\n",
              "      <td>6</td>\n",
              "      <td>11</td>\n",
              "      <td>0</td>\n",
              "    </tr>\n",
              "    <tr>\n",
              "      <th>251997</th>\n",
              "      <td>2843572</td>\n",
              "      <td>26</td>\n",
              "      <td>10</td>\n",
              "      <td>1</td>\n",
              "      <td>2</td>\n",
              "      <td>0</td>\n",
              "      <td>3</td>\n",
              "      <td>251</td>\n",
              "      <td>13</td>\n",
              "      <td>6</td>\n",
              "      <td>11</td>\n",
              "      <td>0</td>\n",
              "    </tr>\n",
              "    <tr>\n",
              "      <th>251998</th>\n",
              "      <td>4522448</td>\n",
              "      <td>46</td>\n",
              "      <td>7</td>\n",
              "      <td>1</td>\n",
              "      <td>2</td>\n",
              "      <td>0</td>\n",
              "      <td>17</td>\n",
              "      <td>144</td>\n",
              "      <td>14</td>\n",
              "      <td>7</td>\n",
              "      <td>12</td>\n",
              "      <td>0</td>\n",
              "    </tr>\n",
              "    <tr>\n",
              "      <th>251999</th>\n",
              "      <td>6507128</td>\n",
              "      <td>45</td>\n",
              "      <td>0</td>\n",
              "      <td>1</td>\n",
              "      <td>2</td>\n",
              "      <td>0</td>\n",
              "      <td>27</td>\n",
              "      <td>233</td>\n",
              "      <td>18</td>\n",
              "      <td>0</td>\n",
              "      <td>10</td>\n",
              "      <td>0</td>\n",
              "    </tr>\n",
              "    <tr>\n",
              "      <th>252000</th>\n",
              "      <td>9070230</td>\n",
              "      <td>70</td>\n",
              "      <td>17</td>\n",
              "      <td>1</td>\n",
              "      <td>2</td>\n",
              "      <td>0</td>\n",
              "      <td>44</td>\n",
              "      <td>26</td>\n",
              "      <td>22</td>\n",
              "      <td>7</td>\n",
              "      <td>11</td>\n",
              "      <td>0</td>\n",
              "    </tr>\n",
              "  </tbody>\n",
              "</table>\n",
              "<p>252000 rows × 12 columns</p>\n",
              "</div>\n",
              "      <button class=\"colab-df-convert\" onclick=\"convertToInteractive('df-51427a2a-a04e-4022-8cde-83995c561f5d')\"\n",
              "              title=\"Convert this dataframe to an interactive table.\"\n",
              "              style=\"display:none;\">\n",
              "        \n",
              "  <svg xmlns=\"http://www.w3.org/2000/svg\" height=\"24px\"viewBox=\"0 0 24 24\"\n",
              "       width=\"24px\">\n",
              "    <path d=\"M0 0h24v24H0V0z\" fill=\"none\"/>\n",
              "    <path d=\"M18.56 5.44l.94 2.06.94-2.06 2.06-.94-2.06-.94-.94-2.06-.94 2.06-2.06.94zm-11 1L8.5 8.5l.94-2.06 2.06-.94-2.06-.94L8.5 2.5l-.94 2.06-2.06.94zm10 10l.94 2.06.94-2.06 2.06-.94-2.06-.94-.94-2.06-.94 2.06-2.06.94z\"/><path d=\"M17.41 7.96l-1.37-1.37c-.4-.4-.92-.59-1.43-.59-.52 0-1.04.2-1.43.59L10.3 9.45l-7.72 7.72c-.78.78-.78 2.05 0 2.83L4 21.41c.39.39.9.59 1.41.59.51 0 1.02-.2 1.41-.59l7.78-7.78 2.81-2.81c.8-.78.8-2.07 0-2.86zM5.41 20L4 18.59l7.72-7.72 1.47 1.35L5.41 20z\"/>\n",
              "  </svg>\n",
              "      </button>\n",
              "      \n",
              "  <style>\n",
              "    .colab-df-container {\n",
              "      display:flex;\n",
              "      flex-wrap:wrap;\n",
              "      gap: 12px;\n",
              "    }\n",
              "\n",
              "    .colab-df-convert {\n",
              "      background-color: #E8F0FE;\n",
              "      border: none;\n",
              "      border-radius: 50%;\n",
              "      cursor: pointer;\n",
              "      display: none;\n",
              "      fill: #1967D2;\n",
              "      height: 32px;\n",
              "      padding: 0 0 0 0;\n",
              "      width: 32px;\n",
              "    }\n",
              "\n",
              "    .colab-df-convert:hover {\n",
              "      background-color: #E2EBFA;\n",
              "      box-shadow: 0px 1px 2px rgba(60, 64, 67, 0.3), 0px 1px 3px 1px rgba(60, 64, 67, 0.15);\n",
              "      fill: #174EA6;\n",
              "    }\n",
              "\n",
              "    [theme=dark] .colab-df-convert {\n",
              "      background-color: #3B4455;\n",
              "      fill: #D2E3FC;\n",
              "    }\n",
              "\n",
              "    [theme=dark] .colab-df-convert:hover {\n",
              "      background-color: #434B5C;\n",
              "      box-shadow: 0px 1px 3px 1px rgba(0, 0, 0, 0.15);\n",
              "      filter: drop-shadow(0px 1px 2px rgba(0, 0, 0, 0.3));\n",
              "      fill: #FFFFFF;\n",
              "    }\n",
              "  </style>\n",
              "\n",
              "      <script>\n",
              "        const buttonEl =\n",
              "          document.querySelector('#df-51427a2a-a04e-4022-8cde-83995c561f5d button.colab-df-convert');\n",
              "        buttonEl.style.display =\n",
              "          google.colab.kernel.accessAllowed ? 'block' : 'none';\n",
              "\n",
              "        async function convertToInteractive(key) {\n",
              "          const element = document.querySelector('#df-51427a2a-a04e-4022-8cde-83995c561f5d');\n",
              "          const dataTable =\n",
              "            await google.colab.kernel.invokeFunction('convertToInteractive',\n",
              "                                                     [key], {});\n",
              "          if (!dataTable) return;\n",
              "\n",
              "          const docLinkHtml = 'Like what you see? Visit the ' +\n",
              "            '<a target=\"_blank\" href=https://colab.research.google.com/notebooks/data_table.ipynb>data table notebook</a>'\n",
              "            + ' to learn more about interactive tables.';\n",
              "          element.innerHTML = '';\n",
              "          dataTable['output_type'] = 'display_data';\n",
              "          await google.colab.output.renderOutput(dataTable, element);\n",
              "          const docLink = document.createElement('div');\n",
              "          docLink.innerHTML = docLinkHtml;\n",
              "          element.appendChild(docLink);\n",
              "        }\n",
              "      </script>\n",
              "    </div>\n",
              "  </div>\n",
              "  "
            ]
          },
          "metadata": {},
          "execution_count": 5
        }
      ]
    },
    {
      "cell_type": "markdown",
      "source": [
        "As well as the **Married/Single** variable as it is annoying to write"
      ],
      "metadata": {
        "id": "Nz6H98XDtcp6"
      }
    },
    {
      "cell_type": "code",
      "source": [
        "df.info()"
      ],
      "metadata": {
        "colab": {
          "base_uri": "https://localhost:8080/"
        },
        "id": "jxIpW2ZlrZbw",
        "outputId": "2d6f9c98-f99d-4998-e3b7-8ea06e6bfab3"
      },
      "execution_count": 6,
      "outputs": [
        {
          "output_type": "stream",
          "name": "stdout",
          "text": [
            "<class 'pandas.core.frame.DataFrame'>\n",
            "Int64Index: 252000 entries, 1 to 252000\n",
            "Data columns (total 12 columns):\n",
            " #   Column               Non-Null Count   Dtype\n",
            "---  ------               --------------   -----\n",
            " 0   Income               252000 non-null  int64\n",
            " 1   Age                  252000 non-null  int64\n",
            " 2   Experience           252000 non-null  int64\n",
            " 3   Relationship_Status  252000 non-null  int64\n",
            " 4   House_Ownership      252000 non-null  int64\n",
            " 5   Car_Ownership        252000 non-null  int64\n",
            " 6   Profession           252000 non-null  int64\n",
            " 7   CITY                 252000 non-null  int64\n",
            " 8   STATE                252000 non-null  int64\n",
            " 9   CURRENT_JOB_YRS      252000 non-null  int64\n",
            " 10  CURRENT_HOUSE_YRS    252000 non-null  int64\n",
            " 11  Risk_Flag            252000 non-null  int64\n",
            "dtypes: int64(12)\n",
            "memory usage: 25.0 MB\n"
          ]
        }
      ]
    },
    {
      "cell_type": "markdown",
      "source": [
        "It is working fine, I can move on."
      ],
      "metadata": {
        "id": "gO90pWP1sD8P"
      }
    },
    {
      "cell_type": "markdown",
      "source": [
        "### Missing Values\n",
        "\n",
        "I can see below that there are no missing values"
      ],
      "metadata": {
        "id": "hE_QKkB-sObT"
      }
    },
    {
      "cell_type": "code",
      "source": [
        "na_values = df.isna().sum()\n",
        "\n",
        "na_values"
      ],
      "metadata": {
        "colab": {
          "base_uri": "https://localhost:8080/"
        },
        "id": "2glMj9JSrjb7",
        "outputId": "09c53efb-02bb-4769-8320-55f4297574e5"
      },
      "execution_count": 7,
      "outputs": [
        {
          "output_type": "execute_result",
          "data": {
            "text/plain": [
              "Income                 0\n",
              "Age                    0\n",
              "Experience             0\n",
              "Relationship_Status    0\n",
              "House_Ownership        0\n",
              "Car_Ownership          0\n",
              "Profession             0\n",
              "CITY                   0\n",
              "STATE                  0\n",
              "CURRENT_JOB_YRS        0\n",
              "CURRENT_HOUSE_YRS      0\n",
              "Risk_Flag              0\n",
              "dtype: int64"
            ]
          },
          "metadata": {},
          "execution_count": 7
        }
      ]
    },
    {
      "cell_type": "markdown",
      "source": [
        "Sometimes for some reason one or two values are shown as missing so I will have this code below to fix that. As it is only 1 or 2 values, replacing them with the median or similar can be redundant, we can simply drop the row where they are"
      ],
      "metadata": {
        "id": "Tzzhdrduc4WU"
      }
    },
    {
      "cell_type": "code",
      "source": [
        "df = df.dropna()\n",
        "na_values = df.isna().sum()\n",
        "na_values"
      ],
      "metadata": {
        "colab": {
          "base_uri": "https://localhost:8080/"
        },
        "id": "EYrZlimabtqH",
        "outputId": "43b42589-278a-4a77-f1ca-5afc0496199f"
      },
      "execution_count": 8,
      "outputs": [
        {
          "output_type": "execute_result",
          "data": {
            "text/plain": [
              "Income                 0\n",
              "Age                    0\n",
              "Experience             0\n",
              "Relationship_Status    0\n",
              "House_Ownership        0\n",
              "Car_Ownership          0\n",
              "Profession             0\n",
              "CITY                   0\n",
              "STATE                  0\n",
              "CURRENT_JOB_YRS        0\n",
              "CURRENT_HOUSE_YRS      0\n",
              "Risk_Flag              0\n",
              "dtype: int64"
            ]
          },
          "metadata": {},
          "execution_count": 8
        }
      ]
    },
    {
      "cell_type": "markdown",
      "source": [
        "### Describe Numericals\n",
        "\n",
        "Using the describe() function, I can see some important things:\n",
        "\n",
        "*  The risk flag mean is 0.12, meaning that **most individuals have not defaulted**. \n",
        "\n",
        "* Income mean is quite high, and the max is so as well, but the min is extremely low (10310 Indian Rupees are 140 USD approximately) \n",
        "  * **This could be an outlier, I will consider this later**\n",
        "\n",
        "* Age is appropriately dispersed\n",
        "\n",
        "* All variables have the same count, so there are no missing values"
      ],
      "metadata": {
        "id": "yeh8cOrkscmM"
      }
    },
    {
      "cell_type": "code",
      "source": [
        "df.describe()"
      ],
      "metadata": {
        "colab": {
          "base_uri": "https://localhost:8080/",
          "height": 299
        },
        "id": "3ha9FBqCsMb2",
        "outputId": "6c509253-7c56-4848-b8b3-8d1d34eb72c0"
      },
      "execution_count": 9,
      "outputs": [
        {
          "output_type": "execute_result",
          "data": {
            "text/plain": [
              "             Income            Age     Experience  Relationship_Status  \\\n",
              "count  2.520000e+05  252000.000000  252000.000000        252000.000000   \n",
              "mean   4.997117e+06      49.954071      10.084437             0.897905   \n",
              "std    2.878311e+06      17.063855       6.002590             0.302774   \n",
              "min    1.031000e+04      21.000000       0.000000             0.000000   \n",
              "25%    2.503015e+06      35.000000       5.000000             1.000000   \n",
              "50%    5.000694e+06      50.000000      10.000000             1.000000   \n",
              "75%    7.477502e+06      65.000000      15.000000             1.000000   \n",
              "max    9.999938e+06      79.000000      20.000000             1.000000   \n",
              "\n",
              "       House_Ownership  Car_Ownership     Profession           CITY  \\\n",
              "count    252000.000000  252000.000000  252000.000000  252000.000000   \n",
              "mean          1.891722       0.301587      25.276746     158.137675   \n",
              "std           0.391880       0.458948      14.728537      92.201736   \n",
              "min           0.000000       0.000000       0.000000       0.000000   \n",
              "25%           2.000000       0.000000      13.000000      78.000000   \n",
              "50%           2.000000       0.000000      26.000000     157.000000   \n",
              "75%           2.000000       1.000000      38.000000     238.000000   \n",
              "max           2.000000       1.000000      50.000000     316.000000   \n",
              "\n",
              "               STATE  CURRENT_JOB_YRS  CURRENT_HOUSE_YRS      Risk_Flag  \n",
              "count  252000.000000    252000.000000      252000.000000  252000.000000  \n",
              "mean       13.808952         6.333877          11.997794       0.123000  \n",
              "std         9.372300         3.647053           1.399037       0.328438  \n",
              "min         0.000000         0.000000          10.000000       0.000000  \n",
              "25%         6.000000         3.000000          11.000000       0.000000  \n",
              "50%        14.000000         6.000000          12.000000       0.000000  \n",
              "75%        22.000000         9.000000          13.000000       0.000000  \n",
              "max        28.000000        14.000000          14.000000       1.000000  "
            ],
            "text/html": [
              "\n",
              "  <div id=\"df-ac70452b-c486-43a9-956f-a992c97d1c35\">\n",
              "    <div class=\"colab-df-container\">\n",
              "      <div>\n",
              "<style scoped>\n",
              "    .dataframe tbody tr th:only-of-type {\n",
              "        vertical-align: middle;\n",
              "    }\n",
              "\n",
              "    .dataframe tbody tr th {\n",
              "        vertical-align: top;\n",
              "    }\n",
              "\n",
              "    .dataframe thead th {\n",
              "        text-align: right;\n",
              "    }\n",
              "</style>\n",
              "<table border=\"1\" class=\"dataframe\">\n",
              "  <thead>\n",
              "    <tr style=\"text-align: right;\">\n",
              "      <th></th>\n",
              "      <th>Income</th>\n",
              "      <th>Age</th>\n",
              "      <th>Experience</th>\n",
              "      <th>Relationship_Status</th>\n",
              "      <th>House_Ownership</th>\n",
              "      <th>Car_Ownership</th>\n",
              "      <th>Profession</th>\n",
              "      <th>CITY</th>\n",
              "      <th>STATE</th>\n",
              "      <th>CURRENT_JOB_YRS</th>\n",
              "      <th>CURRENT_HOUSE_YRS</th>\n",
              "      <th>Risk_Flag</th>\n",
              "    </tr>\n",
              "  </thead>\n",
              "  <tbody>\n",
              "    <tr>\n",
              "      <th>count</th>\n",
              "      <td>2.520000e+05</td>\n",
              "      <td>252000.000000</td>\n",
              "      <td>252000.000000</td>\n",
              "      <td>252000.000000</td>\n",
              "      <td>252000.000000</td>\n",
              "      <td>252000.000000</td>\n",
              "      <td>252000.000000</td>\n",
              "      <td>252000.000000</td>\n",
              "      <td>252000.000000</td>\n",
              "      <td>252000.000000</td>\n",
              "      <td>252000.000000</td>\n",
              "      <td>252000.000000</td>\n",
              "    </tr>\n",
              "    <tr>\n",
              "      <th>mean</th>\n",
              "      <td>4.997117e+06</td>\n",
              "      <td>49.954071</td>\n",
              "      <td>10.084437</td>\n",
              "      <td>0.897905</td>\n",
              "      <td>1.891722</td>\n",
              "      <td>0.301587</td>\n",
              "      <td>25.276746</td>\n",
              "      <td>158.137675</td>\n",
              "      <td>13.808952</td>\n",
              "      <td>6.333877</td>\n",
              "      <td>11.997794</td>\n",
              "      <td>0.123000</td>\n",
              "    </tr>\n",
              "    <tr>\n",
              "      <th>std</th>\n",
              "      <td>2.878311e+06</td>\n",
              "      <td>17.063855</td>\n",
              "      <td>6.002590</td>\n",
              "      <td>0.302774</td>\n",
              "      <td>0.391880</td>\n",
              "      <td>0.458948</td>\n",
              "      <td>14.728537</td>\n",
              "      <td>92.201736</td>\n",
              "      <td>9.372300</td>\n",
              "      <td>3.647053</td>\n",
              "      <td>1.399037</td>\n",
              "      <td>0.328438</td>\n",
              "    </tr>\n",
              "    <tr>\n",
              "      <th>min</th>\n",
              "      <td>1.031000e+04</td>\n",
              "      <td>21.000000</td>\n",
              "      <td>0.000000</td>\n",
              "      <td>0.000000</td>\n",
              "      <td>0.000000</td>\n",
              "      <td>0.000000</td>\n",
              "      <td>0.000000</td>\n",
              "      <td>0.000000</td>\n",
              "      <td>0.000000</td>\n",
              "      <td>0.000000</td>\n",
              "      <td>10.000000</td>\n",
              "      <td>0.000000</td>\n",
              "    </tr>\n",
              "    <tr>\n",
              "      <th>25%</th>\n",
              "      <td>2.503015e+06</td>\n",
              "      <td>35.000000</td>\n",
              "      <td>5.000000</td>\n",
              "      <td>1.000000</td>\n",
              "      <td>2.000000</td>\n",
              "      <td>0.000000</td>\n",
              "      <td>13.000000</td>\n",
              "      <td>78.000000</td>\n",
              "      <td>6.000000</td>\n",
              "      <td>3.000000</td>\n",
              "      <td>11.000000</td>\n",
              "      <td>0.000000</td>\n",
              "    </tr>\n",
              "    <tr>\n",
              "      <th>50%</th>\n",
              "      <td>5.000694e+06</td>\n",
              "      <td>50.000000</td>\n",
              "      <td>10.000000</td>\n",
              "      <td>1.000000</td>\n",
              "      <td>2.000000</td>\n",
              "      <td>0.000000</td>\n",
              "      <td>26.000000</td>\n",
              "      <td>157.000000</td>\n",
              "      <td>14.000000</td>\n",
              "      <td>6.000000</td>\n",
              "      <td>12.000000</td>\n",
              "      <td>0.000000</td>\n",
              "    </tr>\n",
              "    <tr>\n",
              "      <th>75%</th>\n",
              "      <td>7.477502e+06</td>\n",
              "      <td>65.000000</td>\n",
              "      <td>15.000000</td>\n",
              "      <td>1.000000</td>\n",
              "      <td>2.000000</td>\n",
              "      <td>1.000000</td>\n",
              "      <td>38.000000</td>\n",
              "      <td>238.000000</td>\n",
              "      <td>22.000000</td>\n",
              "      <td>9.000000</td>\n",
              "      <td>13.000000</td>\n",
              "      <td>0.000000</td>\n",
              "    </tr>\n",
              "    <tr>\n",
              "      <th>max</th>\n",
              "      <td>9.999938e+06</td>\n",
              "      <td>79.000000</td>\n",
              "      <td>20.000000</td>\n",
              "      <td>1.000000</td>\n",
              "      <td>2.000000</td>\n",
              "      <td>1.000000</td>\n",
              "      <td>50.000000</td>\n",
              "      <td>316.000000</td>\n",
              "      <td>28.000000</td>\n",
              "      <td>14.000000</td>\n",
              "      <td>14.000000</td>\n",
              "      <td>1.000000</td>\n",
              "    </tr>\n",
              "  </tbody>\n",
              "</table>\n",
              "</div>\n",
              "      <button class=\"colab-df-convert\" onclick=\"convertToInteractive('df-ac70452b-c486-43a9-956f-a992c97d1c35')\"\n",
              "              title=\"Convert this dataframe to an interactive table.\"\n",
              "              style=\"display:none;\">\n",
              "        \n",
              "  <svg xmlns=\"http://www.w3.org/2000/svg\" height=\"24px\"viewBox=\"0 0 24 24\"\n",
              "       width=\"24px\">\n",
              "    <path d=\"M0 0h24v24H0V0z\" fill=\"none\"/>\n",
              "    <path d=\"M18.56 5.44l.94 2.06.94-2.06 2.06-.94-2.06-.94-.94-2.06-.94 2.06-2.06.94zm-11 1L8.5 8.5l.94-2.06 2.06-.94-2.06-.94L8.5 2.5l-.94 2.06-2.06.94zm10 10l.94 2.06.94-2.06 2.06-.94-2.06-.94-.94-2.06-.94 2.06-2.06.94z\"/><path d=\"M17.41 7.96l-1.37-1.37c-.4-.4-.92-.59-1.43-.59-.52 0-1.04.2-1.43.59L10.3 9.45l-7.72 7.72c-.78.78-.78 2.05 0 2.83L4 21.41c.39.39.9.59 1.41.59.51 0 1.02-.2 1.41-.59l7.78-7.78 2.81-2.81c.8-.78.8-2.07 0-2.86zM5.41 20L4 18.59l7.72-7.72 1.47 1.35L5.41 20z\"/>\n",
              "  </svg>\n",
              "      </button>\n",
              "      \n",
              "  <style>\n",
              "    .colab-df-container {\n",
              "      display:flex;\n",
              "      flex-wrap:wrap;\n",
              "      gap: 12px;\n",
              "    }\n",
              "\n",
              "    .colab-df-convert {\n",
              "      background-color: #E8F0FE;\n",
              "      border: none;\n",
              "      border-radius: 50%;\n",
              "      cursor: pointer;\n",
              "      display: none;\n",
              "      fill: #1967D2;\n",
              "      height: 32px;\n",
              "      padding: 0 0 0 0;\n",
              "      width: 32px;\n",
              "    }\n",
              "\n",
              "    .colab-df-convert:hover {\n",
              "      background-color: #E2EBFA;\n",
              "      box-shadow: 0px 1px 2px rgba(60, 64, 67, 0.3), 0px 1px 3px 1px rgba(60, 64, 67, 0.15);\n",
              "      fill: #174EA6;\n",
              "    }\n",
              "\n",
              "    [theme=dark] .colab-df-convert {\n",
              "      background-color: #3B4455;\n",
              "      fill: #D2E3FC;\n",
              "    }\n",
              "\n",
              "    [theme=dark] .colab-df-convert:hover {\n",
              "      background-color: #434B5C;\n",
              "      box-shadow: 0px 1px 3px 1px rgba(0, 0, 0, 0.15);\n",
              "      filter: drop-shadow(0px 1px 2px rgba(0, 0, 0, 0.3));\n",
              "      fill: #FFFFFF;\n",
              "    }\n",
              "  </style>\n",
              "\n",
              "      <script>\n",
              "        const buttonEl =\n",
              "          document.querySelector('#df-ac70452b-c486-43a9-956f-a992c97d1c35 button.colab-df-convert');\n",
              "        buttonEl.style.display =\n",
              "          google.colab.kernel.accessAllowed ? 'block' : 'none';\n",
              "\n",
              "        async function convertToInteractive(key) {\n",
              "          const element = document.querySelector('#df-ac70452b-c486-43a9-956f-a992c97d1c35');\n",
              "          const dataTable =\n",
              "            await google.colab.kernel.invokeFunction('convertToInteractive',\n",
              "                                                     [key], {});\n",
              "          if (!dataTable) return;\n",
              "\n",
              "          const docLinkHtml = 'Like what you see? Visit the ' +\n",
              "            '<a target=\"_blank\" href=https://colab.research.google.com/notebooks/data_table.ipynb>data table notebook</a>'\n",
              "            + ' to learn more about interactive tables.';\n",
              "          element.innerHTML = '';\n",
              "          dataTable['output_type'] = 'display_data';\n",
              "          await google.colab.output.renderOutput(dataTable, element);\n",
              "          const docLink = document.createElement('div');\n",
              "          docLink.innerHTML = docLinkHtml;\n",
              "          element.appendChild(docLink);\n",
              "        }\n",
              "      </script>\n",
              "    </div>\n",
              "  </div>\n",
              "  "
            ]
          },
          "metadata": {},
          "execution_count": 9
        }
      ]
    },
    {
      "cell_type": "markdown",
      "source": [
        "### Irregularities\n",
        "\n",
        "As seen before, there were possible outliers in the income section, the max was extremely high and the min was extremely low. \n",
        "\n",
        "Let's visualize this"
      ],
      "metadata": {
        "id": "bEreje_ptVIk"
      }
    },
    {
      "cell_type": "code",
      "source": [
        "# I can make a boxplot with the income variable and see that there are quite a lot of outliers, and the same with the minimum_nights variable\n",
        "\n",
        "plot1 = plt.figure(1)\n",
        "bp_price = sns.boxplot( x=df['Income'] )\n",
        "\n",
        "plt.show()"
      ],
      "metadata": {
        "colab": {
          "base_uri": "https://localhost:8080/",
          "height": 279
        },
        "id": "zgU6G8o7sVuF",
        "outputId": "1349ae8e-52e2-44bf-bc03-50894ebfdc89"
      },
      "execution_count": 10,
      "outputs": [
        {
          "output_type": "display_data",
          "data": {
            "text/plain": [
              "<Figure size 432x288 with 1 Axes>"
            ],
            "image/png": "[encoded data removed]"
          },
          "metadata": {
            "needs_background": "light"
          }
        }
      ]
    },
    {
      "cell_type": "markdown",
      "source": [
        "### Outliers 'fixed'\n",
        "Seeing it as a box plot makes it much more clear that there are no outliers, we can therefore move on."
      ],
      "metadata": {
        "id": "oS5eB09MuLF1"
      }
    },
    {
      "cell_type": "markdown",
      "source": [
        "### Basic visual analysis \n",
        "\n",
        "Here I will visualize some variables which I think are important"
      ],
      "metadata": {
        "id": "RpJR5OdBUY95"
      }
    },
    {
      "cell_type": "code",
      "source": [
        "#check variable distributions\n",
        "df.hist(bins=30, figsize=(20,15))\n",
        "plt.show()"
      ],
      "metadata": {
        "colab": {
          "base_uri": "https://localhost:8080/",
          "height": 878
        },
        "id": "c9j19V3oVJJr",
        "outputId": "9f14ccd4-b094-4d42-8786-81d324ba89bd"
      },
      "execution_count": 11,
      "outputs": [
        {
          "output_type": "display_data",
          "data": {
            "text/plain": [
              "<Figure size 1440x1080 with 12 Axes>"
            ],
            "image/png": "[encoded data removed]"
          },
          "metadata": {
            "needs_background": "light"
          }
        }
      ]
    },
    {
      "cell_type": "markdown",
      "source": [
        "### Correlation\n",
        "\n",
        "Now that the data is perfectly clean, I will use all three **corr()** methods  '**pearson, kendall and spearman**' to see if there are any correlations with the variables. They all indicate a correlation between two variables with a number from -1 to 1 [1].\n",
        "* -1 means negative correlation\n",
        "* 0 means no correlation\n",
        "* 1 means a total positive correlation\n",
        "\n",
        "As it is encoded, the categorical values can appear in the chart.\n",
        "\n"
      ],
      "metadata": {
        "id": "LgyQh-ZA0oCk"
      }
    },
    {
      "cell_type": "code",
      "source": [
        "df = pd.DataFrame(df)\n",
        "\n",
        "plt.figure(figsize=(12,12))\n",
        "\n",
        "\n",
        "corrMatrix = df.corr()\n",
        "sns.heatmap(corrMatrix, annot=True)\n",
        "plt.show()"
      ],
      "metadata": {
        "colab": {
          "base_uri": "https://localhost:8080/",
          "height": 806
        },
        "id": "fFKfoYj_uID7",
        "outputId": "e221da47-bc84-46af-e2f5-543eb950dafb"
      },
      "execution_count": 12,
      "outputs": [
        {
          "output_type": "display_data",
          "data": {
            "text/plain": [
              "<Figure size 864x864 with 2 Axes>"
            ],
            "image/png": "[encoded data removed]"
          },
          "metadata": {
            "needs_background": "light"
          }
        }
      ]
    },
    {
      "cell_type": "markdown",
      "source": [
        "We can conclude that there is no significant correlation in any of the three cases"
      ],
      "metadata": {
        "id": "HyLatrbOmhkr"
      }
    },
    {
      "cell_type": "markdown",
      "source": [
        "### Rescaling of Data\n",
        "\n",
        "I will now rescale the data so any values that can differ greatly between the variables will not afect the model.\n",
        "\n",
        "StandardScaler is used for transforming data so it has 0 as mean (μ = 0) and 1 as std (σ = 1). This is ideal when we have negative values in our dataframe [2]."
      ],
      "metadata": {
        "id": "3rNFRJW1RYah"
      }
    },
    {
      "cell_type": "code",
      "source": [
        "#Scaling\n",
        "from sklearn.preprocessing import MinMaxScaler\n",
        "\n",
        "scaler = MinMaxScaler()\n",
        "scaled = scaler.fit_transform(df.drop('Risk_Flag',axis=1))\n",
        "\n",
        "i = 0\n",
        "for col in df.columns[:-1]:\n",
        "    df[col] = scaled[:,i]\n",
        "    i += 1\n",
        "\n",
        "df"
      ],
      "metadata": {
        "id": "JVsL5wruNyU7",
        "colab": {
          "base_uri": "https://localhost:8080/",
          "height": 455
        },
        "outputId": "2687e1d4-bd02-4311-e9d1-aa3da7c27eaa"
      },
      "execution_count": 13,
      "outputs": [
        {
          "output_type": "execute_result",
          "data": {
            "text/plain": [
              "          Income       Age  Experience  Relationship_Status  House_Ownership  \\\n",
              "Id                                                                             \n",
              "1       0.129487  0.034483        0.15                  1.0              1.0   \n",
              "2       0.757206  0.327586        0.50                  1.0              1.0   \n",
              "3       0.398564  0.775862        0.20                  0.0              1.0   \n",
              "4       0.625263  0.344828        0.10                  1.0              1.0   \n",
              "5       0.576454  0.448276        0.55                  1.0              1.0   \n",
              "...          ...       ...         ...                  ...              ...   \n",
              "251996  0.815303  0.379310        0.65                  1.0              1.0   \n",
              "251997  0.283620  0.086207        0.50                  1.0              1.0   \n",
              "251998  0.451682  0.431034        0.35                  1.0              1.0   \n",
              "251999  0.650356  0.413793        0.00                  1.0              1.0   \n",
              "252000  0.906933  0.844828        0.85                  1.0              1.0   \n",
              "\n",
              "        Car_Ownership  Profession      CITY     STATE  CURRENT_JOB_YRS  \\\n",
              "Id                                                                       \n",
              "1                 0.0        0.66  0.794304  0.464286         0.214286   \n",
              "2                 0.0        0.86  0.718354  0.500000         0.642857   \n",
              "3                 0.0        0.94  0.025316  0.428571         0.285714   \n",
              "4                 1.0        0.86  0.170886  0.607143         0.142857   \n",
              "5                 0.0        0.22  0.936709  0.785714         0.214286   \n",
              "...               ...         ...       ...       ...              ...   \n",
              "251996            0.0        0.90  0.512658  1.000000         0.428571   \n",
              "251997            0.0        0.06  0.794304  0.464286         0.428571   \n",
              "251998            0.0        0.34  0.455696  0.500000         0.500000   \n",
              "251999            0.0        0.54  0.737342  0.642857         0.000000   \n",
              "252000            0.0        0.88  0.082278  0.785714         0.500000   \n",
              "\n",
              "        CURRENT_HOUSE_YRS  Risk_Flag  \n",
              "Id                                    \n",
              "1                    0.75          0  \n",
              "2                    0.75          0  \n",
              "3                    0.00          0  \n",
              "4                    0.50          1  \n",
              "5                    1.00          1  \n",
              "...                   ...        ...  \n",
              "251996               0.25          0  \n",
              "251997               0.25          0  \n",
              "251998               0.50          0  \n",
              "251999               0.00          0  \n",
              "252000               0.25          0  \n",
              "\n",
              "[252000 rows x 12 columns]"
            ],
            "text/html": [
              "\n",
              "  <div id=\"df-04d823a2-0642-42bf-8fa9-b28326dbc82d\">\n",
              "    <div class=\"colab-df-container\">\n",
              "      <div>\n",
              "<style scoped>\n",
              "    .dataframe tbody tr th:only-of-type {\n",
              "        vertical-align: middle;\n",
              "    }\n",
              "\n",
              "    .dataframe tbody tr th {\n",
              "        vertical-align: top;\n",
              "    }\n",
              "\n",
              "    .dataframe thead th {\n",
              "        text-align: right;\n",
              "    }\n",
              "</style>\n",
              "<table border=\"1\" class=\"dataframe\">\n",
              "  <thead>\n",
              "    <tr style=\"text-align: right;\">\n",
              "      <th></th>\n",
              "      <th>Income</th>\n",
              "      <th>Age</th>\n",
              "      <th>Experience</th>\n",
              "      <th>Relationship_Status</th>\n",
              "      <th>House_Ownership</th>\n",
              "      <th>Car_Ownership</th>\n",
              "      <th>Profession</th>\n",
              "      <th>CITY</th>\n",
              "      <th>STATE</th>\n",
              "      <th>CURRENT_JOB_YRS</th>\n",
              "      <th>CURRENT_HOUSE_YRS</th>\n",
              "      <th>Risk_Flag</th>\n",
              "    </tr>\n",
              "    <tr>\n",
              "      <th>Id</th>\n",
              "      <th></th>\n",
              "      <th></th>\n",
              "      <th></th>\n",
              "      <th></th>\n",
              "      <th></th>\n",
              "      <th></th>\n",
              "      <th></th>\n",
              "      <th></th>\n",
              "      <th></th>\n",
              "      <th></th>\n",
              "      <th></th>\n",
              "      <th></th>\n",
              "    </tr>\n",
              "  </thead>\n",
              "  <tbody>\n",
              "    <tr>\n",
              "      <th>1</th>\n",
              "      <td>0.129487</td>\n",
              "      <td>0.034483</td>\n",
              "      <td>0.15</td>\n",
              "      <td>1.0</td>\n",
              "      <td>1.0</td>\n",
              "      <td>0.0</td>\n",
              "      <td>0.66</td>\n",
              "      <td>0.794304</td>\n",
              "      <td>0.464286</td>\n",
              "      <td>0.214286</td>\n",
              "      <td>0.75</td>\n",
              "      <td>0</td>\n",
              "    </tr>\n",
              "    <tr>\n",
              "      <th>2</th>\n",
              "      <td>0.757206</td>\n",
              "      <td>0.327586</td>\n",
              "      <td>0.50</td>\n",
              "      <td>1.0</td>\n",
              "      <td>1.0</td>\n",
              "      <td>0.0</td>\n",
              "      <td>0.86</td>\n",
              "      <td>0.718354</td>\n",
              "      <td>0.500000</td>\n",
              "      <td>0.642857</td>\n",
              "      <td>0.75</td>\n",
              "      <td>0</td>\n",
              "    </tr>\n",
              "    <tr>\n",
              "      <th>3</th>\n",
              "      <td>0.398564</td>\n",
              "      <td>0.775862</td>\n",
              "      <td>0.20</td>\n",
              "      <td>0.0</td>\n",
              "      <td>1.0</td>\n",
              "      <td>0.0</td>\n",
              "      <td>0.94</td>\n",
              "      <td>0.025316</td>\n",
              "      <td>0.428571</td>\n",
              "      <td>0.285714</td>\n",
              "      <td>0.00</td>\n",
              "      <td>0</td>\n",
              "    </tr>\n",
              "    <tr>\n",
              "      <th>4</th>\n",
              "      <td>0.625263</td>\n",
              "      <td>0.344828</td>\n",
              "      <td>0.10</td>\n",
              "      <td>1.0</td>\n",
              "      <td>1.0</td>\n",
              "      <td>1.0</td>\n",
              "      <td>0.86</td>\n",
              "      <td>0.170886</td>\n",
              "      <td>0.607143</td>\n",
              "      <td>0.142857</td>\n",
              "      <td>0.50</td>\n",
              "      <td>1</td>\n",
              "    </tr>\n",
              "    <tr>\n",
              "      <th>5</th>\n",
              "      <td>0.576454</td>\n",
              "      <td>0.448276</td>\n",
              "      <td>0.55</td>\n",
              "      <td>1.0</td>\n",
              "      <td>1.0</td>\n",
              "      <td>0.0</td>\n",
              "      <td>0.22</td>\n",
              "      <td>0.936709</td>\n",
              "      <td>0.785714</td>\n",
              "      <td>0.214286</td>\n",
              "      <td>1.00</td>\n",
              "      <td>1</td>\n",
              "    </tr>\n",
              "    <tr>\n",
              "      <th>...</th>\n",
              "      <td>...</td>\n",
              "      <td>...</td>\n",
              "      <td>...</td>\n",
              "      <td>...</td>\n",
              "      <td>...</td>\n",
              "      <td>...</td>\n",
              "      <td>...</td>\n",
              "      <td>...</td>\n",
              "      <td>...</td>\n",
              "      <td>...</td>\n",
              "      <td>...</td>\n",
              "      <td>...</td>\n",
              "    </tr>\n",
              "    <tr>\n",
              "      <th>251996</th>\n",
              "      <td>0.815303</td>\n",
              "      <td>0.379310</td>\n",
              "      <td>0.65</td>\n",
              "      <td>1.0</td>\n",
              "      <td>1.0</td>\n",
              "      <td>0.0</td>\n",
              "      <td>0.90</td>\n",
              "      <td>0.512658</td>\n",
              "      <td>1.000000</td>\n",
              "      <td>0.428571</td>\n",
              "      <td>0.25</td>\n",
              "      <td>0</td>\n",
              "    </tr>\n",
              "    <tr>\n",
              "      <th>251997</th>\n",
              "      <td>0.283620</td>\n",
              "      <td>0.086207</td>\n",
              "      <td>0.50</td>\n",
              "      <td>1.0</td>\n",
              "      <td>1.0</td>\n",
              "      <td>0.0</td>\n",
              "      <td>0.06</td>\n",
              "      <td>0.794304</td>\n",
              "      <td>0.464286</td>\n",
              "      <td>0.428571</td>\n",
              "      <td>0.25</td>\n",
              "      <td>0</td>\n",
              "    </tr>\n",
              "    <tr>\n",
              "      <th>251998</th>\n",
              "      <td>0.451682</td>\n",
              "      <td>0.431034</td>\n",
              "      <td>0.35</td>\n",
              "      <td>1.0</td>\n",
              "      <td>1.0</td>\n",
              "      <td>0.0</td>\n",
              "      <td>0.34</td>\n",
              "      <td>0.455696</td>\n",
              "      <td>0.500000</td>\n",
              "      <td>0.500000</td>\n",
              "      <td>0.50</td>\n",
              "      <td>0</td>\n",
              "    </tr>\n",
              "    <tr>\n",
              "      <th>251999</th>\n",
              "      <td>0.650356</td>\n",
              "      <td>0.413793</td>\n",
              "      <td>0.00</td>\n",
              "      <td>1.0</td>\n",
              "      <td>1.0</td>\n",
              "      <td>0.0</td>\n",
              "      <td>0.54</td>\n",
              "      <td>0.737342</td>\n",
              "      <td>0.642857</td>\n",
              "      <td>0.000000</td>\n",
              "      <td>0.00</td>\n",
              "      <td>0</td>\n",
              "    </tr>\n",
              "    <tr>\n",
              "      <th>252000</th>\n",
              "      <td>0.906933</td>\n",
              "      <td>0.844828</td>\n",
              "      <td>0.85</td>\n",
              "      <td>1.0</td>\n",
              "      <td>1.0</td>\n",
              "      <td>0.0</td>\n",
              "      <td>0.88</td>\n",
              "      <td>0.082278</td>\n",
              "      <td>0.785714</td>\n",
              "      <td>0.500000</td>\n",
              "      <td>0.25</td>\n",
              "      <td>0</td>\n",
              "    </tr>\n",
              "  </tbody>\n",
              "</table>\n",
              "<p>252000 rows × 12 columns</p>\n",
              "</div>\n",
              "      <button class=\"colab-df-convert\" onclick=\"convertToInteractive('df-04d823a2-0642-42bf-8fa9-b28326dbc82d')\"\n",
              "              title=\"Convert this dataframe to an interactive table.\"\n",
              "              style=\"display:none;\">\n",
              "        \n",
              "  <svg xmlns=\"http://www.w3.org/2000/svg\" height=\"24px\"viewBox=\"0 0 24 24\"\n",
              "       width=\"24px\">\n",
              "    <path d=\"M0 0h24v24H0V0z\" fill=\"none\"/>\n",
              "    <path d=\"M18.56 5.44l.94 2.06.94-2.06 2.06-.94-2.06-.94-.94-2.06-.94 2.06-2.06.94zm-11 1L8.5 8.5l.94-2.06 2.06-.94-2.06-.94L8.5 2.5l-.94 2.06-2.06.94zm10 10l.94 2.06.94-2.06 2.06-.94-2.06-.94-.94-2.06-.94 2.06-2.06.94z\"/><path d=\"M17.41 7.96l-1.37-1.37c-.4-.4-.92-.59-1.43-.59-.52 0-1.04.2-1.43.59L10.3 9.45l-7.72 7.72c-.78.78-.78 2.05 0 2.83L4 21.41c.39.39.9.59 1.41.59.51 0 1.02-.2 1.41-.59l7.78-7.78 2.81-2.81c.8-.78.8-2.07 0-2.86zM5.41 20L4 18.59l7.72-7.72 1.47 1.35L5.41 20z\"/>\n",
              "  </svg>\n",
              "      </button>\n",
              "      \n",
              "  <style>\n",
              "    .colab-df-container {\n",
              "      display:flex;\n",
              "      flex-wrap:wrap;\n",
              "      gap: 12px;\n",
              "    }\n",
              "\n",
              "    .colab-df-convert {\n",
              "      background-color: #E8F0FE;\n",
              "      border: none;\n",
              "      border-radius: 50%;\n",
              "      cursor: pointer;\n",
              "      display: none;\n",
              "      fill: #1967D2;\n",
              "      height: 32px;\n",
              "      padding: 0 0 0 0;\n",
              "      width: 32px;\n",
              "    }\n",
              "\n",
              "    .colab-df-convert:hover {\n",
              "      background-color: #E2EBFA;\n",
              "      box-shadow: 0px 1px 2px rgba(60, 64, 67, 0.3), 0px 1px 3px 1px rgba(60, 64, 67, 0.15);\n",
              "      fill: #174EA6;\n",
              "    }\n",
              "\n",
              "    [theme=dark] .colab-df-convert {\n",
              "      background-color: #3B4455;\n",
              "      fill: #D2E3FC;\n",
              "    }\n",
              "\n",
              "    [theme=dark] .colab-df-convert:hover {\n",
              "      background-color: #434B5C;\n",
              "      box-shadow: 0px 1px 3px 1px rgba(0, 0, 0, 0.15);\n",
              "      filter: drop-shadow(0px 1px 2px rgba(0, 0, 0, 0.3));\n",
              "      fill: #FFFFFF;\n",
              "    }\n",
              "  </style>\n",
              "\n",
              "      <script>\n",
              "        const buttonEl =\n",
              "          document.querySelector('#df-04d823a2-0642-42bf-8fa9-b28326dbc82d button.colab-df-convert');\n",
              "        buttonEl.style.display =\n",
              "          google.colab.kernel.accessAllowed ? 'block' : 'none';\n",
              "\n",
              "        async function convertToInteractive(key) {\n",
              "          const element = document.querySelector('#df-04d823a2-0642-42bf-8fa9-b28326dbc82d');\n",
              "          const dataTable =\n",
              "            await google.colab.kernel.invokeFunction('convertToInteractive',\n",
              "                                                     [key], {});\n",
              "          if (!dataTable) return;\n",
              "\n",
              "          const docLinkHtml = 'Like what you see? Visit the ' +\n",
              "            '<a target=\"_blank\" href=https://colab.research.google.com/notebooks/data_table.ipynb>data table notebook</a>'\n",
              "            + ' to learn more about interactive tables.';\n",
              "          element.innerHTML = '';\n",
              "          dataTable['output_type'] = 'display_data';\n",
              "          await google.colab.output.renderOutput(dataTable, element);\n",
              "          const docLink = document.createElement('div');\n",
              "          docLink.innerHTML = docLinkHtml;\n",
              "          element.appendChild(docLink);\n",
              "        }\n",
              "      </script>\n",
              "    </div>\n",
              "  </div>\n",
              "  "
            ]
          },
          "metadata": {},
          "execution_count": 13
        }
      ]
    },
    {
      "cell_type": "markdown",
      "source": [
        "### Stratification\n",
        "\n",
        "Splitting the dataset is done randomly, this means that in some occasions it is possible to have 1 class label appear much more than the other class label in the training data. \n",
        "\n",
        "This can affect the classification models, making us have more accurate predictions for one class but not for the other (classes are default/no default, or 0, 1). Therefore, we stratify data, which makes the split proportionate"
      ],
      "metadata": {
        "id": "nQoqkEfCVVKC"
      }
    },
    {
      "cell_type": "markdown",
      "source": [
        "### Imbalanced Data / Undersampling\n",
        "\n"
      ],
      "metadata": {
        "id": "Y229gxFefvrI"
      }
    },
    {
      "cell_type": "code",
      "source": [
        "df['Risk_Flag'].value_counts().plot(kind='pie', autopct=\"%.1f%%\")\n",
        "df['Risk_Flag'].value_counts()\n"
      ],
      "metadata": {
        "colab": {
          "base_uri": "https://localhost:8080/",
          "height": 299
        },
        "id": "3XccJvXYfxkl",
        "outputId": "54d97f54-6c41-4e79-bbea-b75b94db11e7"
      },
      "execution_count": 14,
      "outputs": [
        {
          "output_type": "execute_result",
          "data": {
            "text/plain": [
              "0    221004\n",
              "1     30996\n",
              "Name: Risk_Flag, dtype: int64"
            ]
          },
          "metadata": {},
          "execution_count": 14
        },
        {
          "output_type": "display_data",
          "data": {
            "text/plain": [
              "<Figure size 432x288 with 1 Axes>"
            ],
            "image/png": "[encoded data removed]"
          },
          "metadata": {}
        }
      ]
    },
    {
      "cell_type": "code",
      "source": [
        "df['Risk_Flag'].shape"
      ],
      "metadata": {
        "colab": {
          "base_uri": "https://localhost:8080/"
        },
        "id": "WLSh2kp0hw-Y",
        "outputId": "11f2bec7-94d7-49ec-8bc5-9d6a96c4d4ad"
      },
      "execution_count": 15,
      "outputs": [
        {
          "output_type": "execute_result",
          "data": {
            "text/plain": [
              "(252000,)"
            ]
          },
          "metadata": {},
          "execution_count": 15
        }
      ]
    },
    {
      "cell_type": "code",
      "source": [
        "# We have much more instances of the input variable 0 occuring than the 1. This causes \n",
        "# issues with imbalancing and can make our models be highly inefficient especially\n",
        "# when we receive the precision and recall scores\n",
        "\n",
        "# We currently have 221004 instances of class 0 and 30996 instances of class 1. \n",
        "# Therefore we want to do undersampling so the class 0 also has a similar amount to that\n",
        "# of class 1. \n",
        "\n",
        "class0 = df[df['Risk_Flag'] == 0].sample(32000)\n",
        "\n",
        "class1 = df[df['Risk_Flag'] == 1]\n",
        "\n",
        "df = pd.concat([class0, class1], axis = 0)\n",
        "\n",
        "df['Risk_Flag'].value_counts().plot(kind = 'pie', autopct = \"%.1f%%\")\n",
        "plt.show()"
      ],
      "metadata": {
        "colab": {
          "base_uri": "https://localhost:8080/",
          "height": 248
        },
        "id": "E61GMQnsgNaJ",
        "outputId": "038a8883-5e3a-4563-8c6e-1d66b8c48077"
      },
      "execution_count": 16,
      "outputs": [
        {
          "output_type": "display_data",
          "data": {
            "text/plain": [
              "<Figure size 432x288 with 1 Axes>"
            ],
            "image/png": "[encoded data removed]"
          },
          "metadata": {}
        }
      ]
    },
    {
      "cell_type": "markdown",
      "source": [
        "### Training, Testing and Validation Samples\n",
        "\n",
        "Now that I am done with the data preprocessing, I must split the data before I start doing the classifiers.\n",
        "\n",
        "**X** will be the dataset without the Risk_Flag column, and **y** will be the Risk_Flag column\n",
        "\n",
        "[4].\n",
        "\n"
      ],
      "metadata": {
        "id": "AOyuSUBERKIR"
      }
    },
    {
      "cell_type": "code",
      "source": [
        "X = df.drop(['Risk_Flag'], axis = 'columns')\n",
        "Y = df.Risk_Flag"
      ],
      "metadata": {
        "id": "i2A0dk7UWhgK"
      },
      "execution_count": 17,
      "outputs": []
    },
    {
      "cell_type": "markdown",
      "source": [
        "Before, if we did not do undersampling to help with the imbalanced dataset, we would have had around 25,0000 values, but since we have seriously undersampled it now, we will have less values, around 93,000."
      ],
      "metadata": {
        "id": "F0S0ERl_jZF6"
      }
    },
    {
      "cell_type": "code",
      "source": [
        "X_train, X_test, Y_train, Y_test = train_test_split(X, Y, test_size = 0.2, \n",
        "                                                    random_state = 42, stratify = Y)\n",
        "\n",
        "\n",
        "print(\"X_train shape: {}\".format(X_train.shape))\n",
        "print(\"X_test shape: {}\".format(X_test.shape))\n",
        "print(\"Y_train shape: {}\".format(Y_train.shape))\n",
        "print(\"Y_test shape: {}\".format(Y_test.shape))"
      ],
      "metadata": {
        "colab": {
          "base_uri": "https://localhost:8080/"
        },
        "id": "5KwHggPZ7Iz5",
        "outputId": "7d5e635a-d942-4b54-8807-3070c130208b"
      },
      "execution_count": 18,
      "outputs": [
        {
          "output_type": "stream",
          "name": "stdout",
          "text": [
            "X_train shape: (50396, 11)\n",
            "X_test shape: (12600, 11)\n",
            "Y_train shape: (50396,)\n",
            "Y_test shape: (12600,)\n"
          ]
        }
      ]
    },
    {
      "cell_type": "markdown",
      "source": [
        "We can see that it is all good now"
      ],
      "metadata": {
        "id": "8hOGHI_Rj6Sl"
      }
    },
    {
      "cell_type": "code",
      "source": [
        "Y = pd.DataFrame(Y)\n",
        "Y.head()"
      ],
      "metadata": {
        "colab": {
          "base_uri": "https://localhost:8080/",
          "height": 237
        },
        "id": "WaTvJ5IEmDLo",
        "outputId": "c6d4ee0c-8fd3-454b-c754-9df00d915561"
      },
      "execution_count": null,
      "outputs": [
        {
          "output_type": "execute_result",
          "data": {
            "text/plain": [
              "        Risk_Flag\n",
              "Id               \n",
              "219356          0\n",
              "69365           0\n",
              "16288           0\n",
              "156727          0\n",
              "8003            0"
            ],
            "text/html": [
              "\n",
              "  <div id=\"df-84db9a95-cbc9-42b1-a863-c8738351512f\">\n",
              "    <div class=\"colab-df-container\">\n",
              "      <div>\n",
              "<style scoped>\n",
              "    .dataframe tbody tr th:only-of-type {\n",
              "        vertical-align: middle;\n",
              "    }\n",
              "\n",
              "    .dataframe tbody tr th {\n",
              "        vertical-align: top;\n",
              "    }\n",
              "\n",
              "    .dataframe thead th {\n",
              "        text-align: right;\n",
              "    }\n",
              "</style>\n",
              "<table border=\"1\" class=\"dataframe\">\n",
              "  <thead>\n",
              "    <tr style=\"text-align: right;\">\n",
              "      <th></th>\n",
              "      <th>Risk_Flag</th>\n",
              "    </tr>\n",
              "    <tr>\n",
              "      <th>Id</th>\n",
              "      <th></th>\n",
              "    </tr>\n",
              "  </thead>\n",
              "  <tbody>\n",
              "    <tr>\n",
              "      <th>219356</th>\n",
              "      <td>0</td>\n",
              "    </tr>\n",
              "    <tr>\n",
              "      <th>69365</th>\n",
              "      <td>0</td>\n",
              "    </tr>\n",
              "    <tr>\n",
              "      <th>16288</th>\n",
              "      <td>0</td>\n",
              "    </tr>\n",
              "    <tr>\n",
              "      <th>156727</th>\n",
              "      <td>0</td>\n",
              "    </tr>\n",
              "    <tr>\n",
              "      <th>8003</th>\n",
              "      <td>0</td>\n",
              "    </tr>\n",
              "  </tbody>\n",
              "</table>\n",
              "</div>\n",
              "      <button class=\"colab-df-convert\" onclick=\"convertToInteractive('df-84db9a95-cbc9-42b1-a863-c8738351512f')\"\n",
              "              title=\"Convert this dataframe to an interactive table.\"\n",
              "              style=\"display:none;\">\n",
              "        \n",
              "  <svg xmlns=\"http://www.w3.org/2000/svg\" height=\"24px\"viewBox=\"0 0 24 24\"\n",
              "       width=\"24px\">\n",
              "    <path d=\"M0 0h24v24H0V0z\" fill=\"none\"/>\n",
              "    <path d=\"M18.56 5.44l.94 2.06.94-2.06 2.06-.94-2.06-.94-.94-2.06-.94 2.06-2.06.94zm-11 1L8.5 8.5l.94-2.06 2.06-.94-2.06-.94L8.5 2.5l-.94 2.06-2.06.94zm10 10l.94 2.06.94-2.06 2.06-.94-2.06-.94-.94-2.06-.94 2.06-2.06.94z\"/><path d=\"M17.41 7.96l-1.37-1.37c-.4-.4-.92-.59-1.43-.59-.52 0-1.04.2-1.43.59L10.3 9.45l-7.72 7.72c-.78.78-.78 2.05 0 2.83L4 21.41c.39.39.9.59 1.41.59.51 0 1.02-.2 1.41-.59l7.78-7.78 2.81-2.81c.8-.78.8-2.07 0-2.86zM5.41 20L4 18.59l7.72-7.72 1.47 1.35L5.41 20z\"/>\n",
              "  </svg>\n",
              "      </button>\n",
              "      \n",
              "  <style>\n",
              "    .colab-df-container {\n",
              "      display:flex;\n",
              "      flex-wrap:wrap;\n",
              "      gap: 12px;\n",
              "    }\n",
              "\n",
              "    .colab-df-convert {\n",
              "      background-color: #E8F0FE;\n",
              "      border: none;\n",
              "      border-radius: 50%;\n",
              "      cursor: pointer;\n",
              "      display: none;\n",
              "      fill: #1967D2;\n",
              "      height: 32px;\n",
              "      padding: 0 0 0 0;\n",
              "      width: 32px;\n",
              "    }\n",
              "\n",
              "    .colab-df-convert:hover {\n",
              "      background-color: #E2EBFA;\n",
              "      box-shadow: 0px 1px 2px rgba(60, 64, 67, 0.3), 0px 1px 3px 1px rgba(60, 64, 67, 0.15);\n",
              "      fill: #174EA6;\n",
              "    }\n",
              "\n",
              "    [theme=dark] .colab-df-convert {\n",
              "      background-color: #3B4455;\n",
              "      fill: #D2E3FC;\n",
              "    }\n",
              "\n",
              "    [theme=dark] .colab-df-convert:hover {\n",
              "      background-color: #434B5C;\n",
              "      box-shadow: 0px 1px 3px 1px rgba(0, 0, 0, 0.15);\n",
              "      filter: drop-shadow(0px 1px 2px rgba(0, 0, 0, 0.3));\n",
              "      fill: #FFFFFF;\n",
              "    }\n",
              "  </style>\n",
              "\n",
              "      <script>\n",
              "        const buttonEl =\n",
              "          document.querySelector('#df-84db9a95-cbc9-42b1-a863-c8738351512f button.colab-df-convert');\n",
              "        buttonEl.style.display =\n",
              "          google.colab.kernel.accessAllowed ? 'block' : 'none';\n",
              "\n",
              "        async function convertToInteractive(key) {\n",
              "          const element = document.querySelector('#df-84db9a95-cbc9-42b1-a863-c8738351512f');\n",
              "          const dataTable =\n",
              "            await google.colab.kernel.invokeFunction('convertToInteractive',\n",
              "                                                     [key], {});\n",
              "          if (!dataTable) return;\n",
              "\n",
              "          const docLinkHtml = 'Like what you see? Visit the ' +\n",
              "            '<a target=\"_blank\" href=https://colab.research.google.com/notebooks/data_table.ipynb>data table notebook</a>'\n",
              "            + ' to learn more about interactive tables.';\n",
              "          element.innerHTML = '';\n",
              "          dataTable['output_type'] = 'display_data';\n",
              "          await google.colab.output.renderOutput(dataTable, element);\n",
              "          const docLink = document.createElement('div');\n",
              "          docLink.innerHTML = docLinkHtml;\n",
              "          element.appendChild(docLink);\n",
              "        }\n",
              "      </script>\n",
              "    </div>\n",
              "  </div>\n",
              "  "
            ]
          },
          "metadata": {},
          "execution_count": 19
        }
      ]
    },
    {
      "cell_type": "markdown",
      "source": [
        "## Model Creation\n",
        "## Decision Tree Implementation\n",
        "\n",
        "Now I will implement the **Decision Tree Classifier**.\n",
        "\n",
        "As seen in the scikit-learn documentation (referenced below), it takes 2 arrays as inputs (**training and test sample**)\n",
        "\n",
        "The code below will fit the model\n",
        "\n",
        "[7].\n",
        "\n",
        "A decision tree makes a prediction. \n",
        "\n",
        "### Decision Tree Hyperparameters\n",
        "* The parameter **max_depth** is a hyperparameter that defines the depth of the tree. I will use it as otherwise the tree will have a depth of thousands of nodes.\n",
        "\n",
        "* The parameter **criterion** can be set to either entropy or gini. It determines how the impurity is measured.\n",
        " [8]."
      ],
      "metadata": {
        "id": "DoLTNd7IVygJ"
      }
    },
    {
      "cell_type": "code",
      "source": [
        "from sklearn import tree\n",
        "from sklearn.metrics import accuracy_score\n",
        "from sklearn.metrics import precision_score\n",
        "from sklearn.metrics import recall_score\n",
        "from sklearn.metrics import f1_score\n",
        "\n",
        "\n",
        "DTreeClf = tree.DecisionTreeClassifier(criterion = 'entropy')\n",
        "DTreeClf = DTreeClf.fit(X.values, Y.values)\n",
        "predsdtc = DTreeClf.predict(X_test)\n",
        "print(\"accuracy_score: \" + str(accuracy_score(Y_test, predsdtc)))\n",
        "print(\"precision_score: \" + str(precision_score(Y_test, predsdtc)))\n",
        "print(\"recall_score: \" + str(recall_score(Y_test, predsdtc)))\n",
        "print(\"f1: \" + str(f1_score(Y_test, predsdtc)))"
      ],
      "metadata": {
        "id": "4SPX1wji20sq",
        "colab": {
          "base_uri": "https://localhost:8080/"
        },
        "outputId": "d70710a0-6251-4c89-c1f3-5750e76d2ff1"
      },
      "execution_count": null,
      "outputs": [
        {
          "output_type": "stream",
          "name": "stdout",
          "text": [
            "accuracy_score: 0.9554761904761905\n",
            "precision_score: 0.9171475070276668\n",
            "recall_score: 0.9998387096774194\n",
            "f1: 0.9567096226560691\n"
          ]
        },
        {
          "output_type": "stream",
          "name": "stderr",
          "text": [
            "/usr/local/lib/python3.7/dist-packages/sklearn/base.py:444: UserWarning: X has feature names, but DecisionTreeClassifier was fitted without feature names\n",
            "  f\"X has feature names, but {self.__class__.__name__} was fitted without\"\n"
          ]
        }
      ]
    },
    {
      "cell_type": "markdown",
      "source": [
        "Following the example code from the documentation, I can plot the already trained tree:\n",
        "\n",
        "Having said that, unless I change the max_depth value, it can take an abnormal amount of time so as of now the code will remain commented out\n",
        "[7]. \n"
      ],
      "metadata": {
        "id": "lCnUzYcIXWGR"
      }
    },
    {
      "cell_type": "code",
      "source": [
        "#plt.figure(figsize=(10,5))\n",
        "#tree.plot_tree(DTreeClf)"
      ],
      "metadata": {
        "id": "AdyRuJiiXUDp"
      },
      "execution_count": null,
      "outputs": []
    },
    {
      "cell_type": "markdown",
      "source": [
        "### Hyperparameter Optimization\n",
        "\n",
        "Using grid search, we can do some basic hyperparameter optimization"
      ],
      "metadata": {
        "id": "ZPv_-2xHyliX"
      }
    },
    {
      "cell_type": "code",
      "source": [
        "from sklearn.model_selection import GridSearchCV\n",
        " \n",
        "parameter_grid = [\n",
        "     {'criterion':['gini','entropy'],\n",
        "      'max_depth':[4,5,6,7,8,9,10,11,12,15,20,30,40,50,70,90,120,150]}]\n",
        " \n",
        "grid_search = GridSearchCV(DTreeClf, parameter_grid, cv=5,\n",
        "                           scoring='accuracy',\n",
        "                           return_train_score=True)\n",
        " \n",
        "grid_search.fit(X_train, Y_train)\n",
        "print('best parameter values', grid_search.best_params_)\n",
        "print('best estimator', grid_search.best_estimator_)"
      ],
      "metadata": {
        "id": "Waq3nlQdw22_",
        "colab": {
          "base_uri": "https://localhost:8080/"
        },
        "outputId": "85ab6e1d-a85b-4047-c351-07f605d9e895"
      },
      "execution_count": null,
      "outputs": [
        {
          "output_type": "stream",
          "name": "stdout",
          "text": [
            "best parameter values {'criterion': 'gini', 'max_depth': 50}\n",
            "best estimator DecisionTreeClassifier(max_depth=50)\n"
          ]
        }
      ]
    },
    {
      "cell_type": "code",
      "source": [
        "best_DTreeClf=grid_search.best_estimator_\n",
        "pred_Y=best_DTreeClf.predict(X_test)\n",
        "\n",
        "print('\\n accuracy', accuracy_score(Y_test, pred_Y))\n",
        "print('\\n precision', precision_score(Y_test, pred_Y))\n",
        "print('\\n recall (sensitivity)', recall_score(Y_test, pred_Y))\n",
        "print('\\n f1', f1_score(Y_test, pred_Y))"
      ],
      "metadata": {
        "id": "W1J4Z2SazLaY",
        "colab": {
          "base_uri": "https://localhost:8080/"
        },
        "outputId": "ca2048f3-0ba9-4825-f7dd-39b68af1f827"
      },
      "execution_count": null,
      "outputs": [
        {
          "output_type": "stream",
          "name": "stdout",
          "text": [
            "\n",
            " accuracy 0.8629365079365079\n",
            "\n",
            " precision 0.8470131885182312\n",
            "\n",
            " recall (sensitivity) 0.8804838709677419\n",
            "\n",
            " f1 0.8634242783708975\n"
          ]
        }
      ]
    },
    {
      "cell_type": "code",
      "source": [
        "def predict(DTreeClf, X):\n",
        "    pred = DTreeClf.predict(X).flatten()\n",
        "    pred[pred >= 0.6] = 1\n",
        "    pred[pred < 0.6] = 0\n",
        "    return pred\n",
        "\n",
        "def plot_actual_vs_predicted(y_true,y_pred,title=None):\n",
        "    cm = confusion_matrix(y_true, y_pred)\n",
        "    plt.figure(figsize=(7,7))\n",
        "    sns.heatmap(cm, annot=True, fmt='g')\n",
        "    \n",
        "    #Labelling\n",
        "    plt.xlabel(\"Actual\")\n",
        "    plt.ylabel(\"Predicted\")\n",
        "    plt.title(title)\n",
        "    plt.show()\n",
        "y_train_pred = predict(DTreeClf, X_train)\n",
        "plot_actual_vs_predicted(Y_train, y_train_pred, 'Training Predictions')\n",
        "\n",
        "from sklearn.metrics import classification_report\n",
        "print(classification_report(Y_train, y_train_pred))"
      ],
      "metadata": {
        "colab": {
          "base_uri": "https://localhost:8080/",
          "height": 648
        },
        "id": "BechygS5o5Js",
        "outputId": "6aa67784-e414-410d-8612-0282adcaed34"
      },
      "execution_count": null,
      "outputs": [
        {
          "output_type": "stream",
          "name": "stderr",
          "text": [
            "/usr/local/lib/python3.7/dist-packages/sklearn/base.py:444: UserWarning: X has feature names, but DecisionTreeClassifier was fitted without feature names\n",
            "  f\"X has feature names, but {self.__class__.__name__} was fitted without\"\n"
          ]
        },
        {
          "output_type": "display_data",
          "data": {
            "text/plain": [
              "<Figure size 504x504 with 2 Axes>"
            ],
            "image/png": "[encoded data removed]"
          },
          "metadata": {
            "needs_background": "light"
          }
        },
        {
          "output_type": "stream",
          "name": "stdout",
          "text": [
            "              precision    recall  f1-score   support\n",
            "\n",
            "           0       1.00      0.92      0.96     25600\n",
            "           1       0.92      1.00      0.96     24796\n",
            "\n",
            "    accuracy                           0.96     50396\n",
            "   macro avg       0.96      0.96      0.96     50396\n",
            "weighted avg       0.96      0.96      0.96     50396\n",
            "\n"
          ]
        }
      ]
    },
    {
      "cell_type": "code",
      "source": [
        "y_test_pred = predict(DTreeClf, X_test)\n",
        "plot_actual_vs_predicted(Y_test, y_test_pred, 'Tested Predictions')\n",
        "print(classification_report(Y_test, y_test_pred))"
      ],
      "metadata": {
        "colab": {
          "base_uri": "https://localhost:8080/",
          "height": 648
        },
        "id": "xsqd1KLgqazF",
        "outputId": "eb07fbb2-f132-4b12-b0e6-dedef0d7b4ab"
      },
      "execution_count": null,
      "outputs": [
        {
          "output_type": "stream",
          "name": "stderr",
          "text": [
            "/usr/local/lib/python3.7/dist-packages/sklearn/base.py:444: UserWarning: X has feature names, but DecisionTreeClassifier was fitted without feature names\n",
            "  f\"X has feature names, but {self.__class__.__name__} was fitted without\"\n"
          ]
        },
        {
          "output_type": "display_data",
          "data": {
            "text/plain": [
              "<Figure size 504x504 with 2 Axes>"
            ],
            "image/png": "[encoded data removed]"
          },
          "metadata": {
            "needs_background": "light"
          }
        },
        {
          "output_type": "stream",
          "name": "stdout",
          "text": [
            "              precision    recall  f1-score   support\n",
            "\n",
            "           0       1.00      0.91      0.95      6400\n",
            "           1       0.92      1.00      0.96      6200\n",
            "\n",
            "    accuracy                           0.96     12600\n",
            "   macro avg       0.96      0.96      0.96     12600\n",
            "weighted avg       0.96      0.96      0.96     12600\n",
            "\n"
          ]
        }
      ]
    },
    {
      "cell_type": "code",
      "source": [
        "import sklearn.metrics as metrics\n",
        "from sklearn.metrics import roc_auc_score,roc_curve\n",
        "\n",
        "print('\\n ROC AUC Score', roc_auc_score(Y_test, pred_Y))\n",
        "\n",
        "fpr, tpr, _ = metrics.roc_curve(Y_test, pred_Y)\n",
        "\n",
        "plt.plot(fpr,tpr)\n",
        "plt.ylabel('True Positive Rate')\n",
        "plt.xlabel('False Positive Rate')\n",
        "plt.show()"
      ],
      "metadata": {
        "colab": {
          "base_uri": "https://localhost:8080/",
          "height": 313
        },
        "id": "CwCxR5IBtm4R",
        "outputId": "b725863d-2082-4ec9-9115-410081f304af"
      },
      "execution_count": null,
      "outputs": [
        {
          "output_type": "stream",
          "name": "stdout",
          "text": [
            "\n",
            " ROC AUC Score 0.8632106854838709\n"
          ]
        },
        {
          "output_type": "display_data",
          "data": {
            "text/plain": [
              "<Figure size 432x288 with 1 Axes>"
            ],
            "image/png": "[encoded data removed]"
          },
          "metadata": {
            "needs_background": "light"
          }
        }
      ]
    },
    {
      "cell_type": "markdown",
      "source": [
        "### Random Forest Classifier\n",
        "\n",
        "Random Forests are a type of ensemble models, which means they construct a s et of base models, and combine the predictions of multiple models to reach a better one.\n",
        "\n",
        "Random Forests specifically work by having a vast amount of uncorrelated individual decision trees. This randomness means trees are less correlated, so we can see on a wider spectrum our data and will help us reach a better prediction.\n",
        "\n",
        "The more views we have, the more we can know what option is best to choose.\n",
        "\n",
        "The most important hyperparameters are \n",
        "* max_features\n"
      ],
      "metadata": {
        "id": "Io0ncSCmPlt8"
      }
    },
    {
      "cell_type": "code",
      "source": [
        "from sklearn.ensemble import RandomForestClassifier\n",
        "rForestClf=RandomForestClassifier()\n",
        "\n",
        "rForestClf = rForestClf.fit(X.values, Y.values)\n",
        "predsdtc = rForestClf.predict(X_test)\n",
        "print(\"accuracy_score: \" + str(accuracy_score(Y_test, predsdtc)))\n",
        "print(\"precision_score: \" + str(precision_score(Y_test, predsdtc)))\n",
        "print(\"recall_score: \" + str(recall_score(Y_test, predsdtc)))\n",
        "print(\"f1: \" + str(f1_score(Y_test, predsdtc)))"
      ],
      "metadata": {
        "id": "lm6XCqGa01Bo",
        "colab": {
          "base_uri": "https://localhost:8080/"
        },
        "outputId": "0aaf45a9-5c34-4306-c782-44fd95bad6e1"
      },
      "execution_count": null,
      "outputs": [
        {
          "output_type": "stream",
          "name": "stderr",
          "text": [
            "/usr/local/lib/python3.7/dist-packages/ipykernel_launcher.py:4: DataConversionWarning: A column-vector y was passed when a 1d array was expected. Please change the shape of y to (n_samples,), for example using ravel().\n",
            "  after removing the cwd from sys.path.\n",
            "/usr/local/lib/python3.7/dist-packages/sklearn/base.py:444: UserWarning: X has feature names, but RandomForestClassifier was fitted without feature names\n",
            "  f\"X has feature names, but {self.__class__.__name__} was fitted without\"\n"
          ]
        },
        {
          "output_type": "stream",
          "name": "stdout",
          "text": [
            "accuracy_score: 0.9554761904761905\n",
            "precision_score: 0.9171475070276668\n",
            "recall_score: 0.9998387096774194\n",
            "f1: 0.9567096226560691\n"
          ]
        }
      ]
    },
    {
      "cell_type": "markdown",
      "source": [
        "### Hyperparameter Optimization"
      ],
      "metadata": {
        "id": "qi-XDGam2g8Q"
      }
    },
    {
      "cell_type": "code",
      "source": [
        "from sklearn.model_selection import GridSearchCV\n",
        " \n",
        "param_grid = { \n",
        "    'max_features': [2, 3, 4, 6],\n",
        "    'criterion' :['gini', 'entropy']}\n",
        " \n",
        "grid_search = GridSearchCV(rForestClf, param_grid, cv=5,\n",
        "                           scoring='accuracy',\n",
        "                           return_train_score=True,\n",
        "                            n_jobs=-1)   \n",
        " \n",
        "grid_search.fit(X_train, Y_train)\n",
        "print('best parameter values', grid_search.best_params_)\n",
        "print('best estimator', grid_search.best_estimator_)\n",
        " \n",
        "cvres = grid_search.cv_results_\n",
        "for mean_score, params in zip(cvres[\"mean_test_score\"], cvres[\"params\"]):\n",
        "    print(np.mean(mean_score), params)\n"
      ],
      "metadata": {
        "id": "0BJcfeVL2gZI",
        "colab": {
          "base_uri": "https://localhost:8080/"
        },
        "outputId": "d0dfccb2-570b-42db-aa4b-5565ddec24ee"
      },
      "execution_count": null,
      "outputs": [
        {
          "output_type": "stream",
          "name": "stdout",
          "text": [
            "best parameter values {'criterion': 'gini', 'max_features': 6}\n",
            "best estimator RandomForestClassifier(max_features=6)\n",
            "0.845602817109911 {'criterion': 'gini', 'max_features': 2}\n",
            "0.8458607477121218 {'criterion': 'gini', 'max_features': 3}\n",
            "0.8459401029486108 {'criterion': 'gini', 'max_features': 4}\n",
            "0.8464560074616875 {'criterion': 'gini', 'max_features': 6}\n",
            "0.8451067282751973 {'criterion': 'entropy', 'max_features': 2}\n",
            "0.8454837261822081 {'criterion': 'entropy', 'max_features': 3}\n",
            "0.8453250038977789 {'criterion': 'entropy', 'max_features': 4}\n",
            "0.8459004085974767 {'criterion': 'entropy', 'max_features': 6}\n"
          ]
        }
      ]
    },
    {
      "cell_type": "code",
      "source": [
        "best_rForestClf=grid_search.best_estimator_\n",
        "pred_Y=best_rForestClf.predict(X_test)\n",
        "\n",
        "print('\\n accuracy', accuracy_score(Y_test, pred_Y))\n",
        "print('\\n precision', precision_score(Y_test, pred_Y))\n",
        "print('\\n recall (sensitivity)', recall_score(Y_test, pred_Y))\n",
        "print('\\n f1', f1_score(Y_test, pred_Y))"
      ],
      "metadata": {
        "id": "QQ3ucJHv3dCw",
        "colab": {
          "base_uri": "https://localhost:8080/"
        },
        "outputId": "036978f2-9f40-4f12-82e9-e444b8320e59"
      },
      "execution_count": null,
      "outputs": [
        {
          "output_type": "stream",
          "name": "stdout",
          "text": [
            "\n",
            " accuracy 0.8488888888888889\n",
            "\n",
            " precision 0.8700895933838731\n",
            "\n",
            " recall (sensitivity) 0.8145161290322581\n",
            "\n",
            " f1 0.8413862045984671\n"
          ]
        }
      ]
    },
    {
      "cell_type": "code",
      "source": [
        "def predict(rForestClf, X):\n",
        "    pred = rForestClf.predict(X).flatten()\n",
        "    pred[pred >= 0.6] = 1\n",
        "    pred[pred < 0.6] = 0\n",
        "    return pred\n",
        "\n",
        "def plot_actual_vs_predicted(y_true,y_pred,title=None):\n",
        "    cm = confusion_matrix(y_true, y_pred)\n",
        "    plt.figure(figsize=(7,7))\n",
        "    sns.heatmap(cm, annot=True, fmt='g')\n",
        "    \n",
        "    #Labelling\n",
        "    plt.xlabel(\"Actual\")\n",
        "    plt.ylabel(\"Predicted\")\n",
        "    plt.title(title)\n",
        "    plt.show()\n",
        "y_train_pred = predict(rForestClf, X_train)\n",
        "plot_actual_vs_predicted(Y_train, y_train_pred, 'Training Predictions')\n",
        "\n",
        "from sklearn.metrics import classification_report\n",
        "print(classification_report(Y_train, y_train_pred))\n",
        "\n",
        "y_test_pred = predict(rForestClf, X_test)\n",
        "plot_actual_vs_predicted(Y_test, y_test_pred, 'Tested Predictions')\n",
        "print(classification_report(Y_test, y_test_pred))"
      ],
      "metadata": {
        "colab": {
          "base_uri": "https://localhost:8080/",
          "height": 1000
        },
        "id": "fvfSQDKDAjj1",
        "outputId": "0c95af02-00ed-4b53-d37a-b68be2da3304"
      },
      "execution_count": null,
      "outputs": [
        {
          "output_type": "stream",
          "name": "stderr",
          "text": [
            "/usr/local/lib/python3.7/dist-packages/sklearn/base.py:444: UserWarning: X has feature names, but RandomForestClassifier was fitted without feature names\n",
            "  f\"X has feature names, but {self.__class__.__name__} was fitted without\"\n"
          ]
        },
        {
          "output_type": "display_data",
          "data": {
            "text/plain": [
              "<Figure size 504x504 with 2 Axes>"
            ],
            "image/png": "[encoded data removed]"
          },
          "metadata": {
            "needs_background": "light"
          }
        },
        {
          "output_type": "stream",
          "name": "stdout",
          "text": [
            "              precision    recall  f1-score   support\n",
            "\n",
            "           0       1.00      0.92      0.96     25600\n",
            "           1       0.92      1.00      0.96     24796\n",
            "\n",
            "    accuracy                           0.96     50396\n",
            "   macro avg       0.96      0.96      0.96     50396\n",
            "weighted avg       0.96      0.96      0.96     50396\n",
            "\n"
          ]
        },
        {
          "output_type": "stream",
          "name": "stderr",
          "text": [
            "/usr/local/lib/python3.7/dist-packages/sklearn/base.py:444: UserWarning: X has feature names, but RandomForestClassifier was fitted without feature names\n",
            "  f\"X has feature names, but {self.__class__.__name__} was fitted without\"\n"
          ]
        },
        {
          "output_type": "display_data",
          "data": {
            "text/plain": [
              "<Figure size 504x504 with 2 Axes>"
            ],
            "image/png": "[encoded data removed]"
          },
          "metadata": {
            "needs_background": "light"
          }
        },
        {
          "output_type": "stream",
          "name": "stdout",
          "text": [
            "              precision    recall  f1-score   support\n",
            "\n",
            "           0       1.00      0.91      0.95      6400\n",
            "           1       0.92      1.00      0.96      6200\n",
            "\n",
            "    accuracy                           0.96     12600\n",
            "   macro avg       0.96      0.96      0.96     12600\n",
            "weighted avg       0.96      0.96      0.96     12600\n",
            "\n"
          ]
        }
      ]
    },
    {
      "cell_type": "code",
      "source": [
        "import sklearn.metrics as metrics\n",
        "from sklearn.metrics import roc_auc_score,roc_curve\n",
        "\n",
        "print('\\n ROC AUC Score', roc_auc_score(Y_test, pred_Y))\n",
        "\n",
        "fpr, tpr, _ = metrics.roc_curve(Y_test, pred_Y)\n",
        "\n",
        "plt.plot(fpr,tpr)\n",
        "plt.ylabel('True Positive Rate')\n",
        "plt.xlabel('False Positive Rate')\n",
        "plt.show()"
      ],
      "metadata": {
        "colab": {
          "base_uri": "https://localhost:8080/",
          "height": 313
        },
        "id": "NKXRQ7gdAz1B",
        "outputId": "96d3e4c3-009b-496a-b081-97cf32a70293"
      },
      "execution_count": null,
      "outputs": [
        {
          "output_type": "stream",
          "name": "stdout",
          "text": [
            "\n",
            " ROC AUC Score 0.8483518145161291\n"
          ]
        },
        {
          "output_type": "display_data",
          "data": {
            "text/plain": [
              "<Figure size 432x288 with 1 Axes>"
            ],
            "image/png": "[encoded data removed]"
          },
          "metadata": {
            "needs_background": "light"
          }
        }
      ]
    },
    {
      "cell_type": "markdown",
      "source": [
        "###Feature Importance"
      ],
      "metadata": {
        "id": "-FfTprgJvBcg"
      }
    },
    {
      "cell_type": "code",
      "source": [
        "feature_importances = grid_search.best_estimator_.feature_importances_"
      ],
      "metadata": {
        "id": "vOQ4pqSSu5ri"
      },
      "execution_count": null,
      "outputs": []
    },
    {
      "cell_type": "markdown",
      "source": [
        "### AdaBoost\n"
      ],
      "metadata": {
        "id": "y1NGEQ1x6UIp"
      }
    },
    {
      "cell_type": "code",
      "source": [
        "from sklearn.ensemble import AdaBoostClassifier\n",
        "\n",
        "ABoostClf = AdaBoostClassifier()\n",
        "ABoostClf.fit(X, Y)\n",
        "y_pred = ABoostClf.predict(X_train)\n",
        "accuracy = ABoostClf.score(X_train, Y_train)\n",
        "accuracy\n"
      ],
      "metadata": {
        "id": "Y0N503l96um6",
        "colab": {
          "base_uri": "https://localhost:8080/"
        },
        "outputId": "106125eb-d716-4181-f389-0de0cb331d25"
      },
      "execution_count": null,
      "outputs": [
        {
          "output_type": "stream",
          "name": "stderr",
          "text": [
            "/usr/local/lib/python3.7/dist-packages/sklearn/utils/validation.py:993: DataConversionWarning: A column-vector y was passed when a 1d array was expected. Please change the shape of y to (n_samples, ), for example using ravel().\n",
            "  y = column_or_1d(y, warn=True)\n"
          ]
        },
        {
          "output_type": "execute_result",
          "data": {
            "text/plain": [
              "0.5647868878482419"
            ]
          },
          "metadata": {},
          "execution_count": 33
        }
      ]
    },
    {
      "cell_type": "markdown",
      "source": [
        "### Hyperparameter Optimization"
      ],
      "metadata": {
        "id": "q1Y9HVEFGEyV"
      }
    },
    {
      "cell_type": "code",
      "source": [
        "from sklearn.model_selection import GridSearchCV\n",
        "param_grid = {\n",
        "     #'n_estimators': np.arange(10,200,10),\n",
        "     'learning_rate': [0.01, 0.1, 1]\n",
        " }\n",
        "grid_search = GridSearchCV(ABoostClf, param_grid, scoring='accuracy', cv=5, n_jobs=-1)\n",
        "grid_search.fit(X_train, Y_train)\n",
        "grid_search.best_params_\n",
        "print('best parameter values', grid_search.best_params_)\n",
        "print('best estimator', grid_search.best_estimator_)\n",
        " \n",
        "cvres = grid_search.cv_results_\n",
        "for mean_score, params in zip(cvres[\"mean_test_score\"], cvres[\"params\"]):\n",
        "    print(np.mean(mean_score), params)\n"
      ],
      "metadata": {
        "id": "E1xxxytCGRL4",
        "colab": {
          "base_uri": "https://localhost:8080/"
        },
        "outputId": "485dc5d4-fc42-40df-dd4b-1b94595f6b9b"
      },
      "execution_count": null,
      "outputs": [
        {
          "output_type": "stream",
          "name": "stdout",
          "text": [
            "best parameter values {'learning_rate': 1}\n",
            "best estimator AdaBoostClassifier(learning_rate=1)\n",
            "0.5338718607130651 {'learning_rate': 0.01}\n",
            "0.5454997228246062 {'learning_rate': 0.1}\n",
            "0.5566511798852556 {'learning_rate': 1}\n"
          ]
        }
      ]
    },
    {
      "cell_type": "code",
      "source": [
        "\n",
        "best_ABoostGrid=grid_search.best_estimator_\n",
        "pred_Y=best_ABoostGrid.predict(X_test)\n",
        " \n",
        "cm=confusion_matrix(Y_test, pred_Y) # confusion matrix\n",
        "print('confusion matrix,  classes order is 0 and 1, actual values on rows, predicted values on columns \\n', cm)\n",
        "print('\\n accuracy', accuracy_score(Y_test, pred_Y))\n",
        "print('\\n precision', precision_score(Y_test, pred_Y))\n",
        "print('\\n recall (sensitivity)', recall_score(Y_test, pred_Y))\n",
        "print('\\n f1', f1_score(Y_test, pred_Y))\n"
      ],
      "metadata": {
        "id": "apUcSp4GJLJ1",
        "colab": {
          "base_uri": "https://localhost:8080/"
        },
        "outputId": "a71a8baa-7ba7-4263-a952-7a06aa996d3f"
      },
      "execution_count": null,
      "outputs": [
        {
          "output_type": "stream",
          "name": "stdout",
          "text": [
            "confusion matrix,  classes order is 0 and 1, actual values on rows, predicted values on columns \n",
            " [[3886 2514]\n",
            " [3023 3177]]\n",
            "\n",
            " accuracy 0.5605555555555556\n",
            "\n",
            " precision 0.5582498682129678\n",
            "\n",
            " recall (sensitivity) 0.5124193548387097\n",
            "\n",
            " f1 0.5343537128921033\n"
          ]
        }
      ]
    },
    {
      "cell_type": "code",
      "source": [
        "def predict(ABoostClf, X):\n",
        "    pred = ABoostClf.predict(X).flatten()\n",
        "    pred[pred >= 0.6] = 1\n",
        "    pred[pred < 0.6] = 0\n",
        "    return pred\n",
        "\n",
        "def plot_actual_vs_predicted(y_true,y_pred,title=None):\n",
        "    cm = confusion_matrix(y_true, y_pred)\n",
        "    plt.figure(figsize=(7,7))\n",
        "    sns.heatmap(cm, annot=True, fmt='g')\n",
        "    \n",
        "    #Labelling\n",
        "    plt.xlabel(\"Actual\")\n",
        "    plt.ylabel(\"Predicted\")\n",
        "    plt.title(title)\n",
        "    plt.show()\n",
        "y_train_pred = predict(ABoostClf, X_train)\n",
        "plot_actual_vs_predicted(Y_train, y_train_pred, 'Training Predictions')\n",
        "\n",
        "from sklearn.metrics import classification_report\n",
        "print(classification_report(Y_train, y_train_pred))\n",
        "\n",
        "y_test_pred = predict(ABoostClf, X_test)\n",
        "plot_actual_vs_predicted(Y_test, y_test_pred, 'Tested Predictions')\n",
        "print(classification_report(Y_test, y_test_pred))"
      ],
      "metadata": {
        "colab": {
          "base_uri": "https://localhost:8080/",
          "height": 1000
        },
        "id": "L5EfnMG1A3Uh",
        "outputId": "16f26be6-8bd3-4e8d-8943-7200b9300e42"
      },
      "execution_count": null,
      "outputs": [
        {
          "output_type": "display_data",
          "data": {
            "text/plain": [
              "<Figure size 504x504 with 2 Axes>"
            ],
            "image/png": "[encoded data removed]"
          },
          "metadata": {
            "needs_background": "light"
          }
        },
        {
          "output_type": "stream",
          "name": "stdout",
          "text": [
            "              precision    recall  f1-score   support\n",
            "\n",
            "           0       0.57      0.62      0.59     25600\n",
            "           1       0.56      0.51      0.53     24796\n",
            "\n",
            "    accuracy                           0.56     50396\n",
            "   macro avg       0.56      0.56      0.56     50396\n",
            "weighted avg       0.56      0.56      0.56     50396\n",
            "\n"
          ]
        },
        {
          "output_type": "display_data",
          "data": {
            "text/plain": [
              "<Figure size 504x504 with 2 Axes>"
            ],
            "image/png": "[encoded data removed]"
          },
          "metadata": {
            "needs_background": "light"
          }
        },
        {
          "output_type": "stream",
          "name": "stdout",
          "text": [
            "              precision    recall  f1-score   support\n",
            "\n",
            "           0       0.57      0.63      0.60      6400\n",
            "           1       0.57      0.51      0.54      6200\n",
            "\n",
            "    accuracy                           0.57     12600\n",
            "   macro avg       0.57      0.57      0.57     12600\n",
            "weighted avg       0.57      0.57      0.57     12600\n",
            "\n"
          ]
        }
      ]
    },
    {
      "cell_type": "code",
      "source": [
        "import sklearn.metrics as metrics\n",
        "from sklearn.metrics import roc_auc_score,roc_curve\n",
        "\n",
        "print('\\n ROC AUC Score', roc_auc_score(Y_test, pred_Y))\n",
        "\n",
        "fpr, tpr, _ = metrics.roc_curve(Y_test, pred_Y)\n",
        "\n",
        "plt.plot(fpr,tpr)\n",
        "plt.ylabel('True Positive Rate')\n",
        "plt.xlabel('False Positive Rate')\n",
        "plt.show()"
      ],
      "metadata": {
        "colab": {
          "base_uri": "https://localhost:8080/",
          "height": 313
        },
        "id": "LxbFcY2tA9H5",
        "outputId": "12024f11-dd32-4620-ad66-c8014be4c806"
      },
      "execution_count": null,
      "outputs": [
        {
          "output_type": "stream",
          "name": "stdout",
          "text": [
            "\n",
            " ROC AUC Score 0.5598034274193548\n"
          ]
        },
        {
          "output_type": "display_data",
          "data": {
            "text/plain": [
              "<Figure size 432x288 with 1 Axes>"
            ],
            "image/png": "[encoded data removed]"
          },
          "metadata": {
            "needs_background": "light"
          }
        }
      ]
    },
    {
      "cell_type": "markdown",
      "source": [
        "### Support Vector Machine Algorithm"
      ],
      "metadata": {
        "id": "WQbOk95NbC0s"
      }
    },
    {
      "cell_type": "code",
      "source": [
        "from sklearn.svm import SVC\n",
        "\n",
        "SVCClf = SVC()\n",
        "SVCClf.fit(X, Y)\n",
        "y_pred = SVCClf.predict(X_train)\n",
        "accuracy = SVCClf.score(X_train, Y_train)\n",
        "accuracy"
      ],
      "metadata": {
        "colab": {
          "base_uri": "https://localhost:8080/"
        },
        "id": "x3LhH7-dbVXM",
        "outputId": "123de72e-3a46-4861-c577-21b14b7cd1e2"
      },
      "execution_count": null,
      "outputs": [
        {
          "output_type": "stream",
          "name": "stderr",
          "text": [
            "/usr/local/lib/python3.7/dist-packages/sklearn/utils/validation.py:993: DataConversionWarning: A column-vector y was passed when a 1d array was expected. Please change the shape of y to (n_samples, ), for example using ravel().\n",
            "  y = column_or_1d(y, warn=True)\n"
          ]
        },
        {
          "output_type": "execute_result",
          "data": {
            "text/plain": [
              "0.6279665052781966"
            ]
          },
          "metadata": {},
          "execution_count": 38
        }
      ]
    },
    {
      "cell_type": "markdown",
      "source": [
        "### Hyperparameter Organization"
      ],
      "metadata": {
        "id": "HvZioGDJcBkb"
      }
    },
    {
      "cell_type": "code",
      "source": [
        "from sklearn.model_selection import GridSearchCV\n",
        "param_grid = {'C': [0.1, 1, 10],\n",
        "              'gamma': [1, 0.1, 0.01],\n",
        "              'kernel': ['linear']\n",
        "              }\n",
        "grid_search = GridSearchCV(SVCClf, param_grid, scoring='accuracy', cv=5, n_jobs=-1)\n",
        "grid_search.fit(X_train, Y_train)\n",
        "grid_search.best_params_\n",
        "print('best parameter values', grid_search.best_params_)\n",
        "print('best estimator', grid_search.best_estimator_)\n",
        " \n",
        "cvres = grid_search.cv_results_\n",
        "for mean_score, params in zip(cvres[\"mean_test_score\"], cvres[\"params\"]):\n",
        "    print(np.mean(mean_score), params)"
      ],
      "metadata": {
        "colab": {
          "base_uri": "https://localhost:8080/"
        },
        "id": "pSPXUFzbb_XE",
        "outputId": "5545a6b6-f0f4-4cdc-f3c2-af5d1880519f"
      },
      "execution_count": null,
      "outputs": [
        {
          "output_type": "stream",
          "name": "stdout",
          "text": [
            "best parameter values {'C': 1, 'gamma': 1, 'kernel': 'linear'}\n",
            "best estimator SVC(C=1, gamma=1, kernel='linear')\n",
            "0.5345860834329432 {'C': 0.1, 'gamma': 1, 'kernel': 'linear'}\n",
            "0.5345860834329432 {'C': 0.1, 'gamma': 0.1, 'kernel': 'linear'}\n",
            "0.5345860834329432 {'C': 0.1, 'gamma': 0.01, 'kernel': 'linear'}\n",
            "0.5348242042625165 {'C': 1, 'gamma': 1, 'kernel': 'linear'}\n",
            "0.5348242042625165 {'C': 1, 'gamma': 0.1, 'kernel': 'linear'}\n",
            "0.5348242042625165 {'C': 1, 'gamma': 0.01, 'kernel': 'linear'}\n",
            "0.5347051428634424 {'C': 10, 'gamma': 1, 'kernel': 'linear'}\n",
            "0.5347051428634424 {'C': 10, 'gamma': 0.1, 'kernel': 'linear'}\n",
            "0.5347051428634424 {'C': 10, 'gamma': 0.01, 'kernel': 'linear'}\n"
          ]
        }
      ]
    },
    {
      "cell_type": "code",
      "source": [
        "best_SVCClf = grid_search.best_estimator_\n",
        "pred_Y = best_SVCClf.predict(X_test)\n",
        " \n",
        "cm=confusion_matrix(Y_test, pred_Y) # confusion matrix\n",
        "print('confusion matrix,  classes order is 0 and 1, actual values on rows, predicted values on columns \\n', cm)\n",
        "print('\\n accuracy', accuracy_score(Y_test, pred_Y))\n",
        "print('\\n precision', precision_score(Y_test, pred_Y))\n",
        "print('\\n recall (sensitivity)', recall_score(Y_test, pred_Y))\n",
        "print('\\n f1', f1_score(Y_test, pred_Y))"
      ],
      "metadata": {
        "colab": {
          "base_uri": "https://localhost:8080/"
        },
        "id": "Nibv1G2Qd18l",
        "outputId": "6e7e186d-37d9-4202-89a6-88b7328b1596"
      },
      "execution_count": null,
      "outputs": [
        {
          "output_type": "stream",
          "name": "stdout",
          "text": [
            "confusion matrix,  classes order is 0 and 1, actual values on rows, predicted values on columns \n",
            " [[3267 3133]\n",
            " [2742 3458]]\n",
            "\n",
            " accuracy 0.5337301587301587\n",
            "\n",
            " precision 0.52465483234714\n",
            "\n",
            " recall (sensitivity) 0.557741935483871\n",
            "\n",
            " f1 0.5406926745367837\n"
          ]
        }
      ]
    },
    {
      "cell_type": "code",
      "source": [
        "def predict(SVCClf, X):\n",
        "    pred = SVCClf.predict(X).flatten()\n",
        "    pred[pred >= 0.6] = 1\n",
        "    pred[pred < 0.6] = 0\n",
        "    return pred\n",
        "\n",
        "def plot_actual_vs_predicted(y_true,y_pred,title=None):\n",
        "    cm = confusion_matrix(y_true, y_pred)\n",
        "    plt.figure(figsize=(7,7))\n",
        "    sns.heatmap(cm, annot=True, fmt='g')\n",
        "    \n",
        "    #Labelling\n",
        "    plt.xlabel(\"Actual\")\n",
        "    plt.ylabel(\"Predicted\")\n",
        "    plt.title(title)\n",
        "    plt.show()\n",
        "y_train_pred = predict(SVCClf, X_train)\n",
        "plot_actual_vs_predicted(Y_train, y_train_pred, 'Training Predictions')\n",
        "\n",
        "from sklearn.metrics import classification_report\n",
        "print(classification_report(Y_train, y_train_pred))\n",
        "\n",
        "y_test_pred = predict(SVCClf, X_test)\n",
        "plot_actual_vs_predicted(Y_test, y_test_pred, 'Tested Predictions')\n",
        "print(classification_report(Y_test, y_test_pred))"
      ],
      "metadata": {
        "colab": {
          "base_uri": "https://localhost:8080/",
          "height": 1000
        },
        "id": "XMfinFJPeKP9",
        "outputId": "d29a2817-b344-42a0-9aa2-d87c8e0b6dd5"
      },
      "execution_count": null,
      "outputs": [
        {
          "output_type": "display_data",
          "data": {
            "text/plain": [
              "<Figure size 504x504 with 2 Axes>"
            ],
            "image/png": "[encoded data removed]"
          },
          "metadata": {
            "needs_background": "light"
          }
        },
        {
          "output_type": "stream",
          "name": "stdout",
          "text": [
            "              precision    recall  f1-score   support\n",
            "\n",
            "           0       0.64      0.62      0.63     25600\n",
            "           1       0.62      0.64      0.63     24796\n",
            "\n",
            "    accuracy                           0.63     50396\n",
            "   macro avg       0.63      0.63      0.63     50396\n",
            "weighted avg       0.63      0.63      0.63     50396\n",
            "\n"
          ]
        },
        {
          "output_type": "display_data",
          "data": {
            "text/plain": [
              "<Figure size 504x504 with 2 Axes>"
            ],
            "image/png": "[encoded data removed]"
          },
          "metadata": {
            "needs_background": "light"
          }
        },
        {
          "output_type": "stream",
          "name": "stdout",
          "text": [
            "              precision    recall  f1-score   support\n",
            "\n",
            "           0       0.64      0.61      0.63      6400\n",
            "           1       0.62      0.65      0.63      6200\n",
            "\n",
            "    accuracy                           0.63     12600\n",
            "   macro avg       0.63      0.63      0.63     12600\n",
            "weighted avg       0.63      0.63      0.63     12600\n",
            "\n"
          ]
        }
      ]
    },
    {
      "cell_type": "code",
      "source": [
        "import sklearn.metrics as metrics\n",
        "from sklearn.metrics import roc_auc_score,roc_curve\n",
        "\n",
        "print('\\n ROC AUC Score', roc_auc_score(Y_test, pred_Y))\n",
        "\n",
        "fpr, tpr, _ = metrics.roc_curve(Y_test, pred_Y)\n",
        "\n",
        "plt.plot(fpr,tpr)\n",
        "plt.ylabel('True Positive Rate')\n",
        "plt.xlabel('False Positive Rate')\n",
        "plt.show()"
      ],
      "metadata": {
        "colab": {
          "base_uri": "https://localhost:8080/",
          "height": 313
        },
        "id": "3JKpSknveQH0",
        "outputId": "5c388d29-f5a8-4854-cfe4-3362c5b28661"
      },
      "execution_count": null,
      "outputs": [
        {
          "output_type": "stream",
          "name": "stdout",
          "text": [
            "\n",
            " ROC AUC Score 0.5341053427419356\n"
          ]
        },
        {
          "output_type": "display_data",
          "data": {
            "text/plain": [
              "<Figure size 432x288 with 1 Axes>"
            ],
            "image/png": "[encoded data removed]"
          },
          "metadata": {
            "needs_background": "light"
          }
        }
      ]
    },
    {
      "cell_type": "markdown",
      "source": [
        "### Naive Bayes Algorithm\n",
        "\n"
      ],
      "metadata": {
        "id": "9mYjKI2g7OCa"
      }
    },
    {
      "cell_type": "code",
      "source": [
        "from sklearn.naive_bayes import GaussianNB\n",
        "\n",
        "NaiveBayesClf = GaussianNB().fit(X_train, Y_train)"
      ],
      "metadata": {
        "id": "GZM9OY9b7Qei"
      },
      "execution_count": 19,
      "outputs": []
    },
    {
      "cell_type": "code",
      "source": [
        "pred_Y = NaiveBayesClf.predict(X_test)"
      ],
      "metadata": {
        "id": "J4LO91TG7Zm5"
      },
      "execution_count": 23,
      "outputs": []
    },
    {
      "cell_type": "code",
      "source": [
        "from sklearn.metrics import accuracy_score\n",
        "from sklearn.metrics import precision_score\n",
        "from sklearn.metrics import recall_score\n",
        "from sklearn.metrics import f1_score\n",
        "\n",
        "#accuracy_score = accuracy_score(Y_test, pred_Y) \n",
        "#print (accuracy_score)\n",
        "\n",
        "print('\\n accuracy', accuracy_score(Y_test, pred_Y))\n",
        "print('\\n precision', precision_score(Y_test, pred_Y))\n",
        "print('\\n recall (sensitivity)', recall_score(Y_test, pred_Y))\n",
        "print('\\n f1', f1_score(Y_test, pred_Y))"
      ],
      "metadata": {
        "id": "OC7Ywrek7bF8",
        "colab": {
          "base_uri": "https://localhost:8080/"
        },
        "outputId": "6f9a4e1b-caf8-423e-88ab-82abefae4092"
      },
      "execution_count": 25,
      "outputs": [
        {
          "output_type": "stream",
          "name": "stdout",
          "text": [
            "\n",
            " accuracy 0.5355555555555556\n",
            "\n",
            " precision 0.5194543828264758\n",
            "\n",
            " recall (sensitivity) 0.7493548387096775\n",
            "\n",
            " f1 0.6135763338615954\n"
          ]
        }
      ]
    },
    {
      "cell_type": "code",
      "source": [
        "import sklearn.metrics as metrics\n",
        "from sklearn.metrics import roc_auc_score,roc_curve\n",
        "\n",
        "print('\\n ROC AUC Score', roc_auc_score(Y_test, pred_Y))\n",
        "\n",
        "fpr, tpr, _ = metrics.roc_curve(Y_test, pred_Y)\n",
        "\n",
        "plt.plot(fpr,tpr)\n",
        "plt.ylabel('True Positive Rate')\n",
        "plt.xlabel('False Positive Rate')\n",
        "plt.show()"
      ],
      "metadata": {
        "colab": {
          "base_uri": "https://localhost:8080/",
          "height": 313
        },
        "id": "DHpQVBM84ygM",
        "outputId": "7fa4151f-239c-4d1f-be02-feab02d682be"
      },
      "execution_count": 26,
      "outputs": [
        {
          "output_type": "stream",
          "name": "stdout",
          "text": [
            "\n",
            " ROC AUC Score 0.5388961693548387\n"
          ]
        },
        {
          "output_type": "display_data",
          "data": {
            "text/plain": [
              "<Figure size 432x288 with 1 Axes>"
            ],
            "image/png": "[encoded data removed]"
          },
          "metadata": {
            "needs_background": "light"
          }
        }
      ]
    },
    {
      "cell_type": "markdown",
      "source": [
        "## References\n",
        "\n",
        "[1]. Nettleton, D. (2014). Selection of Variables and Factor Derivation. In Commercial Data Mining Processing, analysis and modeling for Predictive Analytics Projects. essay, Elsevier. \n",
        "\n",
        "[2]. Brownlee, J. (2020, August 27). How to use StandardScaler and MinMaxScaler transforms in Python. Machine Learning Mastery. Retrieved from https://machinelearningmastery.com/standardscaler-and-minmaxscaler-transforms-in-python/. \n",
        "\n",
        "[3]. Sklearn.preprocessing.LabelEncoder. scikit. (n.d.). Retrieved from https://scikit-learn.org/stable/modules/generated/sklearn.preprocessing.LabelEncoder.html. \n",
        "\n",
        "[4]. Brownlee, J. (2020, August 26). Train-test split for Evaluating Machine Learning Algorithms. Machine Learning Mastery. Retrieved from https://machinelearningmastery.com/train-test-split-for-evaluating-machine-learning-algorithms/. \n",
        "\n",
        "[5]. 1.10.1. Classification. scikit. (n.d.). Retrieved from https://scikit-learn.org/stable/modules/tree.html#classification. \n",
        "\n",
        "[6]. Understanding the decision tree structure. scikit. (n.d.). Retrieved from https://scikit-learn.org/stable/auto_examples/tree/plot_unveil_tree_structure.html#sphx-glr-auto-examples-tree-plot-unveil-tree-structure-py. \n",
        "\n",
        "\n",
        "[7]. Normalized Nerd. (2021, January 13). Decision tree classification clearly explained! YouTube. Retrieved from https://www.youtube.com/watch?v=ZVR2Way4nwQ. \n",
        "\n",
        "[8]. Feature Selection Techniques in Machine Learning,JavatPoint. Retrieved from https://www.javatpoint.com/feature-selection-techniques-in-machine-learning\n",
        "\n",
        "[9]. Ciortan, M. (2019, July 26), Overview of feature selection methods. Towards Data Science. Retrieved from https://towardsdatascience.com/overview-of-feature-selection-methods-a2d115c7a8f7"
      ],
      "metadata": {
        "id": "38icd--b0wrZ"
      }
    },
    {
      "cell_type": "code",
      "source": [
        ""
      ],
      "metadata": {
        "id": "dvg7rVqaOgIl"
      },
      "execution_count": null,
      "outputs": []
    }
  ]
}